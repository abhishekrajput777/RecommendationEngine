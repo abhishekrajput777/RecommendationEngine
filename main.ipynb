{
 "cells": [
  {
   "cell_type": "markdown",
   "metadata": {
    "id": "l287Jj5eV2c9"
   },
   "source": [
    "### Recommendation Engine\n",
    "This will help in recommending Mobile Phones to a user based on popularity and personalized to the user."
   ]
  },
  {
   "cell_type": "code",
   "execution_count": 1,
   "metadata": {
    "id": "lXO5f5S6X8Gl"
   },
   "outputs": [],
   "source": [
    "# Import Libraries\n",
    "import pandas as pd\n",
    "import numpy as np\n",
    "import seaborn as sns\n",
    "from matplotlib import pyplot as plt"
   ]
  },
  {
   "cell_type": "code",
   "execution_count": 2,
   "metadata": {
    "id": "ys712qOMX-1f"
   },
   "outputs": [],
   "source": [
    "#Reading Review file\n",
    "df_review_file_1 = pd.read_csv('Dataset/phone_user_review_file_1.csv', encoding='ISO-8859-1')"
   ]
  },
  {
   "cell_type": "code",
   "execution_count": 3,
   "metadata": {
    "colab": {
     "base_uri": "https://localhost:8080/",
     "height": 279
    },
    "id": "TrRtSHenYwUk",
    "outputId": "c535c1ca-4722-4456-d86c-d0235c9c4ff9"
   },
   "outputs": [
    {
     "data": {
      "text/html": [
       "<div>\n",
       "<style scoped>\n",
       "    .dataframe tbody tr th:only-of-type {\n",
       "        vertical-align: middle;\n",
       "    }\n",
       "\n",
       "    .dataframe tbody tr th {\n",
       "        vertical-align: top;\n",
       "    }\n",
       "\n",
       "    .dataframe thead th {\n",
       "        text-align: right;\n",
       "    }\n",
       "</style>\n",
       "<table border=\"1\" class=\"dataframe\">\n",
       "  <thead>\n",
       "    <tr style=\"text-align: right;\">\n",
       "      <th></th>\n",
       "      <th>phone_url</th>\n",
       "      <th>date</th>\n",
       "      <th>lang</th>\n",
       "      <th>country</th>\n",
       "      <th>source</th>\n",
       "      <th>domain</th>\n",
       "      <th>score</th>\n",
       "      <th>score_max</th>\n",
       "      <th>extract</th>\n",
       "      <th>author</th>\n",
       "      <th>product</th>\n",
       "    </tr>\n",
       "  </thead>\n",
       "  <tbody>\n",
       "    <tr>\n",
       "      <th>0</th>\n",
       "      <td>/cellphones/samsung-galaxy-s8/</td>\n",
       "      <td>5/2/2017</td>\n",
       "      <td>en</td>\n",
       "      <td>us</td>\n",
       "      <td>Verizon Wireless</td>\n",
       "      <td>verizonwireless.com</td>\n",
       "      <td>10.0</td>\n",
       "      <td>10.0</td>\n",
       "      <td>As a diehard Samsung fan who has had every Sam...</td>\n",
       "      <td>CarolAnn35</td>\n",
       "      <td>Samsung Galaxy S8</td>\n",
       "    </tr>\n",
       "    <tr>\n",
       "      <th>1</th>\n",
       "      <td>/cellphones/samsung-galaxy-s8/</td>\n",
       "      <td>4/28/2017</td>\n",
       "      <td>en</td>\n",
       "      <td>us</td>\n",
       "      <td>Phone Arena</td>\n",
       "      <td>phonearena.com</td>\n",
       "      <td>10.0</td>\n",
       "      <td>10.0</td>\n",
       "      <td>Love the phone. the phone is sleek and smooth ...</td>\n",
       "      <td>james0923</td>\n",
       "      <td>Samsung Galaxy S8</td>\n",
       "    </tr>\n",
       "    <tr>\n",
       "      <th>2</th>\n",
       "      <td>/cellphones/samsung-galaxy-s8/</td>\n",
       "      <td>5/4/2017</td>\n",
       "      <td>en</td>\n",
       "      <td>us</td>\n",
       "      <td>Amazon</td>\n",
       "      <td>amazon.com</td>\n",
       "      <td>6.0</td>\n",
       "      <td>10.0</td>\n",
       "      <td>Adequate feel. Nice heft. Processor's still sl...</td>\n",
       "      <td>R. Craig</td>\n",
       "      <td>Samsung Galaxy S8 (64GB) G950U 5.8\" 4G LTE Unl...</td>\n",
       "    </tr>\n",
       "    <tr>\n",
       "      <th>3</th>\n",
       "      <td>/cellphones/samsung-galaxy-s8/</td>\n",
       "      <td>5/2/2017</td>\n",
       "      <td>en</td>\n",
       "      <td>us</td>\n",
       "      <td>Samsung</td>\n",
       "      <td>samsung.com</td>\n",
       "      <td>9.2</td>\n",
       "      <td>10.0</td>\n",
       "      <td>Never disappointed. One of the reasons I've be...</td>\n",
       "      <td>Buster2020</td>\n",
       "      <td>Samsung Galaxy S8 64GB (AT&amp;T)</td>\n",
       "    </tr>\n",
       "    <tr>\n",
       "      <th>4</th>\n",
       "      <td>/cellphones/samsung-galaxy-s8/</td>\n",
       "      <td>5/11/2017</td>\n",
       "      <td>en</td>\n",
       "      <td>us</td>\n",
       "      <td>Verizon Wireless</td>\n",
       "      <td>verizonwireless.com</td>\n",
       "      <td>4.0</td>\n",
       "      <td>10.0</td>\n",
       "      <td>I've now found that i'm in a group of people t...</td>\n",
       "      <td>S Ate Mine</td>\n",
       "      <td>Samsung Galaxy S8</td>\n",
       "    </tr>\n",
       "  </tbody>\n",
       "</table>\n",
       "</div>"
      ],
      "text/plain": [
       "                        phone_url       date lang country            source  \\\n",
       "0  /cellphones/samsung-galaxy-s8/   5/2/2017   en      us  Verizon Wireless   \n",
       "1  /cellphones/samsung-galaxy-s8/  4/28/2017   en      us       Phone Arena   \n",
       "2  /cellphones/samsung-galaxy-s8/   5/4/2017   en      us            Amazon   \n",
       "3  /cellphones/samsung-galaxy-s8/   5/2/2017   en      us           Samsung   \n",
       "4  /cellphones/samsung-galaxy-s8/  5/11/2017   en      us  Verizon Wireless   \n",
       "\n",
       "                domain  score  score_max  \\\n",
       "0  verizonwireless.com   10.0       10.0   \n",
       "1       phonearena.com   10.0       10.0   \n",
       "2           amazon.com    6.0       10.0   \n",
       "3          samsung.com    9.2       10.0   \n",
       "4  verizonwireless.com    4.0       10.0   \n",
       "\n",
       "                                             extract       author  \\\n",
       "0  As a diehard Samsung fan who has had every Sam...   CarolAnn35   \n",
       "1  Love the phone. the phone is sleek and smooth ...    james0923   \n",
       "2  Adequate feel. Nice heft. Processor's still sl...     R. Craig   \n",
       "3  Never disappointed. One of the reasons I've be...  Buster2020    \n",
       "4  I've now found that i'm in a group of people t...   S Ate Mine   \n",
       "\n",
       "                                             product  \n",
       "0                                  Samsung Galaxy S8  \n",
       "1                                  Samsung Galaxy S8  \n",
       "2  Samsung Galaxy S8 (64GB) G950U 5.8\" 4G LTE Unl...  \n",
       "3                      Samsung Galaxy S8 64GB (AT&T)  \n",
       "4                                  Samsung Galaxy S8  "
      ]
     },
     "execution_count": 3,
     "metadata": {},
     "output_type": "execute_result"
    }
   ],
   "source": [
    "df_review_file_1.head()"
   ]
  },
  {
   "cell_type": "code",
   "execution_count": 4,
   "metadata": {
    "colab": {
     "base_uri": "https://localhost:8080/"
    },
    "id": "69JBdTSoaH1w",
    "outputId": "362b440f-68f1-4559-8496-f6bc1f7a26a8"
   },
   "outputs": [
    {
     "name": "stdout",
     "output_type": "stream",
     "text": [
      "<class 'pandas.core.frame.DataFrame'>\n",
      "RangeIndex: 374910 entries, 0 to 374909\n",
      "Data columns (total 11 columns):\n",
      " #   Column     Non-Null Count   Dtype  \n",
      "---  ------     --------------   -----  \n",
      " 0   phone_url  374910 non-null  object \n",
      " 1   date       374910 non-null  object \n",
      " 2   lang       374910 non-null  object \n",
      " 3   country    374910 non-null  object \n",
      " 4   source     374910 non-null  object \n",
      " 5   domain     374910 non-null  object \n",
      " 6   score      366691 non-null  float64\n",
      " 7   score_max  366691 non-null  float64\n",
      " 8   extract    371934 non-null  object \n",
      " 9   author     371641 non-null  object \n",
      " 10  product    374910 non-null  object \n",
      "dtypes: float64(2), object(9)\n",
      "memory usage: 31.5+ MB\n"
     ]
    }
   ],
   "source": [
    "df_review_file_1.info()"
   ]
  },
  {
   "cell_type": "code",
   "execution_count": 5,
   "metadata": {
    "id": "Ix7VHvoAYNPs"
   },
   "outputs": [],
   "source": [
    "df_review_file_2 = pd.read_csv('Dataset/phone_user_review_file_2.csv', encoding='ISO-8859-1')"
   ]
  },
  {
   "cell_type": "code",
   "execution_count": 6,
   "metadata": {
    "colab": {
     "base_uri": "https://localhost:8080/",
     "height": 279
    },
    "id": "rPPdIbOtZmK3",
    "outputId": "22d90e8e-a8c8-45ab-bb1e-170284a7fbf3"
   },
   "outputs": [
    {
     "data": {
      "text/html": [
       "<div>\n",
       "<style scoped>\n",
       "    .dataframe tbody tr th:only-of-type {\n",
       "        vertical-align: middle;\n",
       "    }\n",
       "\n",
       "    .dataframe tbody tr th {\n",
       "        vertical-align: top;\n",
       "    }\n",
       "\n",
       "    .dataframe thead th {\n",
       "        text-align: right;\n",
       "    }\n",
       "</style>\n",
       "<table border=\"1\" class=\"dataframe\">\n",
       "  <thead>\n",
       "    <tr style=\"text-align: right;\">\n",
       "      <th></th>\n",
       "      <th>phone_url</th>\n",
       "      <th>date</th>\n",
       "      <th>lang</th>\n",
       "      <th>country</th>\n",
       "      <th>source</th>\n",
       "      <th>domain</th>\n",
       "      <th>score</th>\n",
       "      <th>score_max</th>\n",
       "      <th>extract</th>\n",
       "      <th>author</th>\n",
       "      <th>product</th>\n",
       "    </tr>\n",
       "  </thead>\n",
       "  <tbody>\n",
       "    <tr>\n",
       "      <th>0</th>\n",
       "      <td>/cellphones/leagoo-lead-7/</td>\n",
       "      <td>4/15/2015</td>\n",
       "      <td>en</td>\n",
       "      <td>us</td>\n",
       "      <td>Amazon</td>\n",
       "      <td>amazon.com</td>\n",
       "      <td>2.0</td>\n",
       "      <td>10.0</td>\n",
       "      <td>The telephone headset is of poor quality , not...</td>\n",
       "      <td>luis</td>\n",
       "      <td>Leagoo Lead7 5.0 Inch HD JDI LTPS Screen 3G Sm...</td>\n",
       "    </tr>\n",
       "    <tr>\n",
       "      <th>1</th>\n",
       "      <td>/cellphones/leagoo-lead-7/</td>\n",
       "      <td>5/23/2015</td>\n",
       "      <td>en</td>\n",
       "      <td>gb</td>\n",
       "      <td>Amazon</td>\n",
       "      <td>amazon.co.uk</td>\n",
       "      <td>10.0</td>\n",
       "      <td>10.0</td>\n",
       "      <td>This is my first smartphone so I have nothing ...</td>\n",
       "      <td>Mark Lavin</td>\n",
       "      <td>Leagoo Lead 7 Lead7 MTK6582 Quad core 1GB RAM ...</td>\n",
       "    </tr>\n",
       "    <tr>\n",
       "      <th>2</th>\n",
       "      <td>/cellphones/leagoo-lead-7/</td>\n",
       "      <td>4/27/2015</td>\n",
       "      <td>en</td>\n",
       "      <td>gb</td>\n",
       "      <td>Amazon</td>\n",
       "      <td>amazon.co.uk</td>\n",
       "      <td>8.0</td>\n",
       "      <td>10.0</td>\n",
       "      <td>Great phone. Battery life not great but seems ...</td>\n",
       "      <td>tracey</td>\n",
       "      <td>Leagoo Lead 7 Lead7 MTK6582 Quad core 1GB RAM ...</td>\n",
       "    </tr>\n",
       "    <tr>\n",
       "      <th>3</th>\n",
       "      <td>/cellphones/leagoo-lead-7/</td>\n",
       "      <td>4/22/2015</td>\n",
       "      <td>en</td>\n",
       "      <td>gb</td>\n",
       "      <td>Amazon</td>\n",
       "      <td>amazon.co.uk</td>\n",
       "      <td>10.0</td>\n",
       "      <td>10.0</td>\n",
       "      <td>Best 90 quid I've ever spent on a smart phone</td>\n",
       "      <td>Reuben Ingram</td>\n",
       "      <td>Leagoo Lead 7 Lead7 MTK6582 Quad core 1GB RAM ...</td>\n",
       "    </tr>\n",
       "    <tr>\n",
       "      <th>4</th>\n",
       "      <td>/cellphones/leagoo-lead-7/</td>\n",
       "      <td>4/18/2015</td>\n",
       "      <td>en</td>\n",
       "      <td>gb</td>\n",
       "      <td>Amazon</td>\n",
       "      <td>amazon.co.uk</td>\n",
       "      <td>10.0</td>\n",
       "      <td>10.0</td>\n",
       "      <td>I m happy with this phone.it s very good.thx team</td>\n",
       "      <td>viorel</td>\n",
       "      <td>Leagoo Lead 7 Lead7 MTK6582 Quad core 1GB RAM ...</td>\n",
       "    </tr>\n",
       "  </tbody>\n",
       "</table>\n",
       "</div>"
      ],
      "text/plain": [
       "                    phone_url       date lang country  source        domain  \\\n",
       "0  /cellphones/leagoo-lead-7/  4/15/2015   en      us  Amazon    amazon.com   \n",
       "1  /cellphones/leagoo-lead-7/  5/23/2015   en      gb  Amazon  amazon.co.uk   \n",
       "2  /cellphones/leagoo-lead-7/  4/27/2015   en      gb  Amazon  amazon.co.uk   \n",
       "3  /cellphones/leagoo-lead-7/  4/22/2015   en      gb  Amazon  amazon.co.uk   \n",
       "4  /cellphones/leagoo-lead-7/  4/18/2015   en      gb  Amazon  amazon.co.uk   \n",
       "\n",
       "   score  score_max                                            extract  \\\n",
       "0    2.0       10.0  The telephone headset is of poor quality , not...   \n",
       "1   10.0       10.0  This is my first smartphone so I have nothing ...   \n",
       "2    8.0       10.0  Great phone. Battery life not great but seems ...   \n",
       "3   10.0       10.0      Best 90 quid I've ever spent on a smart phone   \n",
       "4   10.0       10.0  I m happy with this phone.it s very good.thx team   \n",
       "\n",
       "          author                                            product  \n",
       "0           luis  Leagoo Lead7 5.0 Inch HD JDI LTPS Screen 3G Sm...  \n",
       "1     Mark Lavin  Leagoo Lead 7 Lead7 MTK6582 Quad core 1GB RAM ...  \n",
       "2         tracey  Leagoo Lead 7 Lead7 MTK6582 Quad core 1GB RAM ...  \n",
       "3  Reuben Ingram  Leagoo Lead 7 Lead7 MTK6582 Quad core 1GB RAM ...  \n",
       "4         viorel  Leagoo Lead 7 Lead7 MTK6582 Quad core 1GB RAM ...  "
      ]
     },
     "execution_count": 6,
     "metadata": {},
     "output_type": "execute_result"
    }
   ],
   "source": [
    "df_review_file_2.head()"
   ]
  },
  {
   "cell_type": "code",
   "execution_count": 7,
   "metadata": {
    "colab": {
     "base_uri": "https://localhost:8080/"
    },
    "id": "NGdRhPQsaQcU",
    "outputId": "c948914c-c528-4a3b-9ffa-f204857223c5"
   },
   "outputs": [
    {
     "name": "stdout",
     "output_type": "stream",
     "text": [
      "<class 'pandas.core.frame.DataFrame'>\n",
      "RangeIndex: 114925 entries, 0 to 114924\n",
      "Data columns (total 11 columns):\n",
      " #   Column     Non-Null Count   Dtype  \n",
      "---  ------     --------------   -----  \n",
      " 0   phone_url  114925 non-null  object \n",
      " 1   date       114925 non-null  object \n",
      " 2   lang       114925 non-null  object \n",
      " 3   country    114925 non-null  object \n",
      " 4   source     114925 non-null  object \n",
      " 5   domain     114925 non-null  object \n",
      " 6   score      112166 non-null  float64\n",
      " 7   score_max  112166 non-null  float64\n",
      " 8   extract    113965 non-null  object \n",
      " 9   author     113290 non-null  object \n",
      " 10  product    114925 non-null  object \n",
      "dtypes: float64(2), object(9)\n",
      "memory usage: 9.6+ MB\n"
     ]
    }
   ],
   "source": [
    "df_review_file_2.info()"
   ]
  },
  {
   "cell_type": "code",
   "execution_count": 8,
   "metadata": {
    "id": "R3eO2WPwZPI7"
   },
   "outputs": [],
   "source": [
    "df_review_file_3 = pd.read_csv('Dataset/phone_user_review_file_3.csv', encoding='ISO-8859-1')"
   ]
  },
  {
   "cell_type": "code",
   "execution_count": 9,
   "metadata": {
    "colab": {
     "base_uri": "https://localhost:8080/",
     "height": 279
    },
    "id": "ed3Z-yboZr70",
    "outputId": "1b9f21e0-5059-499f-d6bc-d714f12a3326"
   },
   "outputs": [
    {
     "data": {
      "text/html": [
       "<div>\n",
       "<style scoped>\n",
       "    .dataframe tbody tr th:only-of-type {\n",
       "        vertical-align: middle;\n",
       "    }\n",
       "\n",
       "    .dataframe tbody tr th {\n",
       "        vertical-align: top;\n",
       "    }\n",
       "\n",
       "    .dataframe thead th {\n",
       "        text-align: right;\n",
       "    }\n",
       "</style>\n",
       "<table border=\"1\" class=\"dataframe\">\n",
       "  <thead>\n",
       "    <tr style=\"text-align: right;\">\n",
       "      <th></th>\n",
       "      <th>phone_url</th>\n",
       "      <th>date</th>\n",
       "      <th>lang</th>\n",
       "      <th>country</th>\n",
       "      <th>source</th>\n",
       "      <th>domain</th>\n",
       "      <th>score</th>\n",
       "      <th>score_max</th>\n",
       "      <th>extract</th>\n",
       "      <th>author</th>\n",
       "      <th>product</th>\n",
       "    </tr>\n",
       "  </thead>\n",
       "  <tbody>\n",
       "    <tr>\n",
       "      <th>0</th>\n",
       "      <td>/cellphones/samsung-galaxy-s-iii-slim-sm-g3812/</td>\n",
       "      <td>11/7/2015</td>\n",
       "      <td>pt</td>\n",
       "      <td>br</td>\n",
       "      <td>Submarino</td>\n",
       "      <td>submarino.com.br</td>\n",
       "      <td>6.0</td>\n",
       "      <td>10.0</td>\n",
       "      <td>recomendo, eu comprei um, a um ano, e agora co...</td>\n",
       "      <td>herlington tesch</td>\n",
       "      <td>Samsung Smartphone Samsung Galaxy S3 Slim G381...</td>\n",
       "    </tr>\n",
       "    <tr>\n",
       "      <th>1</th>\n",
       "      <td>/cellphones/samsung-galaxy-s-iii-slim-sm-g3812/</td>\n",
       "      <td>10/2/2015</td>\n",
       "      <td>pt</td>\n",
       "      <td>br</td>\n",
       "      <td>Submarino</td>\n",
       "      <td>submarino.com.br</td>\n",
       "      <td>10.0</td>\n",
       "      <td>10.0</td>\n",
       "      <td>Comprei um pouco desconfiada do site e do celu...</td>\n",
       "      <td>Luisa Silva Marieta</td>\n",
       "      <td>Samsung Smartphone Samsung Galaxy S3 Slim G381...</td>\n",
       "    </tr>\n",
       "    <tr>\n",
       "      <th>2</th>\n",
       "      <td>/cellphones/samsung-galaxy-s-iii-slim-sm-g3812/</td>\n",
       "      <td>9/2/2015</td>\n",
       "      <td>pt</td>\n",
       "      <td>br</td>\n",
       "      <td>Submarino</td>\n",
       "      <td>submarino.com.br</td>\n",
       "      <td>10.0</td>\n",
       "      <td>10.0</td>\n",
       "      <td>Muito bom o produto, obvio que tem versÃµes me...</td>\n",
       "      <td>Cyrus</td>\n",
       "      <td>Samsung Smartphone Samsung Galaxy S3 Slim G381...</td>\n",
       "    </tr>\n",
       "    <tr>\n",
       "      <th>3</th>\n",
       "      <td>/cellphones/samsung-galaxy-s-iii-slim-sm-g3812/</td>\n",
       "      <td>9/2/2015</td>\n",
       "      <td>pt</td>\n",
       "      <td>br</td>\n",
       "      <td>Submarino</td>\n",
       "      <td>submarino.com.br</td>\n",
       "      <td>8.0</td>\n",
       "      <td>10.0</td>\n",
       "      <td>Unica ressalva fica para a camera que poderia ...</td>\n",
       "      <td>Marcela Santa Clara Brito</td>\n",
       "      <td>Samsung Smartphone Samsung Galaxy S3 Slim G381...</td>\n",
       "    </tr>\n",
       "    <tr>\n",
       "      <th>4</th>\n",
       "      <td>/cellphones/samsung-galaxy-s-iii-slim-sm-g3812/</td>\n",
       "      <td>9/1/2015</td>\n",
       "      <td>pt</td>\n",
       "      <td>br</td>\n",
       "      <td>Colombo</td>\n",
       "      <td>colombo.com.br</td>\n",
       "      <td>8.0</td>\n",
       "      <td>10.0</td>\n",
       "      <td>Rapidez e atenÃ§Ã£o na entrega. O aparelho Ã© ...</td>\n",
       "      <td>Claudine Maria Kuhn Walendorff</td>\n",
       "      <td>Smartphone Samsung Galaxy S3 Slim, Dual Chip, ...</td>\n",
       "    </tr>\n",
       "  </tbody>\n",
       "</table>\n",
       "</div>"
      ],
      "text/plain": [
       "                                         phone_url       date lang country  \\\n",
       "0  /cellphones/samsung-galaxy-s-iii-slim-sm-g3812/  11/7/2015   pt      br   \n",
       "1  /cellphones/samsung-galaxy-s-iii-slim-sm-g3812/  10/2/2015   pt      br   \n",
       "2  /cellphones/samsung-galaxy-s-iii-slim-sm-g3812/   9/2/2015   pt      br   \n",
       "3  /cellphones/samsung-galaxy-s-iii-slim-sm-g3812/   9/2/2015   pt      br   \n",
       "4  /cellphones/samsung-galaxy-s-iii-slim-sm-g3812/   9/1/2015   pt      br   \n",
       "\n",
       "      source            domain  score  score_max  \\\n",
       "0  Submarino  submarino.com.br    6.0       10.0   \n",
       "1  Submarino  submarino.com.br   10.0       10.0   \n",
       "2  Submarino  submarino.com.br   10.0       10.0   \n",
       "3  Submarino  submarino.com.br    8.0       10.0   \n",
       "4    Colombo    colombo.com.br    8.0       10.0   \n",
       "\n",
       "                                             extract  \\\n",
       "0  recomendo, eu comprei um, a um ano, e agora co...   \n",
       "1  Comprei um pouco desconfiada do site e do celu...   \n",
       "2  Muito bom o produto, obvio que tem versÃµes me...   \n",
       "3  Unica ressalva fica para a camera que poderia ...   \n",
       "4  Rapidez e atenÃ§Ã£o na entrega. O aparelho Ã© ...   \n",
       "\n",
       "                           author  \\\n",
       "0                herlington tesch   \n",
       "1             Luisa Silva Marieta   \n",
       "2                           Cyrus   \n",
       "3       Marcela Santa Clara Brito   \n",
       "4  Claudine Maria Kuhn Walendorff   \n",
       "\n",
       "                                             product  \n",
       "0  Samsung Smartphone Samsung Galaxy S3 Slim G381...  \n",
       "1  Samsung Smartphone Samsung Galaxy S3 Slim G381...  \n",
       "2  Samsung Smartphone Samsung Galaxy S3 Slim G381...  \n",
       "3  Samsung Smartphone Samsung Galaxy S3 Slim G381...  \n",
       "4  Smartphone Samsung Galaxy S3 Slim, Dual Chip, ...  "
      ]
     },
     "execution_count": 9,
     "metadata": {},
     "output_type": "execute_result"
    }
   ],
   "source": [
    "df_review_file_3.head()"
   ]
  },
  {
   "cell_type": "code",
   "execution_count": 10,
   "metadata": {
    "colab": {
     "base_uri": "https://localhost:8080/"
    },
    "id": "eN3J2AvsaYtf",
    "outputId": "3aa68e1c-45fa-43a3-ac93-a45d1950b3dd"
   },
   "outputs": [
    {
     "name": "stdout",
     "output_type": "stream",
     "text": [
      "<class 'pandas.core.frame.DataFrame'>\n",
      "RangeIndex: 312961 entries, 0 to 312960\n",
      "Data columns (total 11 columns):\n",
      " #   Column     Non-Null Count   Dtype  \n",
      "---  ------     --------------   -----  \n",
      " 0   phone_url  312961 non-null  object \n",
      " 1   date       312961 non-null  object \n",
      " 2   lang       312961 non-null  object \n",
      " 3   country    312961 non-null  object \n",
      " 4   source     312961 non-null  object \n",
      " 5   domain     312961 non-null  object \n",
      " 6   score      304933 non-null  float64\n",
      " 7   score_max  304933 non-null  float64\n",
      " 8   extract    310231 non-null  object \n",
      " 9   author     302173 non-null  object \n",
      " 10  product    312960 non-null  object \n",
      "dtypes: float64(2), object(9)\n",
      "memory usage: 26.3+ MB\n"
     ]
    }
   ],
   "source": [
    "df_review_file_3.info()"
   ]
  },
  {
   "cell_type": "code",
   "execution_count": 11,
   "metadata": {
    "id": "ETFR9mHKZQEv"
   },
   "outputs": [],
   "source": [
    "df_review_file_4 = pd.read_csv('Dataset/phone_user_review_file_4.csv', encoding='ISO-8859-1')"
   ]
  },
  {
   "cell_type": "code",
   "execution_count": 12,
   "metadata": {
    "colab": {
     "base_uri": "https://localhost:8080/",
     "height": 279
    },
    "id": "X8Zx6hq5ZwrI",
    "outputId": "b976c23b-0d13-4572-88a2-4bbdb8240d00"
   },
   "outputs": [
    {
     "data": {
      "text/html": [
       "<div>\n",
       "<style scoped>\n",
       "    .dataframe tbody tr th:only-of-type {\n",
       "        vertical-align: middle;\n",
       "    }\n",
       "\n",
       "    .dataframe tbody tr th {\n",
       "        vertical-align: top;\n",
       "    }\n",
       "\n",
       "    .dataframe thead th {\n",
       "        text-align: right;\n",
       "    }\n",
       "</style>\n",
       "<table border=\"1\" class=\"dataframe\">\n",
       "  <thead>\n",
       "    <tr style=\"text-align: right;\">\n",
       "      <th></th>\n",
       "      <th>phone_url</th>\n",
       "      <th>date</th>\n",
       "      <th>lang</th>\n",
       "      <th>country</th>\n",
       "      <th>source</th>\n",
       "      <th>domain</th>\n",
       "      <th>score</th>\n",
       "      <th>score_max</th>\n",
       "      <th>extract</th>\n",
       "      <th>author</th>\n",
       "      <th>product</th>\n",
       "    </tr>\n",
       "  </thead>\n",
       "  <tbody>\n",
       "    <tr>\n",
       "      <th>0</th>\n",
       "      <td>/cellphones/samsung-s7262-duos-galaxy-ace/</td>\n",
       "      <td>3/11/2015</td>\n",
       "      <td>en</td>\n",
       "      <td>us</td>\n",
       "      <td>Amazon</td>\n",
       "      <td>amazon.com</td>\n",
       "      <td>2.0</td>\n",
       "      <td>10.0</td>\n",
       "      <td>was not conpatable with my phone as stated. I ...</td>\n",
       "      <td>Frances DeSimone</td>\n",
       "      <td>Samsung Galaxy Star Pro DUOS S7262 Unlocked Ce...</td>\n",
       "    </tr>\n",
       "    <tr>\n",
       "      <th>1</th>\n",
       "      <td>/cellphones/samsung-s7262-duos-galaxy-ace/</td>\n",
       "      <td>17/11/2015</td>\n",
       "      <td>en</td>\n",
       "      <td>in</td>\n",
       "      <td>Zopper</td>\n",
       "      <td>zopper.com</td>\n",
       "      <td>10.0</td>\n",
       "      <td>10.0</td>\n",
       "      <td>Decent Functions and Easy to Operate Pros:- Th...</td>\n",
       "      <td>Expert Review</td>\n",
       "      <td>Samsung Galaxy Star Pro S7262 Black</td>\n",
       "    </tr>\n",
       "    <tr>\n",
       "      <th>2</th>\n",
       "      <td>/cellphones/samsung-s7262-duos-galaxy-ace/</td>\n",
       "      <td>29/10/2015</td>\n",
       "      <td>en</td>\n",
       "      <td>in</td>\n",
       "      <td>Amazon</td>\n",
       "      <td>amazon.in</td>\n",
       "      <td>4.0</td>\n",
       "      <td>10.0</td>\n",
       "      <td>Not Good Phone such price. Hang too much and v...</td>\n",
       "      <td>Amazon Customer</td>\n",
       "      <td>Samsung Galaxy Star Pro GT-S7262 (Midnight Black)</td>\n",
       "    </tr>\n",
       "    <tr>\n",
       "      <th>3</th>\n",
       "      <td>/cellphones/samsung-s7262-duos-galaxy-ace/</td>\n",
       "      <td>29/10/2015</td>\n",
       "      <td>en</td>\n",
       "      <td>in</td>\n",
       "      <td>Amazon</td>\n",
       "      <td>amazon.in</td>\n",
       "      <td>6.0</td>\n",
       "      <td>10.0</td>\n",
       "      <td>not bad for features</td>\n",
       "      <td>Amazon Customer</td>\n",
       "      <td>Samsung Galaxy Star Pro GT-S7262 (Midnight Black)</td>\n",
       "    </tr>\n",
       "    <tr>\n",
       "      <th>4</th>\n",
       "      <td>/cellphones/samsung-s7262-duos-galaxy-ace/</td>\n",
       "      <td>29/10/2015</td>\n",
       "      <td>en</td>\n",
       "      <td>in</td>\n",
       "      <td>Amazon</td>\n",
       "      <td>amazon.in</td>\n",
       "      <td>10.0</td>\n",
       "      <td>10.0</td>\n",
       "      <td>Excellent product</td>\n",
       "      <td>NHK</td>\n",
       "      <td>Samsung Galaxy Star Pro GT-S7262 (Midnight Black)</td>\n",
       "    </tr>\n",
       "  </tbody>\n",
       "</table>\n",
       "</div>"
      ],
      "text/plain": [
       "                                    phone_url        date lang country  \\\n",
       "0  /cellphones/samsung-s7262-duos-galaxy-ace/   3/11/2015   en      us   \n",
       "1  /cellphones/samsung-s7262-duos-galaxy-ace/  17/11/2015   en      in   \n",
       "2  /cellphones/samsung-s7262-duos-galaxy-ace/  29/10/2015   en      in   \n",
       "3  /cellphones/samsung-s7262-duos-galaxy-ace/  29/10/2015   en      in   \n",
       "4  /cellphones/samsung-s7262-duos-galaxy-ace/  29/10/2015   en      in   \n",
       "\n",
       "   source      domain  score  score_max  \\\n",
       "0  Amazon  amazon.com    2.0       10.0   \n",
       "1  Zopper  zopper.com   10.0       10.0   \n",
       "2  Amazon   amazon.in    4.0       10.0   \n",
       "3  Amazon   amazon.in    6.0       10.0   \n",
       "4  Amazon   amazon.in   10.0       10.0   \n",
       "\n",
       "                                             extract            author  \\\n",
       "0  was not conpatable with my phone as stated. I ...  Frances DeSimone   \n",
       "1  Decent Functions and Easy to Operate Pros:- Th...     Expert Review   \n",
       "2  Not Good Phone such price. Hang too much and v...   Amazon Customer   \n",
       "3                               not bad for features   Amazon Customer   \n",
       "4                                  Excellent product               NHK   \n",
       "\n",
       "                                             product  \n",
       "0  Samsung Galaxy Star Pro DUOS S7262 Unlocked Ce...  \n",
       "1                Samsung Galaxy Star Pro S7262 Black  \n",
       "2  Samsung Galaxy Star Pro GT-S7262 (Midnight Black)  \n",
       "3  Samsung Galaxy Star Pro GT-S7262 (Midnight Black)  \n",
       "4  Samsung Galaxy Star Pro GT-S7262 (Midnight Black)  "
      ]
     },
     "execution_count": 12,
     "metadata": {},
     "output_type": "execute_result"
    }
   ],
   "source": [
    "df_review_file_4.head()"
   ]
  },
  {
   "cell_type": "code",
   "execution_count": 13,
   "metadata": {
    "colab": {
     "base_uri": "https://localhost:8080/"
    },
    "id": "43thYd_OaiMT",
    "outputId": "5615f38c-c751-4449-ac3d-9ffa84c216d8"
   },
   "outputs": [
    {
     "name": "stdout",
     "output_type": "stream",
     "text": [
      "<class 'pandas.core.frame.DataFrame'>\n",
      "RangeIndex: 98284 entries, 0 to 98283\n",
      "Data columns (total 11 columns):\n",
      " #   Column     Non-Null Count  Dtype  \n",
      "---  ------     --------------  -----  \n",
      " 0   phone_url  98284 non-null  object \n",
      " 1   date       98284 non-null  object \n",
      " 2   lang       98284 non-null  object \n",
      " 3   country    98284 non-null  object \n",
      " 4   source     98284 non-null  object \n",
      " 5   domain     98284 non-null  object \n",
      " 6   score      93706 non-null  float64\n",
      " 7   score_max  93706 non-null  float64\n",
      " 8   extract    96857 non-null  object \n",
      " 9   author     92696 non-null  object \n",
      " 10  product    98284 non-null  object \n",
      "dtypes: float64(2), object(9)\n",
      "memory usage: 8.2+ MB\n"
     ]
    }
   ],
   "source": [
    "df_review_file_4.info()"
   ]
  },
  {
   "cell_type": "code",
   "execution_count": 14,
   "metadata": {
    "id": "MGfd5Q8qZPLy"
   },
   "outputs": [],
   "source": [
    "df_review_file_5 = pd.read_csv('Dataset/phone_user_review_file_5.csv', encoding='ISO-8859-1')"
   ]
  },
  {
   "cell_type": "code",
   "execution_count": 15,
   "metadata": {
    "colab": {
     "base_uri": "https://localhost:8080/",
     "height": 195
    },
    "id": "jlQWumCaZzEW",
    "outputId": "a7e7bfaa-85ee-4eac-f931-4652b783ae17"
   },
   "outputs": [
    {
     "data": {
      "text/html": [
       "<div>\n",
       "<style scoped>\n",
       "    .dataframe tbody tr th:only-of-type {\n",
       "        vertical-align: middle;\n",
       "    }\n",
       "\n",
       "    .dataframe tbody tr th {\n",
       "        vertical-align: top;\n",
       "    }\n",
       "\n",
       "    .dataframe thead th {\n",
       "        text-align: right;\n",
       "    }\n",
       "</style>\n",
       "<table border=\"1\" class=\"dataframe\">\n",
       "  <thead>\n",
       "    <tr style=\"text-align: right;\">\n",
       "      <th></th>\n",
       "      <th>phone_url</th>\n",
       "      <th>date</th>\n",
       "      <th>lang</th>\n",
       "      <th>country</th>\n",
       "      <th>source</th>\n",
       "      <th>domain</th>\n",
       "      <th>score</th>\n",
       "      <th>score_max</th>\n",
       "      <th>extract</th>\n",
       "      <th>author</th>\n",
       "      <th>product</th>\n",
       "    </tr>\n",
       "  </thead>\n",
       "  <tbody>\n",
       "    <tr>\n",
       "      <th>0</th>\n",
       "      <td>/cellphones/karbonn-k1616/</td>\n",
       "      <td>7/13/2016</td>\n",
       "      <td>en</td>\n",
       "      <td>in</td>\n",
       "      <td>91 Mobiles</td>\n",
       "      <td>91mobiles.com</td>\n",
       "      <td>2.0</td>\n",
       "      <td>10.0</td>\n",
       "      <td>I bought 1 month before. currently speaker is ...</td>\n",
       "      <td>venkatesh</td>\n",
       "      <td>Karbonn K1616</td>\n",
       "    </tr>\n",
       "    <tr>\n",
       "      <th>1</th>\n",
       "      <td>/cellphones/karbonn-k1616/</td>\n",
       "      <td>7/13/2016</td>\n",
       "      <td>en</td>\n",
       "      <td>in</td>\n",
       "      <td>91 Mobiles</td>\n",
       "      <td>91mobiles.com</td>\n",
       "      <td>6.0</td>\n",
       "      <td>10.0</td>\n",
       "      <td>I just bought one week back, I have Airtel con...</td>\n",
       "      <td>Venkat</td>\n",
       "      <td>Karbonn K1616</td>\n",
       "    </tr>\n",
       "    <tr>\n",
       "      <th>2</th>\n",
       "      <td>/cellphones/karbonn-k1616/</td>\n",
       "      <td>7/13/2016</td>\n",
       "      <td>en</td>\n",
       "      <td>in</td>\n",
       "      <td>91 Mobiles</td>\n",
       "      <td>91mobiles.com</td>\n",
       "      <td>4.0</td>\n",
       "      <td>10.0</td>\n",
       "      <td>one problem in this handset opera is not worki...</td>\n",
       "      <td>krrish</td>\n",
       "      <td>Karbonn K1616</td>\n",
       "    </tr>\n",
       "    <tr>\n",
       "      <th>3</th>\n",
       "      <td>/cellphones/karbonn-k1616/</td>\n",
       "      <td>4/25/2014</td>\n",
       "      <td>en</td>\n",
       "      <td>in</td>\n",
       "      <td>Naaptol</td>\n",
       "      <td>naaptol.com</td>\n",
       "      <td>10.0</td>\n",
       "      <td>10.0</td>\n",
       "      <td>here Karbonn comes up with an another excellen...</td>\n",
       "      <td>BRIJESH CHAUHAN</td>\n",
       "      <td>Karbonn K1616 - Black</td>\n",
       "    </tr>\n",
       "    <tr>\n",
       "      <th>4</th>\n",
       "      <td>/cellphones/karbonn-k1616/</td>\n",
       "      <td>4/23/2013</td>\n",
       "      <td>en</td>\n",
       "      <td>in</td>\n",
       "      <td>Naaptol</td>\n",
       "      <td>naaptol.com</td>\n",
       "      <td>10.0</td>\n",
       "      <td>10.0</td>\n",
       "      <td>What a phone, all so on Naaptol my god 23% off...</td>\n",
       "      <td>Suraj CHAUHAN</td>\n",
       "      <td>Karbonn K1616 - Black</td>\n",
       "    </tr>\n",
       "  </tbody>\n",
       "</table>\n",
       "</div>"
      ],
      "text/plain": [
       "                    phone_url       date lang country      source  \\\n",
       "0  /cellphones/karbonn-k1616/  7/13/2016   en      in  91 Mobiles   \n",
       "1  /cellphones/karbonn-k1616/  7/13/2016   en      in  91 Mobiles   \n",
       "2  /cellphones/karbonn-k1616/  7/13/2016   en      in  91 Mobiles   \n",
       "3  /cellphones/karbonn-k1616/  4/25/2014   en      in     Naaptol   \n",
       "4  /cellphones/karbonn-k1616/  4/23/2013   en      in     Naaptol   \n",
       "\n",
       "          domain  score  score_max  \\\n",
       "0  91mobiles.com    2.0       10.0   \n",
       "1  91mobiles.com    6.0       10.0   \n",
       "2  91mobiles.com    4.0       10.0   \n",
       "3    naaptol.com   10.0       10.0   \n",
       "4    naaptol.com   10.0       10.0   \n",
       "\n",
       "                                             extract           author  \\\n",
       "0  I bought 1 month before. currently speaker is ...        venkatesh   \n",
       "1  I just bought one week back, I have Airtel con...           Venkat   \n",
       "2  one problem in this handset opera is not worki...           krrish   \n",
       "3  here Karbonn comes up with an another excellen...  BRIJESH CHAUHAN   \n",
       "4  What a phone, all so on Naaptol my god 23% off...    Suraj CHAUHAN   \n",
       "\n",
       "                 product  \n",
       "0          Karbonn K1616  \n",
       "1          Karbonn K1616  \n",
       "2          Karbonn K1616  \n",
       "3  Karbonn K1616 - Black  \n",
       "4  Karbonn K1616 - Black  "
      ]
     },
     "execution_count": 15,
     "metadata": {},
     "output_type": "execute_result"
    }
   ],
   "source": [
    "df_review_file_5.head()"
   ]
  },
  {
   "cell_type": "code",
   "execution_count": 16,
   "metadata": {
    "colab": {
     "base_uri": "https://localhost:8080/"
    },
    "id": "4JaAX8gNanVs",
    "outputId": "8997a88c-6c02-4982-b600-8a6c77f4addb"
   },
   "outputs": [
    {
     "name": "stdout",
     "output_type": "stream",
     "text": [
      "<class 'pandas.core.frame.DataFrame'>\n",
      "RangeIndex: 350216 entries, 0 to 350215\n",
      "Data columns (total 11 columns):\n",
      " #   Column     Non-Null Count   Dtype  \n",
      "---  ------     --------------   -----  \n",
      " 0   phone_url  350216 non-null  object \n",
      " 1   date       350216 non-null  object \n",
      " 2   lang       350216 non-null  object \n",
      " 3   country    350216 non-null  object \n",
      " 4   source     350216 non-null  object \n",
      " 5   domain     350216 non-null  object \n",
      " 6   score      321983 non-null  float64\n",
      " 7   score_max  321983 non-null  float64\n",
      " 8   extract    341836 non-null  object \n",
      " 9   author     321351 non-null  object \n",
      " 10  product    350216 non-null  object \n",
      "dtypes: float64(2), object(9)\n",
      "memory usage: 29.4+ MB\n"
     ]
    }
   ],
   "source": [
    "df_review_file_5.info()"
   ]
  },
  {
   "cell_type": "code",
   "execution_count": 17,
   "metadata": {
    "id": "m7IzlMYkZPPH"
   },
   "outputs": [],
   "source": [
    "df_review_file_6 = pd.read_csv('Dataset/phone_user_review_file_6.csv', encoding='ISO-8859-1')"
   ]
  },
  {
   "cell_type": "code",
   "execution_count": 18,
   "metadata": {
    "colab": {
     "base_uri": "https://localhost:8080/",
     "height": 279
    },
    "id": "scQymYdYZlWY",
    "outputId": "be9e6a6e-9d71-43aa-ee5b-81b359ce9b0a"
   },
   "outputs": [
    {
     "data": {
      "text/html": [
       "<div>\n",
       "<style scoped>\n",
       "    .dataframe tbody tr th:only-of-type {\n",
       "        vertical-align: middle;\n",
       "    }\n",
       "\n",
       "    .dataframe tbody tr th {\n",
       "        vertical-align: top;\n",
       "    }\n",
       "\n",
       "    .dataframe thead th {\n",
       "        text-align: right;\n",
       "    }\n",
       "</style>\n",
       "<table border=\"1\" class=\"dataframe\">\n",
       "  <thead>\n",
       "    <tr style=\"text-align: right;\">\n",
       "      <th></th>\n",
       "      <th>phone_url</th>\n",
       "      <th>date</th>\n",
       "      <th>lang</th>\n",
       "      <th>country</th>\n",
       "      <th>source</th>\n",
       "      <th>domain</th>\n",
       "      <th>score</th>\n",
       "      <th>score_max</th>\n",
       "      <th>extract</th>\n",
       "      <th>author</th>\n",
       "      <th>product</th>\n",
       "    </tr>\n",
       "  </thead>\n",
       "  <tbody>\n",
       "    <tr>\n",
       "      <th>0</th>\n",
       "      <td>/cellphones/samsung-instinct-sph-m800/</td>\n",
       "      <td>9/16/2011</td>\n",
       "      <td>en</td>\n",
       "      <td>us</td>\n",
       "      <td>Phone Arena</td>\n",
       "      <td>phonearena.com</td>\n",
       "      <td>8.0</td>\n",
       "      <td>10.0</td>\n",
       "      <td>I've had the phone for awhile and it's a prett...</td>\n",
       "      <td>ajabrams95</td>\n",
       "      <td>Samsung Instinct HD</td>\n",
       "    </tr>\n",
       "    <tr>\n",
       "      <th>1</th>\n",
       "      <td>/cellphones/samsung-instinct-sph-m800/</td>\n",
       "      <td>2/13/2014</td>\n",
       "      <td>en</td>\n",
       "      <td>us</td>\n",
       "      <td>Amazon</td>\n",
       "      <td>amazon.com</td>\n",
       "      <td>6.0</td>\n",
       "      <td>10.0</td>\n",
       "      <td>to be clear it is not the sellers fault that t...</td>\n",
       "      <td>Stephanie</td>\n",
       "      <td>Samsung SPH M800 Instinct</td>\n",
       "    </tr>\n",
       "    <tr>\n",
       "      <th>2</th>\n",
       "      <td>/cellphones/samsung-instinct-sph-m800/</td>\n",
       "      <td>12/30/2011</td>\n",
       "      <td>en</td>\n",
       "      <td>us</td>\n",
       "      <td>Phone Scoop</td>\n",
       "      <td>phonescoop.com</td>\n",
       "      <td>9.0</td>\n",
       "      <td>10.0</td>\n",
       "      <td>Well i love this phone. i have had ton of phon...</td>\n",
       "      <td>snickers</td>\n",
       "      <td>Instinct M800</td>\n",
       "    </tr>\n",
       "    <tr>\n",
       "      <th>3</th>\n",
       "      <td>/cellphones/samsung-instinct-sph-m800/</td>\n",
       "      <td>10/18/2008</td>\n",
       "      <td>en</td>\n",
       "      <td>us</td>\n",
       "      <td>HandCellPhone</td>\n",
       "      <td>handcellphone.com</td>\n",
       "      <td>4.0</td>\n",
       "      <td>10.0</td>\n",
       "      <td>I have had my Instinct for several months now ...</td>\n",
       "      <td>A4C</td>\n",
       "      <td>Samsung Instinct</td>\n",
       "    </tr>\n",
       "    <tr>\n",
       "      <th>4</th>\n",
       "      <td>/cellphones/samsung-instinct-sph-m800/</td>\n",
       "      <td>9/6/2008</td>\n",
       "      <td>en</td>\n",
       "      <td>us</td>\n",
       "      <td>Reviewed.com</td>\n",
       "      <td>reviewed.com</td>\n",
       "      <td>6.0</td>\n",
       "      <td>10.0</td>\n",
       "      <td>i have had this instinct phone for about two m...</td>\n",
       "      <td>betaBgood</td>\n",
       "      <td>Samsung Instinct</td>\n",
       "    </tr>\n",
       "  </tbody>\n",
       "</table>\n",
       "</div>"
      ],
      "text/plain": [
       "                                phone_url        date lang country  \\\n",
       "0  /cellphones/samsung-instinct-sph-m800/   9/16/2011   en      us   \n",
       "1  /cellphones/samsung-instinct-sph-m800/   2/13/2014   en      us   \n",
       "2  /cellphones/samsung-instinct-sph-m800/  12/30/2011   en      us   \n",
       "3  /cellphones/samsung-instinct-sph-m800/  10/18/2008   en      us   \n",
       "4  /cellphones/samsung-instinct-sph-m800/    9/6/2008   en      us   \n",
       "\n",
       "          source             domain  score  score_max  \\\n",
       "0    Phone Arena     phonearena.com    8.0       10.0   \n",
       "1         Amazon         amazon.com    6.0       10.0   \n",
       "2    Phone Scoop     phonescoop.com    9.0       10.0   \n",
       "3  HandCellPhone  handcellphone.com    4.0       10.0   \n",
       "4   Reviewed.com       reviewed.com    6.0       10.0   \n",
       "\n",
       "                                             extract      author  \\\n",
       "0  I've had the phone for awhile and it's a prett...  ajabrams95   \n",
       "1  to be clear it is not the sellers fault that t...   Stephanie   \n",
       "2  Well i love this phone. i have had ton of phon...    snickers   \n",
       "3  I have had my Instinct for several months now ...         A4C   \n",
       "4  i have had this instinct phone for about two m...   betaBgood   \n",
       "\n",
       "                     product  \n",
       "0        Samsung Instinct HD  \n",
       "1  Samsung SPH M800 Instinct  \n",
       "2              Instinct M800  \n",
       "3           Samsung Instinct  \n",
       "4           Samsung Instinct  "
      ]
     },
     "execution_count": 18,
     "metadata": {},
     "output_type": "execute_result"
    }
   ],
   "source": [
    "df_review_file_6.head()"
   ]
  },
  {
   "cell_type": "code",
   "execution_count": 19,
   "metadata": {
    "colab": {
     "base_uri": "https://localhost:8080/"
    },
    "id": "zA04A3CNZ2CO",
    "outputId": "23dc2601-570b-4e0b-f18a-0ef1262df4e5"
   },
   "outputs": [
    {
     "name": "stdout",
     "output_type": "stream",
     "text": [
      "<class 'pandas.core.frame.DataFrame'>\n",
      "RangeIndex: 163837 entries, 0 to 163836\n",
      "Data columns (total 11 columns):\n",
      " #   Column     Non-Null Count   Dtype  \n",
      "---  ------     --------------   -----  \n",
      " 0   phone_url  163837 non-null  object \n",
      " 1   date       163837 non-null  object \n",
      " 2   lang       163837 non-null  object \n",
      " 3   country    163837 non-null  object \n",
      " 4   source     163837 non-null  object \n",
      " 5   domain     163837 non-null  object \n",
      " 6   score      152165 non-null  float64\n",
      " 7   score_max  152165 non-null  float64\n",
      " 8   extract    160949 non-null  object \n",
      " 9   author     150780 non-null  object \n",
      " 10  product    163837 non-null  object \n",
      "dtypes: float64(2), object(9)\n",
      "memory usage: 13.7+ MB\n"
     ]
    }
   ],
   "source": [
    "df_review_file_6.info()"
   ]
  },
  {
   "cell_type": "markdown",
   "metadata": {
    "id": "8tzg-0bedhaP"
   },
   "source": [
    "#### Observations:\n",
    "1. All 6 dataset have same column name with same data type.\n",
    "2. We need to validate the max_score value as the data is taken from different sources, there is probability of having different scoring method. \n",
    "3. We will concat the dataset into a single dataframe for building recommendation engine.\n",
    "4. Same products are mentioned with different name in different websites.\n",
    "5. As I tested out, the products are same even though the names are mentioned differently in the dataset. For example, \n",
    "*   'Leagoo Lead 7 5.0 Inch HD JDI LTPS Screen 3G Smartphone' in amazon.com and 'Leagoo Lead 7 Lead7 MTK6582 Quad core 1GB RAM' in amazon.co.uk are same products.\n",
    "* 'Samsung Galaxy S8' in phonearena and 'Samsung Galaxy S8 64GB (AT&T)' in samsung.com are same products.\n",
    "6. We can observe consistency in phone url with the product name. So we will extract the product name from the phone_url and use it for further analysis."
   ]
  },
  {
   "cell_type": "code",
   "execution_count": 20,
   "metadata": {
    "id": "977qEfwibX4n"
   },
   "outputs": [],
   "source": [
    "#Merging the dataset into a single dataframe\n",
    "df_review_complete = [df_review_file_1, df_review_file_2, df_review_file_3, df_review_file_4, df_review_file_5, df_review_file_6]\n",
    "data = pd.concat(df_review_complete)"
   ]
  },
  {
   "cell_type": "code",
   "execution_count": 21,
   "metadata": {
    "colab": {
     "base_uri": "https://localhost:8080/",
     "height": 511
    },
    "id": "54dCPYBHeI26",
    "outputId": "506d5450-5ccd-4748-a102-eb5ea341f950"
   },
   "outputs": [
    {
     "data": {
      "text/html": [
       "<div>\n",
       "<style scoped>\n",
       "    .dataframe tbody tr th:only-of-type {\n",
       "        vertical-align: middle;\n",
       "    }\n",
       "\n",
       "    .dataframe tbody tr th {\n",
       "        vertical-align: top;\n",
       "    }\n",
       "\n",
       "    .dataframe thead th {\n",
       "        text-align: right;\n",
       "    }\n",
       "</style>\n",
       "<table border=\"1\" class=\"dataframe\">\n",
       "  <thead>\n",
       "    <tr style=\"text-align: right;\">\n",
       "      <th></th>\n",
       "      <th>phone_url</th>\n",
       "      <th>date</th>\n",
       "      <th>lang</th>\n",
       "      <th>country</th>\n",
       "      <th>source</th>\n",
       "      <th>domain</th>\n",
       "      <th>score</th>\n",
       "      <th>score_max</th>\n",
       "      <th>extract</th>\n",
       "      <th>author</th>\n",
       "      <th>product</th>\n",
       "    </tr>\n",
       "  </thead>\n",
       "  <tbody>\n",
       "    <tr>\n",
       "      <th>0</th>\n",
       "      <td>/cellphones/samsung-galaxy-s8/</td>\n",
       "      <td>5/2/2017</td>\n",
       "      <td>en</td>\n",
       "      <td>us</td>\n",
       "      <td>Verizon Wireless</td>\n",
       "      <td>verizonwireless.com</td>\n",
       "      <td>10.0</td>\n",
       "      <td>10.0</td>\n",
       "      <td>As a diehard Samsung fan who has had every Sam...</td>\n",
       "      <td>CarolAnn35</td>\n",
       "      <td>Samsung Galaxy S8</td>\n",
       "    </tr>\n",
       "    <tr>\n",
       "      <th>1</th>\n",
       "      <td>/cellphones/samsung-galaxy-s8/</td>\n",
       "      <td>4/28/2017</td>\n",
       "      <td>en</td>\n",
       "      <td>us</td>\n",
       "      <td>Phone Arena</td>\n",
       "      <td>phonearena.com</td>\n",
       "      <td>10.0</td>\n",
       "      <td>10.0</td>\n",
       "      <td>Love the phone. the phone is sleek and smooth ...</td>\n",
       "      <td>james0923</td>\n",
       "      <td>Samsung Galaxy S8</td>\n",
       "    </tr>\n",
       "    <tr>\n",
       "      <th>2</th>\n",
       "      <td>/cellphones/samsung-galaxy-s8/</td>\n",
       "      <td>5/4/2017</td>\n",
       "      <td>en</td>\n",
       "      <td>us</td>\n",
       "      <td>Amazon</td>\n",
       "      <td>amazon.com</td>\n",
       "      <td>6.0</td>\n",
       "      <td>10.0</td>\n",
       "      <td>Adequate feel. Nice heft. Processor's still sl...</td>\n",
       "      <td>R. Craig</td>\n",
       "      <td>Samsung Galaxy S8 (64GB) G950U 5.8\" 4G LTE Unl...</td>\n",
       "    </tr>\n",
       "    <tr>\n",
       "      <th>3</th>\n",
       "      <td>/cellphones/samsung-galaxy-s8/</td>\n",
       "      <td>5/2/2017</td>\n",
       "      <td>en</td>\n",
       "      <td>us</td>\n",
       "      <td>Samsung</td>\n",
       "      <td>samsung.com</td>\n",
       "      <td>9.2</td>\n",
       "      <td>10.0</td>\n",
       "      <td>Never disappointed. One of the reasons I've be...</td>\n",
       "      <td>Buster2020</td>\n",
       "      <td>Samsung Galaxy S8 64GB (AT&amp;T)</td>\n",
       "    </tr>\n",
       "    <tr>\n",
       "      <th>4</th>\n",
       "      <td>/cellphones/samsung-galaxy-s8/</td>\n",
       "      <td>5/11/2017</td>\n",
       "      <td>en</td>\n",
       "      <td>us</td>\n",
       "      <td>Verizon Wireless</td>\n",
       "      <td>verizonwireless.com</td>\n",
       "      <td>4.0</td>\n",
       "      <td>10.0</td>\n",
       "      <td>I've now found that i'm in a group of people t...</td>\n",
       "      <td>S Ate Mine</td>\n",
       "      <td>Samsung Galaxy S8</td>\n",
       "    </tr>\n",
       "    <tr>\n",
       "      <th>5</th>\n",
       "      <td>/cellphones/samsung-galaxy-s8/</td>\n",
       "      <td>5/10/2017</td>\n",
       "      <td>en</td>\n",
       "      <td>us</td>\n",
       "      <td>Verizon Wireless</td>\n",
       "      <td>verizonwireless.com</td>\n",
       "      <td>10.0</td>\n",
       "      <td>10.0</td>\n",
       "      <td>I am the type of person who never would comple...</td>\n",
       "      <td>BDB76</td>\n",
       "      <td>Samsung Galaxy S8</td>\n",
       "    </tr>\n",
       "    <tr>\n",
       "      <th>6</th>\n",
       "      <td>/cellphones/samsung-galaxy-s8/</td>\n",
       "      <td>5/10/2017</td>\n",
       "      <td>en</td>\n",
       "      <td>us</td>\n",
       "      <td>Verizon Wireless</td>\n",
       "      <td>verizonwireless.com</td>\n",
       "      <td>4.0</td>\n",
       "      <td>10.0</td>\n",
       "      <td>The way this Samsung S8 phone operates is more...</td>\n",
       "      <td>KLC30306</td>\n",
       "      <td>Samsung Galaxy S8</td>\n",
       "    </tr>\n",
       "    <tr>\n",
       "      <th>7</th>\n",
       "      <td>/cellphones/samsung-galaxy-s8/</td>\n",
       "      <td>5/10/2017</td>\n",
       "      <td>en</td>\n",
       "      <td>us</td>\n",
       "      <td>Verizon Wireless</td>\n",
       "      <td>verizonwireless.com</td>\n",
       "      <td>6.0</td>\n",
       "      <td>10.0</td>\n",
       "      <td>I bought this phone very excited to use it. I ...</td>\n",
       "      <td>Mnhy</td>\n",
       "      <td>Samsung Galaxy S8</td>\n",
       "    </tr>\n",
       "    <tr>\n",
       "      <th>8</th>\n",
       "      <td>/cellphones/samsung-galaxy-s8/</td>\n",
       "      <td>5/10/2017</td>\n",
       "      <td>en</td>\n",
       "      <td>us</td>\n",
       "      <td>Verizon Wireless</td>\n",
       "      <td>verizonwireless.com</td>\n",
       "      <td>6.0</td>\n",
       "      <td>10.0</td>\n",
       "      <td>It is an extremely advanced and truly a Smart ...</td>\n",
       "      <td>Mr Alan</td>\n",
       "      <td>Samsung Galaxy S8</td>\n",
       "    </tr>\n",
       "    <tr>\n",
       "      <th>9</th>\n",
       "      <td>/cellphones/samsung-galaxy-s8/</td>\n",
       "      <td>5/10/2017</td>\n",
       "      <td>en</td>\n",
       "      <td>us</td>\n",
       "      <td>Verizon Wireless</td>\n",
       "      <td>verizonwireless.com</td>\n",
       "      <td>8.0</td>\n",
       "      <td>10.0</td>\n",
       "      <td>Great phone with a PHENOMENAL Camera, not all ...</td>\n",
       "      <td>Raven Wolf Song</td>\n",
       "      <td>Samsung Galaxy S8</td>\n",
       "    </tr>\n",
       "  </tbody>\n",
       "</table>\n",
       "</div>"
      ],
      "text/plain": [
       "                        phone_url       date lang country            source  \\\n",
       "0  /cellphones/samsung-galaxy-s8/   5/2/2017   en      us  Verizon Wireless   \n",
       "1  /cellphones/samsung-galaxy-s8/  4/28/2017   en      us       Phone Arena   \n",
       "2  /cellphones/samsung-galaxy-s8/   5/4/2017   en      us            Amazon   \n",
       "3  /cellphones/samsung-galaxy-s8/   5/2/2017   en      us           Samsung   \n",
       "4  /cellphones/samsung-galaxy-s8/  5/11/2017   en      us  Verizon Wireless   \n",
       "5  /cellphones/samsung-galaxy-s8/  5/10/2017   en      us  Verizon Wireless   \n",
       "6  /cellphones/samsung-galaxy-s8/  5/10/2017   en      us  Verizon Wireless   \n",
       "7  /cellphones/samsung-galaxy-s8/  5/10/2017   en      us  Verizon Wireless   \n",
       "8  /cellphones/samsung-galaxy-s8/  5/10/2017   en      us  Verizon Wireless   \n",
       "9  /cellphones/samsung-galaxy-s8/  5/10/2017   en      us  Verizon Wireless   \n",
       "\n",
       "                domain  score  score_max  \\\n",
       "0  verizonwireless.com   10.0       10.0   \n",
       "1       phonearena.com   10.0       10.0   \n",
       "2           amazon.com    6.0       10.0   \n",
       "3          samsung.com    9.2       10.0   \n",
       "4  verizonwireless.com    4.0       10.0   \n",
       "5  verizonwireless.com   10.0       10.0   \n",
       "6  verizonwireless.com    4.0       10.0   \n",
       "7  verizonwireless.com    6.0       10.0   \n",
       "8  verizonwireless.com    6.0       10.0   \n",
       "9  verizonwireless.com    8.0       10.0   \n",
       "\n",
       "                                             extract           author  \\\n",
       "0  As a diehard Samsung fan who has had every Sam...       CarolAnn35   \n",
       "1  Love the phone. the phone is sleek and smooth ...        james0923   \n",
       "2  Adequate feel. Nice heft. Processor's still sl...         R. Craig   \n",
       "3  Never disappointed. One of the reasons I've be...      Buster2020    \n",
       "4  I've now found that i'm in a group of people t...       S Ate Mine   \n",
       "5  I am the type of person who never would comple...            BDB76   \n",
       "6  The way this Samsung S8 phone operates is more...         KLC30306   \n",
       "7  I bought this phone very excited to use it. I ...             Mnhy   \n",
       "8  It is an extremely advanced and truly a Smart ...          Mr Alan   \n",
       "9  Great phone with a PHENOMENAL Camera, not all ...  Raven Wolf Song   \n",
       "\n",
       "                                             product  \n",
       "0                                  Samsung Galaxy S8  \n",
       "1                                  Samsung Galaxy S8  \n",
       "2  Samsung Galaxy S8 (64GB) G950U 5.8\" 4G LTE Unl...  \n",
       "3                      Samsung Galaxy S8 64GB (AT&T)  \n",
       "4                                  Samsung Galaxy S8  \n",
       "5                                  Samsung Galaxy S8  \n",
       "6                                  Samsung Galaxy S8  \n",
       "7                                  Samsung Galaxy S8  \n",
       "8                                  Samsung Galaxy S8  \n",
       "9                                  Samsung Galaxy S8  "
      ]
     },
     "execution_count": 21,
     "metadata": {},
     "output_type": "execute_result"
    }
   ],
   "source": [
    "# Top 10 records\n",
    "data.head(10)"
   ]
  },
  {
   "cell_type": "code",
   "execution_count": 22,
   "metadata": {
    "colab": {
     "base_uri": "https://localhost:8080/",
     "height": 343
    },
    "id": "RuLBUAaGehL1",
    "outputId": "3f773b51-5ec0-4485-9211-1da8ef94723b"
   },
   "outputs": [
    {
     "data": {
      "text/html": [
       "<div>\n",
       "<style scoped>\n",
       "    .dataframe tbody tr th:only-of-type {\n",
       "        vertical-align: middle;\n",
       "    }\n",
       "\n",
       "    .dataframe tbody tr th {\n",
       "        vertical-align: top;\n",
       "    }\n",
       "\n",
       "    .dataframe thead th {\n",
       "        text-align: right;\n",
       "    }\n",
       "</style>\n",
       "<table border=\"1\" class=\"dataframe\">\n",
       "  <thead>\n",
       "    <tr style=\"text-align: right;\">\n",
       "      <th></th>\n",
       "      <th>phone_url</th>\n",
       "      <th>date</th>\n",
       "      <th>lang</th>\n",
       "      <th>country</th>\n",
       "      <th>source</th>\n",
       "      <th>domain</th>\n",
       "      <th>score</th>\n",
       "      <th>score_max</th>\n",
       "      <th>extract</th>\n",
       "      <th>author</th>\n",
       "      <th>product</th>\n",
       "    </tr>\n",
       "  </thead>\n",
       "  <tbody>\n",
       "    <tr>\n",
       "      <th>163827</th>\n",
       "      <td>/cellphones/alcatel-ot-club_1187/</td>\n",
       "      <td>5/25/2000</td>\n",
       "      <td>de</td>\n",
       "      <td>de</td>\n",
       "      <td>Ciao</td>\n",
       "      <td>ciao.de</td>\n",
       "      <td>8.0</td>\n",
       "      <td>10.0</td>\n",
       "      <td>Vor ein paar Monaten bekam ich das Alcatel Clu...</td>\n",
       "      <td>abruna</td>\n",
       "      <td>Alcatel Club Plus Handy</td>\n",
       "    </tr>\n",
       "    <tr>\n",
       "      <th>163828</th>\n",
       "      <td>/cellphones/alcatel-ot-club_1187/</td>\n",
       "      <td>5/21/2000</td>\n",
       "      <td>de</td>\n",
       "      <td>de</td>\n",
       "      <td>Ciao</td>\n",
       "      <td>ciao.de</td>\n",
       "      <td>8.0</td>\n",
       "      <td>10.0</td>\n",
       "      <td>Das Handy kann man einfacher bedienen als eine...</td>\n",
       "      <td>Villeneuve99</td>\n",
       "      <td>Alcatel Club Plus Handy</td>\n",
       "    </tr>\n",
       "    <tr>\n",
       "      <th>163829</th>\n",
       "      <td>/cellphones/alcatel-ot-club_1187/</td>\n",
       "      <td>5/21/2000</td>\n",
       "      <td>de</td>\n",
       "      <td>de</td>\n",
       "      <td>Ciao</td>\n",
       "      <td>ciao.de</td>\n",
       "      <td>8.0</td>\n",
       "      <td>10.0</td>\n",
       "      <td>Wem Design nicht so wichtig ist, der sollte si...</td>\n",
       "      <td>Larz</td>\n",
       "      <td>Alcatel Club Plus Handy</td>\n",
       "    </tr>\n",
       "    <tr>\n",
       "      <th>163830</th>\n",
       "      <td>/cellphones/alcatel-ot-club_1187/</td>\n",
       "      <td>5/20/2000</td>\n",
       "      <td>de</td>\n",
       "      <td>de</td>\n",
       "      <td>Ciao</td>\n",
       "      <td>ciao.de</td>\n",
       "      <td>4.0</td>\n",
       "      <td>10.0</td>\n",
       "      <td>Wenn ich das Club von Alcatel in der Hand habe...</td>\n",
       "      <td>BBC_NEWS</td>\n",
       "      <td>Alcatel Club Plus Handy</td>\n",
       "    </tr>\n",
       "    <tr>\n",
       "      <th>163831</th>\n",
       "      <td>/cellphones/alcatel-ot-club_1187/</td>\n",
       "      <td>5/19/2000</td>\n",
       "      <td>de</td>\n",
       "      <td>de</td>\n",
       "      <td>Ciao</td>\n",
       "      <td>ciao.de</td>\n",
       "      <td>2.0</td>\n",
       "      <td>10.0</td>\n",
       "      <td>Als langjÃ¤hriger Handybesitzer und -nutzer, n...</td>\n",
       "      <td>anjuli</td>\n",
       "      <td>Alcatel Club Plus Handy</td>\n",
       "    </tr>\n",
       "    <tr>\n",
       "      <th>163832</th>\n",
       "      <td>/cellphones/alcatel-ot-club_1187/</td>\n",
       "      <td>5/12/2000</td>\n",
       "      <td>de</td>\n",
       "      <td>de</td>\n",
       "      <td>Ciao</td>\n",
       "      <td>ciao.de</td>\n",
       "      <td>2.0</td>\n",
       "      <td>10.0</td>\n",
       "      <td>Weil mein Onkel bei ALcatel arbeitet habe ich ...</td>\n",
       "      <td>david.paul</td>\n",
       "      <td>Alcatel Club Plus Handy</td>\n",
       "    </tr>\n",
       "    <tr>\n",
       "      <th>163833</th>\n",
       "      <td>/cellphones/alcatel-ot-club_1187/</td>\n",
       "      <td>5/11/2000</td>\n",
       "      <td>de</td>\n",
       "      <td>de</td>\n",
       "      <td>Ciao</td>\n",
       "      <td>ciao.de</td>\n",
       "      <td>10.0</td>\n",
       "      <td>10.0</td>\n",
       "      <td>Hy Liebe Leserinnen und Leser!! Ich habe seit ...</td>\n",
       "      <td>Christiane14</td>\n",
       "      <td>Alcatel Club Plus Handy</td>\n",
       "    </tr>\n",
       "    <tr>\n",
       "      <th>163834</th>\n",
       "      <td>/cellphones/alcatel-ot-club_1187/</td>\n",
       "      <td>5/4/2000</td>\n",
       "      <td>de</td>\n",
       "      <td>de</td>\n",
       "      <td>Ciao</td>\n",
       "      <td>ciao.de</td>\n",
       "      <td>2.0</td>\n",
       "      <td>10.0</td>\n",
       "      <td>Jetzt hat wohl Alcatell gedacht ,sie machen wa...</td>\n",
       "      <td>michaelawr</td>\n",
       "      <td>Alcatel Club Plus Handy</td>\n",
       "    </tr>\n",
       "    <tr>\n",
       "      <th>163835</th>\n",
       "      <td>/cellphones/alcatel-ot-club_1187/</td>\n",
       "      <td>5/1/2000</td>\n",
       "      <td>de</td>\n",
       "      <td>de</td>\n",
       "      <td>Ciao</td>\n",
       "      <td>ciao.de</td>\n",
       "      <td>8.0</td>\n",
       "      <td>10.0</td>\n",
       "      <td>Ich bin seit 2 Jahren (stolzer) Besitzer eines...</td>\n",
       "      <td>claudia0815</td>\n",
       "      <td>Alcatel Club Plus Handy</td>\n",
       "    </tr>\n",
       "    <tr>\n",
       "      <th>163836</th>\n",
       "      <td>/cellphones/alcatel-ot-club_1187/</td>\n",
       "      <td>4/25/2000</td>\n",
       "      <td>de</td>\n",
       "      <td>de</td>\n",
       "      <td>Ciao</td>\n",
       "      <td>ciao.de</td>\n",
       "      <td>2.0</td>\n",
       "      <td>10.0</td>\n",
       "      <td>Was sich Alkatel hier wieder ausgedacht hat,sc...</td>\n",
       "      <td>michaelawr</td>\n",
       "      <td>Alcatel Club Plus Handy</td>\n",
       "    </tr>\n",
       "  </tbody>\n",
       "</table>\n",
       "</div>"
      ],
      "text/plain": [
       "                                phone_url       date lang country source  \\\n",
       "163827  /cellphones/alcatel-ot-club_1187/  5/25/2000   de      de   Ciao   \n",
       "163828  /cellphones/alcatel-ot-club_1187/  5/21/2000   de      de   Ciao   \n",
       "163829  /cellphones/alcatel-ot-club_1187/  5/21/2000   de      de   Ciao   \n",
       "163830  /cellphones/alcatel-ot-club_1187/  5/20/2000   de      de   Ciao   \n",
       "163831  /cellphones/alcatel-ot-club_1187/  5/19/2000   de      de   Ciao   \n",
       "163832  /cellphones/alcatel-ot-club_1187/  5/12/2000   de      de   Ciao   \n",
       "163833  /cellphones/alcatel-ot-club_1187/  5/11/2000   de      de   Ciao   \n",
       "163834  /cellphones/alcatel-ot-club_1187/   5/4/2000   de      de   Ciao   \n",
       "163835  /cellphones/alcatel-ot-club_1187/   5/1/2000   de      de   Ciao   \n",
       "163836  /cellphones/alcatel-ot-club_1187/  4/25/2000   de      de   Ciao   \n",
       "\n",
       "         domain  score  score_max  \\\n",
       "163827  ciao.de    8.0       10.0   \n",
       "163828  ciao.de    8.0       10.0   \n",
       "163829  ciao.de    8.0       10.0   \n",
       "163830  ciao.de    4.0       10.0   \n",
       "163831  ciao.de    2.0       10.0   \n",
       "163832  ciao.de    2.0       10.0   \n",
       "163833  ciao.de   10.0       10.0   \n",
       "163834  ciao.de    2.0       10.0   \n",
       "163835  ciao.de    8.0       10.0   \n",
       "163836  ciao.de    2.0       10.0   \n",
       "\n",
       "                                                  extract        author  \\\n",
       "163827  Vor ein paar Monaten bekam ich das Alcatel Clu...        abruna   \n",
       "163828  Das Handy kann man einfacher bedienen als eine...  Villeneuve99   \n",
       "163829  Wem Design nicht so wichtig ist, der sollte si...          Larz   \n",
       "163830  Wenn ich das Club von Alcatel in der Hand habe...      BBC_NEWS   \n",
       "163831  Als langjÃ¤hriger Handybesitzer und -nutzer, n...        anjuli   \n",
       "163832  Weil mein Onkel bei ALcatel arbeitet habe ich ...    david.paul   \n",
       "163833  Hy Liebe Leserinnen und Leser!! Ich habe seit ...  Christiane14   \n",
       "163834  Jetzt hat wohl Alcatell gedacht ,sie machen wa...    michaelawr   \n",
       "163835  Ich bin seit 2 Jahren (stolzer) Besitzer eines...   claudia0815   \n",
       "163836  Was sich Alkatel hier wieder ausgedacht hat,sc...    michaelawr   \n",
       "\n",
       "                        product  \n",
       "163827  Alcatel Club Plus Handy  \n",
       "163828  Alcatel Club Plus Handy  \n",
       "163829  Alcatel Club Plus Handy  \n",
       "163830  Alcatel Club Plus Handy  \n",
       "163831  Alcatel Club Plus Handy  \n",
       "163832  Alcatel Club Plus Handy  \n",
       "163833  Alcatel Club Plus Handy  \n",
       "163834  Alcatel Club Plus Handy  \n",
       "163835  Alcatel Club Plus Handy  \n",
       "163836  Alcatel Club Plus Handy  "
      ]
     },
     "execution_count": 22,
     "metadata": {},
     "output_type": "execute_result"
    }
   ],
   "source": [
    "# Bottom 10 records \n",
    "data.tail(10)"
   ]
  },
  {
   "cell_type": "code",
   "execution_count": 23,
   "metadata": {
    "colab": {
     "base_uri": "https://localhost:8080/"
    },
    "id": "CLbpBkxkemSf",
    "outputId": "071ecc42-c23d-455e-8cd5-a0b3eb7b52c6"
   },
   "outputs": [
    {
     "name": "stdout",
     "output_type": "stream",
     "text": [
      "There are total 1415133 number of rows and 11 columns in the dataframe\n"
     ]
    }
   ],
   "source": [
    "# Shape of the dataframe\n",
    "shape = data.shape\n",
    "print('There are total {} number of rows and {} columns in the dataframe'.format(shape[0], shape[1]))"
   ]
  },
  {
   "cell_type": "code",
   "execution_count": 24,
   "metadata": {
    "colab": {
     "base_uri": "https://localhost:8080/"
    },
    "id": "dSpJqNNHfcNj",
    "outputId": "9b79fa7b-737d-40a5-ddc5-fdcc1603730a"
   },
   "outputs": [
    {
     "name": "stdout",
     "output_type": "stream",
     "text": [
      "<class 'pandas.core.frame.DataFrame'>\n",
      "Int64Index: 1415133 entries, 0 to 163836\n",
      "Data columns (total 11 columns):\n",
      " #   Column     Non-Null Count    Dtype  \n",
      "---  ------     --------------    -----  \n",
      " 0   phone_url  1415133 non-null  object \n",
      " 1   date       1415133 non-null  object \n",
      " 2   lang       1415133 non-null  object \n",
      " 3   country    1415133 non-null  object \n",
      " 4   source     1415133 non-null  object \n",
      " 5   domain     1415133 non-null  object \n",
      " 6   score      1351644 non-null  float64\n",
      " 7   score_max  1351644 non-null  float64\n",
      " 8   extract    1395772 non-null  object \n",
      " 9   author     1351931 non-null  object \n",
      " 10  product    1415132 non-null  object \n",
      "dtypes: float64(2), object(9)\n",
      "memory usage: 129.6+ MB\n"
     ]
    }
   ],
   "source": [
    "data.info()"
   ]
  },
  {
   "cell_type": "markdown",
   "metadata": {
    "id": "CNc5LQZo7I2n"
   },
   "source": [
    "#### Observations:\n",
    "1. There are 14,15,133 records present in the dataset. \n",
    "2. There 11 columns present in the dataset.\n",
    "3. There are 8 columns having datatype as object.\n",
    "4. There are 2 columns having float datatype."
   ]
  },
  {
   "cell_type": "code",
   "execution_count": 25,
   "metadata": {
    "colab": {
     "base_uri": "https://localhost:8080/",
     "height": 106
    },
    "id": "hF2GDG-WfcQT",
    "outputId": "8187376a-4c2a-43d1-8fb4-c38847c93450"
   },
   "outputs": [
    {
     "data": {
      "text/html": [
       "<div>\n",
       "<style scoped>\n",
       "    .dataframe tbody tr th:only-of-type {\n",
       "        vertical-align: middle;\n",
       "    }\n",
       "\n",
       "    .dataframe tbody tr th {\n",
       "        vertical-align: top;\n",
       "    }\n",
       "\n",
       "    .dataframe thead th {\n",
       "        text-align: right;\n",
       "    }\n",
       "</style>\n",
       "<table border=\"1\" class=\"dataframe\">\n",
       "  <thead>\n",
       "    <tr style=\"text-align: right;\">\n",
       "      <th></th>\n",
       "      <th>count</th>\n",
       "      <th>mean</th>\n",
       "      <th>std</th>\n",
       "      <th>min</th>\n",
       "      <th>25%</th>\n",
       "      <th>50%</th>\n",
       "      <th>75%</th>\n",
       "      <th>max</th>\n",
       "    </tr>\n",
       "  </thead>\n",
       "  <tbody>\n",
       "    <tr>\n",
       "      <th>score</th>\n",
       "      <td>1351644.0</td>\n",
       "      <td>8.00706</td>\n",
       "      <td>2.616121</td>\n",
       "      <td>0.2</td>\n",
       "      <td>7.2</td>\n",
       "      <td>9.2</td>\n",
       "      <td>10.0</td>\n",
       "      <td>10.0</td>\n",
       "    </tr>\n",
       "    <tr>\n",
       "      <th>score_max</th>\n",
       "      <td>1351644.0</td>\n",
       "      <td>10.00000</td>\n",
       "      <td>0.000000</td>\n",
       "      <td>10.0</td>\n",
       "      <td>10.0</td>\n",
       "      <td>10.0</td>\n",
       "      <td>10.0</td>\n",
       "      <td>10.0</td>\n",
       "    </tr>\n",
       "  </tbody>\n",
       "</table>\n",
       "</div>"
      ],
      "text/plain": [
       "               count      mean       std   min   25%   50%   75%   max\n",
       "score      1351644.0   8.00706  2.616121   0.2   7.2   9.2  10.0  10.0\n",
       "score_max  1351644.0  10.00000  0.000000  10.0  10.0  10.0  10.0  10.0"
      ]
     },
     "execution_count": 25,
     "metadata": {},
     "output_type": "execute_result"
    }
   ],
   "source": [
    "data.describe().T"
   ]
  },
  {
   "cell_type": "markdown",
   "metadata": {
    "id": "XDYUGbnY7WL4"
   },
   "source": [
    "#### Observations:\n",
    "1. The max_score value is 10. Hence we can verify that in all sources, the product has been rated with 10 as highest rating.\n",
    "2. The minimum rating we are going to consider as 1 as its mandatory to provide rating explicitly for the product."
   ]
  },
  {
   "cell_type": "code",
   "execution_count": 26,
   "metadata": {
    "id": "eeExBrKpiOV9"
   },
   "outputs": [],
   "source": [
    "def roundOff(score):\n",
    "  return round(score, 0)"
   ]
  },
  {
   "cell_type": "code",
   "execution_count": 27,
   "metadata": {
    "id": "aneZcEK2iOZA"
   },
   "outputs": [],
   "source": [
    "# Rounding off the rating provided by the user to its nearest integer value\n",
    "data['score'] = data['score'].apply(roundOff)"
   ]
  },
  {
   "cell_type": "code",
   "execution_count": 28,
   "metadata": {
    "colab": {
     "base_uri": "https://localhost:8080/"
    },
    "id": "1oHyDK2niOci",
    "outputId": "2115008e-65eb-4f62-e020-6fb622a653d9"
   },
   "outputs": [
    {
     "data": {
      "text/plain": [
       "10.0    665748\n",
       "8.0     305550\n",
       "2.0     128762\n",
       "6.0     118349\n",
       "4.0      73333\n",
       "9.0      40602\n",
       "7.0       8771\n",
       "5.0       4730\n",
       "1.0       3244\n",
       "3.0       2513\n",
       "0.0         42\n",
       "Name: score, dtype: int64"
      ]
     },
     "execution_count": 28,
     "metadata": {},
     "output_type": "execute_result"
    }
   ],
   "source": [
    "data['score'].value_counts()"
   ]
  },
  {
   "cell_type": "markdown",
   "metadata": {
    "id": "MpJ9ObeP9dvo"
   },
   "source": [
    "#### Observations:\n",
    "1. Maximum number of users provided rating as 10 for the phones followed by the rating 8, 2 and 6.\n",
    "2. There are 42 records present with the rating as 0 which we can considered as invalid or default rating when user have not provided rating.\n",
    "3. Hence we will drop the records having rating as 0."
   ]
  },
  {
   "cell_type": "markdown",
   "metadata": {
    "id": "o5vk2FjpIgm0"
   },
   "source": [
    "### Dropping Invalid Records"
   ]
  },
  {
   "cell_type": "code",
   "execution_count": 29,
   "metadata": {
    "colab": {
     "base_uri": "https://localhost:8080/"
    },
    "id": "W5hT91cBkU2_",
    "outputId": "b55fb92c-1d28-453c-ed06-1b0947aac10c"
   },
   "outputs": [
    {
     "data": {
      "text/plain": [
       "phone_url    42\n",
       "date         42\n",
       "lang         42\n",
       "country      42\n",
       "source       42\n",
       "domain       42\n",
       "score        42\n",
       "score_max    42\n",
       "extract      42\n",
       "author       42\n",
       "product      42\n",
       "dtype: int64"
      ]
     },
     "execution_count": 29,
     "metadata": {},
     "output_type": "execute_result"
    }
   ],
   "source": [
    "data[data['score'] == 0].count()"
   ]
  },
  {
   "cell_type": "code",
   "execution_count": 30,
   "metadata": {
    "id": "Xf2VCJCCkU59"
   },
   "outputs": [],
   "source": [
    "data.drop(data[data['score'] == 0].index, axis=0, inplace=True)"
   ]
  },
  {
   "cell_type": "code",
   "execution_count": 31,
   "metadata": {
    "colab": {
     "base_uri": "https://localhost:8080/"
    },
    "id": "FBxaDp7QkU8t",
    "outputId": "a19e9ad8-d624-45b7-f08d-3afc3c33a779"
   },
   "outputs": [
    {
     "data": {
      "text/plain": [
       "10.0    665670\n",
       "8.0     305522\n",
       "2.0     128752\n",
       "6.0     118339\n",
       "4.0      73325\n",
       "9.0      40597\n",
       "7.0       8771\n",
       "5.0       4730\n",
       "1.0       3244\n",
       "3.0       2513\n",
       "Name: score, dtype: int64"
      ]
     },
     "execution_count": 31,
     "metadata": {},
     "output_type": "execute_result"
    }
   ],
   "source": [
    "data['score'].value_counts()"
   ]
  },
  {
   "cell_type": "markdown",
   "metadata": {
    "id": "PJj7B2kChAVv"
   },
   "source": [
    "### Dropping NA"
   ]
  },
  {
   "cell_type": "code",
   "execution_count": 32,
   "metadata": {
    "colab": {
     "base_uri": "https://localhost:8080/"
    },
    "id": "JO6d05pilojF",
    "outputId": "584f4691-98eb-4583-942b-a87d6eb8d452"
   },
   "outputs": [
    {
     "data": {
      "text/plain": [
       "phone_url        0\n",
       "date             0\n",
       "lang             0\n",
       "country          0\n",
       "source           0\n",
       "domain           0\n",
       "score        63485\n",
       "score_max    63485\n",
       "extract      19358\n",
       "author       63201\n",
       "product          1\n",
       "dtype: int64"
      ]
     },
     "execution_count": 32,
     "metadata": {},
     "output_type": "execute_result"
    }
   ],
   "source": [
    "data.isna().sum()"
   ]
  },
  {
   "cell_type": "markdown",
   "metadata": {
    "id": "jqh-8V3i_UXl"
   },
   "source": [
    "#### Observations:\n",
    "1. There are 63,485 records where score and score_max is not present. Hence we will drop the records.\n",
    "2. There are 63,201 records where author is not available, hence we will dropping those records as well."
   ]
  },
  {
   "cell_type": "code",
   "execution_count": 33,
   "metadata": {
    "id": "2XQmcly9_Txq"
   },
   "outputs": [],
   "source": [
    "# Dropping the NA records\n",
    "data.dropna(how='any', inplace=True)"
   ]
  },
  {
   "cell_type": "code",
   "execution_count": 34,
   "metadata": {
    "colab": {
     "base_uri": "https://localhost:8080/"
    },
    "id": "ZeUXgpOpBSZR",
    "outputId": "5a51444c-1bb6-4cfc-e5b1-109d4fab03c7"
   },
   "outputs": [
    {
     "data": {
      "text/plain": [
       "phone_url    0\n",
       "date         0\n",
       "lang         0\n",
       "country      0\n",
       "source       0\n",
       "domain       0\n",
       "score        0\n",
       "score_max    0\n",
       "extract      0\n",
       "author       0\n",
       "product      0\n",
       "dtype: int64"
      ]
     },
     "execution_count": 34,
     "metadata": {},
     "output_type": "execute_result"
    }
   ],
   "source": [
    "# Verifying the NaN in the dataframe\n",
    "data.isna().sum()"
   ]
  },
  {
   "cell_type": "code",
   "execution_count": 35,
   "metadata": {
    "colab": {
     "base_uri": "https://localhost:8080/"
    },
    "id": "Ck0PVf2IA-ua",
    "outputId": "e96f6148-57cb-42e3-c498-f9a601e15006"
   },
   "outputs": [
    {
     "data": {
      "text/plain": [
       "(1275740, 11)"
      ]
     },
     "execution_count": 35,
     "metadata": {},
     "output_type": "execute_result"
    }
   ],
   "source": [
    "# Shape of the dataframe after dropping na\n",
    "data.shape"
   ]
  },
  {
   "cell_type": "markdown",
   "metadata": {
    "id": "MnMU_Ys3CBE4"
   },
   "source": [
    "### Extracting product name from phone_url for consistent product recommendation"
   ]
  },
  {
   "cell_type": "code",
   "execution_count": 36,
   "metadata": {
    "id": "c146DeKlB-Ru"
   },
   "outputs": [],
   "source": [
    "data['product_name'] = data['phone_url'].apply(lambda x: x.split(\"/cellphones/\")[1][:-1])"
   ]
  },
  {
   "cell_type": "code",
   "execution_count": 37,
   "metadata": {
    "colab": {
     "base_uri": "https://localhost:8080/",
     "height": 511
    },
    "id": "Nie8BrVMB3He",
    "outputId": "def2c9e1-5dd5-4fb3-b437-8ef4792d3f17"
   },
   "outputs": [
    {
     "data": {
      "text/html": [
       "<div>\n",
       "<style scoped>\n",
       "    .dataframe tbody tr th:only-of-type {\n",
       "        vertical-align: middle;\n",
       "    }\n",
       "\n",
       "    .dataframe tbody tr th {\n",
       "        vertical-align: top;\n",
       "    }\n",
       "\n",
       "    .dataframe thead th {\n",
       "        text-align: right;\n",
       "    }\n",
       "</style>\n",
       "<table border=\"1\" class=\"dataframe\">\n",
       "  <thead>\n",
       "    <tr style=\"text-align: right;\">\n",
       "      <th></th>\n",
       "      <th>phone_url</th>\n",
       "      <th>date</th>\n",
       "      <th>lang</th>\n",
       "      <th>country</th>\n",
       "      <th>source</th>\n",
       "      <th>domain</th>\n",
       "      <th>score</th>\n",
       "      <th>score_max</th>\n",
       "      <th>extract</th>\n",
       "      <th>author</th>\n",
       "      <th>product</th>\n",
       "      <th>product_name</th>\n",
       "    </tr>\n",
       "  </thead>\n",
       "  <tbody>\n",
       "    <tr>\n",
       "      <th>0</th>\n",
       "      <td>/cellphones/samsung-galaxy-s8/</td>\n",
       "      <td>5/2/2017</td>\n",
       "      <td>en</td>\n",
       "      <td>us</td>\n",
       "      <td>Verizon Wireless</td>\n",
       "      <td>verizonwireless.com</td>\n",
       "      <td>10.0</td>\n",
       "      <td>10.0</td>\n",
       "      <td>As a diehard Samsung fan who has had every Sam...</td>\n",
       "      <td>CarolAnn35</td>\n",
       "      <td>Samsung Galaxy S8</td>\n",
       "      <td>samsung-galaxy-s8</td>\n",
       "    </tr>\n",
       "    <tr>\n",
       "      <th>1</th>\n",
       "      <td>/cellphones/samsung-galaxy-s8/</td>\n",
       "      <td>4/28/2017</td>\n",
       "      <td>en</td>\n",
       "      <td>us</td>\n",
       "      <td>Phone Arena</td>\n",
       "      <td>phonearena.com</td>\n",
       "      <td>10.0</td>\n",
       "      <td>10.0</td>\n",
       "      <td>Love the phone. the phone is sleek and smooth ...</td>\n",
       "      <td>james0923</td>\n",
       "      <td>Samsung Galaxy S8</td>\n",
       "      <td>samsung-galaxy-s8</td>\n",
       "    </tr>\n",
       "    <tr>\n",
       "      <th>2</th>\n",
       "      <td>/cellphones/samsung-galaxy-s8/</td>\n",
       "      <td>5/4/2017</td>\n",
       "      <td>en</td>\n",
       "      <td>us</td>\n",
       "      <td>Amazon</td>\n",
       "      <td>amazon.com</td>\n",
       "      <td>6.0</td>\n",
       "      <td>10.0</td>\n",
       "      <td>Adequate feel. Nice heft. Processor's still sl...</td>\n",
       "      <td>R. Craig</td>\n",
       "      <td>Samsung Galaxy S8 (64GB) G950U 5.8\" 4G LTE Unl...</td>\n",
       "      <td>samsung-galaxy-s8</td>\n",
       "    </tr>\n",
       "    <tr>\n",
       "      <th>3</th>\n",
       "      <td>/cellphones/samsung-galaxy-s8/</td>\n",
       "      <td>5/2/2017</td>\n",
       "      <td>en</td>\n",
       "      <td>us</td>\n",
       "      <td>Samsung</td>\n",
       "      <td>samsung.com</td>\n",
       "      <td>9.0</td>\n",
       "      <td>10.0</td>\n",
       "      <td>Never disappointed. One of the reasons I've be...</td>\n",
       "      <td>Buster2020</td>\n",
       "      <td>Samsung Galaxy S8 64GB (AT&amp;T)</td>\n",
       "      <td>samsung-galaxy-s8</td>\n",
       "    </tr>\n",
       "    <tr>\n",
       "      <th>4</th>\n",
       "      <td>/cellphones/samsung-galaxy-s8/</td>\n",
       "      <td>5/11/2017</td>\n",
       "      <td>en</td>\n",
       "      <td>us</td>\n",
       "      <td>Verizon Wireless</td>\n",
       "      <td>verizonwireless.com</td>\n",
       "      <td>4.0</td>\n",
       "      <td>10.0</td>\n",
       "      <td>I've now found that i'm in a group of people t...</td>\n",
       "      <td>S Ate Mine</td>\n",
       "      <td>Samsung Galaxy S8</td>\n",
       "      <td>samsung-galaxy-s8</td>\n",
       "    </tr>\n",
       "    <tr>\n",
       "      <th>5</th>\n",
       "      <td>/cellphones/samsung-galaxy-s8/</td>\n",
       "      <td>5/10/2017</td>\n",
       "      <td>en</td>\n",
       "      <td>us</td>\n",
       "      <td>Verizon Wireless</td>\n",
       "      <td>verizonwireless.com</td>\n",
       "      <td>10.0</td>\n",
       "      <td>10.0</td>\n",
       "      <td>I am the type of person who never would comple...</td>\n",
       "      <td>BDB76</td>\n",
       "      <td>Samsung Galaxy S8</td>\n",
       "      <td>samsung-galaxy-s8</td>\n",
       "    </tr>\n",
       "    <tr>\n",
       "      <th>6</th>\n",
       "      <td>/cellphones/samsung-galaxy-s8/</td>\n",
       "      <td>5/10/2017</td>\n",
       "      <td>en</td>\n",
       "      <td>us</td>\n",
       "      <td>Verizon Wireless</td>\n",
       "      <td>verizonwireless.com</td>\n",
       "      <td>4.0</td>\n",
       "      <td>10.0</td>\n",
       "      <td>The way this Samsung S8 phone operates is more...</td>\n",
       "      <td>KLC30306</td>\n",
       "      <td>Samsung Galaxy S8</td>\n",
       "      <td>samsung-galaxy-s8</td>\n",
       "    </tr>\n",
       "    <tr>\n",
       "      <th>7</th>\n",
       "      <td>/cellphones/samsung-galaxy-s8/</td>\n",
       "      <td>5/10/2017</td>\n",
       "      <td>en</td>\n",
       "      <td>us</td>\n",
       "      <td>Verizon Wireless</td>\n",
       "      <td>verizonwireless.com</td>\n",
       "      <td>6.0</td>\n",
       "      <td>10.0</td>\n",
       "      <td>I bought this phone very excited to use it. I ...</td>\n",
       "      <td>Mnhy</td>\n",
       "      <td>Samsung Galaxy S8</td>\n",
       "      <td>samsung-galaxy-s8</td>\n",
       "    </tr>\n",
       "    <tr>\n",
       "      <th>8</th>\n",
       "      <td>/cellphones/samsung-galaxy-s8/</td>\n",
       "      <td>5/10/2017</td>\n",
       "      <td>en</td>\n",
       "      <td>us</td>\n",
       "      <td>Verizon Wireless</td>\n",
       "      <td>verizonwireless.com</td>\n",
       "      <td>6.0</td>\n",
       "      <td>10.0</td>\n",
       "      <td>It is an extremely advanced and truly a Smart ...</td>\n",
       "      <td>Mr Alan</td>\n",
       "      <td>Samsung Galaxy S8</td>\n",
       "      <td>samsung-galaxy-s8</td>\n",
       "    </tr>\n",
       "    <tr>\n",
       "      <th>9</th>\n",
       "      <td>/cellphones/samsung-galaxy-s8/</td>\n",
       "      <td>5/10/2017</td>\n",
       "      <td>en</td>\n",
       "      <td>us</td>\n",
       "      <td>Verizon Wireless</td>\n",
       "      <td>verizonwireless.com</td>\n",
       "      <td>8.0</td>\n",
       "      <td>10.0</td>\n",
       "      <td>Great phone with a PHENOMENAL Camera, not all ...</td>\n",
       "      <td>Raven Wolf Song</td>\n",
       "      <td>Samsung Galaxy S8</td>\n",
       "      <td>samsung-galaxy-s8</td>\n",
       "    </tr>\n",
       "  </tbody>\n",
       "</table>\n",
       "</div>"
      ],
      "text/plain": [
       "                        phone_url       date lang country            source  \\\n",
       "0  /cellphones/samsung-galaxy-s8/   5/2/2017   en      us  Verizon Wireless   \n",
       "1  /cellphones/samsung-galaxy-s8/  4/28/2017   en      us       Phone Arena   \n",
       "2  /cellphones/samsung-galaxy-s8/   5/4/2017   en      us            Amazon   \n",
       "3  /cellphones/samsung-galaxy-s8/   5/2/2017   en      us           Samsung   \n",
       "4  /cellphones/samsung-galaxy-s8/  5/11/2017   en      us  Verizon Wireless   \n",
       "5  /cellphones/samsung-galaxy-s8/  5/10/2017   en      us  Verizon Wireless   \n",
       "6  /cellphones/samsung-galaxy-s8/  5/10/2017   en      us  Verizon Wireless   \n",
       "7  /cellphones/samsung-galaxy-s8/  5/10/2017   en      us  Verizon Wireless   \n",
       "8  /cellphones/samsung-galaxy-s8/  5/10/2017   en      us  Verizon Wireless   \n",
       "9  /cellphones/samsung-galaxy-s8/  5/10/2017   en      us  Verizon Wireless   \n",
       "\n",
       "                domain  score  score_max  \\\n",
       "0  verizonwireless.com   10.0       10.0   \n",
       "1       phonearena.com   10.0       10.0   \n",
       "2           amazon.com    6.0       10.0   \n",
       "3          samsung.com    9.0       10.0   \n",
       "4  verizonwireless.com    4.0       10.0   \n",
       "5  verizonwireless.com   10.0       10.0   \n",
       "6  verizonwireless.com    4.0       10.0   \n",
       "7  verizonwireless.com    6.0       10.0   \n",
       "8  verizonwireless.com    6.0       10.0   \n",
       "9  verizonwireless.com    8.0       10.0   \n",
       "\n",
       "                                             extract           author  \\\n",
       "0  As a diehard Samsung fan who has had every Sam...       CarolAnn35   \n",
       "1  Love the phone. the phone is sleek and smooth ...        james0923   \n",
       "2  Adequate feel. Nice heft. Processor's still sl...         R. Craig   \n",
       "3  Never disappointed. One of the reasons I've be...      Buster2020    \n",
       "4  I've now found that i'm in a group of people t...       S Ate Mine   \n",
       "5  I am the type of person who never would comple...            BDB76   \n",
       "6  The way this Samsung S8 phone operates is more...         KLC30306   \n",
       "7  I bought this phone very excited to use it. I ...             Mnhy   \n",
       "8  It is an extremely advanced and truly a Smart ...          Mr Alan   \n",
       "9  Great phone with a PHENOMENAL Camera, not all ...  Raven Wolf Song   \n",
       "\n",
       "                                             product       product_name  \n",
       "0                                  Samsung Galaxy S8  samsung-galaxy-s8  \n",
       "1                                  Samsung Galaxy S8  samsung-galaxy-s8  \n",
       "2  Samsung Galaxy S8 (64GB) G950U 5.8\" 4G LTE Unl...  samsung-galaxy-s8  \n",
       "3                      Samsung Galaxy S8 64GB (AT&T)  samsung-galaxy-s8  \n",
       "4                                  Samsung Galaxy S8  samsung-galaxy-s8  \n",
       "5                                  Samsung Galaxy S8  samsung-galaxy-s8  \n",
       "6                                  Samsung Galaxy S8  samsung-galaxy-s8  \n",
       "7                                  Samsung Galaxy S8  samsung-galaxy-s8  \n",
       "8                                  Samsung Galaxy S8  samsung-galaxy-s8  \n",
       "9                                  Samsung Galaxy S8  samsung-galaxy-s8  "
      ]
     },
     "execution_count": 37,
     "metadata": {},
     "output_type": "execute_result"
    }
   ],
   "source": [
    "data.head(10)"
   ]
  },
  {
   "cell_type": "markdown",
   "metadata": {
    "id": "Qwltci0MISxP"
   },
   "source": [
    "### Checking duplicates"
   ]
  },
  {
   "cell_type": "code",
   "execution_count": 38,
   "metadata": {
    "id": "AlW7Q5t8_J6Z"
   },
   "outputs": [],
   "source": [
    "# Strip author column\n",
    "data['author'] = data['author'].str.strip()"
   ]
  },
  {
   "cell_type": "code",
   "execution_count": 39,
   "metadata": {
    "colab": {
     "base_uri": "https://localhost:8080/",
     "height": 654
    },
    "id": "4NUHEXInGmDM",
    "outputId": "df5834eb-7682-4575-dba3-c54e74597404"
   },
   "outputs": [
    {
     "data": {
      "text/html": [
       "<div>\n",
       "<style scoped>\n",
       "    .dataframe tbody tr th:only-of-type {\n",
       "        vertical-align: middle;\n",
       "    }\n",
       "\n",
       "    .dataframe tbody tr th {\n",
       "        vertical-align: top;\n",
       "    }\n",
       "\n",
       "    .dataframe thead th {\n",
       "        text-align: right;\n",
       "    }\n",
       "</style>\n",
       "<table border=\"1\" class=\"dataframe\">\n",
       "  <thead>\n",
       "    <tr style=\"text-align: right;\">\n",
       "      <th></th>\n",
       "      <th>phone_url</th>\n",
       "      <th>date</th>\n",
       "      <th>lang</th>\n",
       "      <th>country</th>\n",
       "      <th>source</th>\n",
       "      <th>domain</th>\n",
       "      <th>score</th>\n",
       "      <th>score_max</th>\n",
       "      <th>extract</th>\n",
       "      <th>author</th>\n",
       "      <th>product</th>\n",
       "      <th>product_name</th>\n",
       "    </tr>\n",
       "  </thead>\n",
       "  <tbody>\n",
       "    <tr>\n",
       "      <th>2285</th>\n",
       "      <td>/cellphones/samsung-galaxy-s-iii/</td>\n",
       "      <td>1/1/2014</td>\n",
       "      <td>en</td>\n",
       "      <td>gb</td>\n",
       "      <td>Dooyoo</td>\n",
       "      <td>dooyoo.co.uk</td>\n",
       "      <td>8.0</td>\n",
       "      <td>10.0</td>\n",
       "      <td>like many other smartphones,the galaxy s3 offe...</td>\n",
       "      <td>Neddscott</td>\n",
       "      <td>Samsung Galaxy S3 16GB</td>\n",
       "      <td>samsung-galaxy-s-iii</td>\n",
       "    </tr>\n",
       "    <tr>\n",
       "      <th>2286</th>\n",
       "      <td>/cellphones/samsung-galaxy-s-iii/</td>\n",
       "      <td>1/1/2014</td>\n",
       "      <td>en</td>\n",
       "      <td>gb</td>\n",
       "      <td>Amazon</td>\n",
       "      <td>amazon.co.uk</td>\n",
       "      <td>10.0</td>\n",
       "      <td>10.0</td>\n",
       "      <td>I got all that is needed in a phone. It is sup...</td>\n",
       "      <td>Toppy</td>\n",
       "      <td>Samsung Galaxy SIII Mini UK SIM-Free Smartphon...</td>\n",
       "      <td>samsung-galaxy-s-iii</td>\n",
       "    </tr>\n",
       "    <tr>\n",
       "      <th>41603</th>\n",
       "      <td>/cellphones/prestigio-multiphone-3500-duo/</td>\n",
       "      <td>1/1/2014</td>\n",
       "      <td>ru</td>\n",
       "      <td>ru</td>\n",
       "      <td>Yandex</td>\n",
       "      <td>market.yandex.ru</td>\n",
       "      <td>8.0</td>\n",
       "      <td>10.0</td>\n",
       "      <td>???????? ?????????????? ???????????????????? ?...</td>\n",
       "      <td>????????? sacha</td>\n",
       "      <td>Prestigio MultiPhone 3500 DUO</td>\n",
       "      <td>prestigio-multiphone-3500-duo</td>\n",
       "    </tr>\n",
       "    <tr>\n",
       "      <th>248472</th>\n",
       "      <td>/cellphones/lg-optimus-hub-e510/</td>\n",
       "      <td>1/1/2014</td>\n",
       "      <td>ru</td>\n",
       "      <td>ru</td>\n",
       "      <td>Yandex</td>\n",
       "      <td>market.yandex.ru</td>\n",
       "      <td>8.0</td>\n",
       "      <td>10.0</td>\n",
       "      <td>ÐÐ¾ÐºÑÐ¿Ð°Ð» ÑÐµÐ»ÐµÑÐ¾Ð½ Ð±Ð¾Ð»ÑÑÐµ Ð³Ð...</td>\n",
       "      <td>Ð¡ÑÐ´Ð°ÑÐµÐ² ÐÐ»ÐµÐ³</td>\n",
       "      <td>LG Optimus Hub</td>\n",
       "      <td>lg-optimus-hub-e510</td>\n",
       "    </tr>\n",
       "    <tr>\n",
       "      <th>2287</th>\n",
       "      <td>/cellphones/samsung-galaxy-s-iii/</td>\n",
       "      <td>1/1/2014</td>\n",
       "      <td>en</td>\n",
       "      <td>us</td>\n",
       "      <td>Samsung</td>\n",
       "      <td>samsung.com</td>\n",
       "      <td>10.0</td>\n",
       "      <td>10.0</td>\n",
       "      <td>I was a hardened Windows Phone user. Love the ...</td>\n",
       "      <td>lightning4499</td>\n",
       "      <td>Samsung Galaxy S III 16GB (Boost Mobile)</td>\n",
       "      <td>samsung-galaxy-s-iii</td>\n",
       "    </tr>\n",
       "    <tr>\n",
       "      <th>...</th>\n",
       "      <td>...</td>\n",
       "      <td>...</td>\n",
       "      <td>...</td>\n",
       "      <td>...</td>\n",
       "      <td>...</td>\n",
       "      <td>...</td>\n",
       "      <td>...</td>\n",
       "      <td>...</td>\n",
       "      <td>...</td>\n",
       "      <td>...</td>\n",
       "      <td>...</td>\n",
       "      <td>...</td>\n",
       "    </tr>\n",
       "    <tr>\n",
       "      <th>100884</th>\n",
       "      <td>/cellphones/sony-xperia-m2/</td>\n",
       "      <td>9/9/2015</td>\n",
       "      <td>cs</td>\n",
       "      <td>cz</td>\n",
       "      <td>Alza</td>\n",
       "      <td>alza.cz</td>\n",
       "      <td>10.0</td>\n",
       "      <td>10.0</td>\n",
       "      <td>ProstÄ Sony .. :)))</td>\n",
       "      <td>Kluk co mÃ¡ Xperii :)</td>\n",
       "      <td>Sony Xperia M2 (D2303) White</td>\n",
       "      <td>sony-xperia-m2</td>\n",
       "    </tr>\n",
       "    <tr>\n",
       "      <th>183854</th>\n",
       "      <td>/cellphones/huawei-p8-lite/</td>\n",
       "      <td>9/9/2015</td>\n",
       "      <td>fi</td>\n",
       "      <td>fi</td>\n",
       "      <td>Verkkokauppa</td>\n",
       "      <td>verkkokauppa.com</td>\n",
       "      <td>10.0</td>\n",
       "      <td>10.0</td>\n",
       "      <td>HYvÃ¤ laite, toiminut hyvin. Nykyaikainen kahd...</td>\n",
       "      <td>powernet</td>\n",
       "      <td>Huawei P8 Lite Dual-SIM âAndroid-puhelin, musta</td>\n",
       "      <td>huawei-p8-lite</td>\n",
       "    </tr>\n",
       "    <tr>\n",
       "      <th>140709</th>\n",
       "      <td>/cellphones/asus-zenfone-3/</td>\n",
       "      <td>9/9/2016</td>\n",
       "      <td>id</td>\n",
       "      <td>id</td>\n",
       "      <td>Bhinneka</td>\n",
       "      <td>bhinneka.com</td>\n",
       "      <td>2.0</td>\n",
       "      <td>10.0</td>\n",
       "      <td>kecewa smartphone ini memang sudah saya tunggu...</td>\n",
       "      <td>wahyudi erik</td>\n",
       "      <td>ASUS Zenfone 3 (32GB/3GB RAM) [ZE520KL] - Black</td>\n",
       "      <td>asus-zenfone-3</td>\n",
       "    </tr>\n",
       "    <tr>\n",
       "      <th>356</th>\n",
       "      <td>/cellphones/samsung-galaxy-s-iii/</td>\n",
       "      <td>9/9/2016</td>\n",
       "      <td>en</td>\n",
       "      <td>us</td>\n",
       "      <td>Samsung</td>\n",
       "      <td>samsung.com</td>\n",
       "      <td>9.0</td>\n",
       "      <td>10.0</td>\n",
       "      <td>Samsung products are awesome! Great quality. L...</td>\n",
       "      <td>Mnstrek4u</td>\n",
       "      <td>Samsung Galaxy S III 16GB (Straight Talk)</td>\n",
       "      <td>samsung-galaxy-s-iii</td>\n",
       "    </tr>\n",
       "    <tr>\n",
       "      <th>441</th>\n",
       "      <td>/cellphones/samsung-galaxy-s-iii/</td>\n",
       "      <td>9/9/2016</td>\n",
       "      <td>en</td>\n",
       "      <td>us</td>\n",
       "      <td>Samsung</td>\n",
       "      <td>samsung.com</td>\n",
       "      <td>10.0</td>\n",
       "      <td>10.0</td>\n",
       "      <td>My new S3 is great! It's fast, has a nice screen,</td>\n",
       "      <td>sstewart20042003</td>\n",
       "      <td>Samsung Galaxy S III 16GB (Virgin Mobile)</td>\n",
       "      <td>samsung-galaxy-s-iii</td>\n",
       "    </tr>\n",
       "  </tbody>\n",
       "</table>\n",
       "<p>4726 rows × 12 columns</p>\n",
       "</div>"
      ],
      "text/plain": [
       "                                         phone_url      date lang country  \\\n",
       "2285             /cellphones/samsung-galaxy-s-iii/  1/1/2014   en      gb   \n",
       "2286             /cellphones/samsung-galaxy-s-iii/  1/1/2014   en      gb   \n",
       "41603   /cellphones/prestigio-multiphone-3500-duo/  1/1/2014   ru      ru   \n",
       "248472            /cellphones/lg-optimus-hub-e510/  1/1/2014   ru      ru   \n",
       "2287             /cellphones/samsung-galaxy-s-iii/  1/1/2014   en      us   \n",
       "...                                            ...       ...  ...     ...   \n",
       "100884                 /cellphones/sony-xperia-m2/  9/9/2015   cs      cz   \n",
       "183854                 /cellphones/huawei-p8-lite/  9/9/2015   fi      fi   \n",
       "140709                 /cellphones/asus-zenfone-3/  9/9/2016   id      id   \n",
       "356              /cellphones/samsung-galaxy-s-iii/  9/9/2016   en      us   \n",
       "441              /cellphones/samsung-galaxy-s-iii/  9/9/2016   en      us   \n",
       "\n",
       "              source            domain  score  score_max  \\\n",
       "2285          Dooyoo      dooyoo.co.uk    8.0       10.0   \n",
       "2286          Amazon      amazon.co.uk   10.0       10.0   \n",
       "41603         Yandex  market.yandex.ru    8.0       10.0   \n",
       "248472        Yandex  market.yandex.ru    8.0       10.0   \n",
       "2287         Samsung       samsung.com   10.0       10.0   \n",
       "...              ...               ...    ...        ...   \n",
       "100884          Alza           alza.cz   10.0       10.0   \n",
       "183854  Verkkokauppa  verkkokauppa.com   10.0       10.0   \n",
       "140709      Bhinneka      bhinneka.com    2.0       10.0   \n",
       "356          Samsung       samsung.com    9.0       10.0   \n",
       "441          Samsung       samsung.com   10.0       10.0   \n",
       "\n",
       "                                                  extract  \\\n",
       "2285    like many other smartphones,the galaxy s3 offe...   \n",
       "2286    I got all that is needed in a phone. It is sup...   \n",
       "41603   ???????? ?????????????? ???????????????????? ?...   \n",
       "248472  ÐÐ¾ÐºÑÐ¿Ð°Ð» ÑÐµÐ»ÐµÑÐ¾Ð½ Ð±Ð¾Ð»ÑÑÐµ Ð³Ð...   \n",
       "2287    I was a hardened Windows Phone user. Love the ...   \n",
       "...                                                   ...   \n",
       "100884                               ProstÄ Sony .. :)))   \n",
       "183854  HYvÃ¤ laite, toiminut hyvin. Nykyaikainen kahd...   \n",
       "140709  kecewa smartphone ini memang sudah saya tunggu...   \n",
       "356     Samsung products are awesome! Great quality. L...   \n",
       "441     My new S3 is great! It's fast, has a nice screen,   \n",
       "\n",
       "                         author  \\\n",
       "2285                  Neddscott   \n",
       "2286                      Toppy   \n",
       "41603          ????????? sacha   \n",
       "248472  Ð¡ÑÐ´Ð°ÑÐµÐ² ÐÐ»ÐµÐ³   \n",
       "2287              lightning4499   \n",
       "...                         ...   \n",
       "100884    Kluk co mÃ¡ Xperii :)   \n",
       "183854                 powernet   \n",
       "140709             wahyudi erik   \n",
       "356                   Mnstrek4u   \n",
       "441            sstewart20042003   \n",
       "\n",
       "                                                  product  \\\n",
       "2285                               Samsung Galaxy S3 16GB   \n",
       "2286    Samsung Galaxy SIII Mini UK SIM-Free Smartphon...   \n",
       "41603                       Prestigio MultiPhone 3500 DUO   \n",
       "248472                                     LG Optimus Hub   \n",
       "2287             Samsung Galaxy S III 16GB (Boost Mobile)   \n",
       "...                                                   ...   \n",
       "100884                       Sony Xperia M2 (D2303) White   \n",
       "183854  Huawei P8 Lite Dual-SIM âAndroid-puhelin, musta   \n",
       "140709    ASUS Zenfone 3 (32GB/3GB RAM) [ZE520KL] - Black   \n",
       "356             Samsung Galaxy S III 16GB (Straight Talk)   \n",
       "441             Samsung Galaxy S III 16GB (Virgin Mobile)   \n",
       "\n",
       "                         product_name  \n",
       "2285             samsung-galaxy-s-iii  \n",
       "2286             samsung-galaxy-s-iii  \n",
       "41603   prestigio-multiphone-3500-duo  \n",
       "248472            lg-optimus-hub-e510  \n",
       "2287             samsung-galaxy-s-iii  \n",
       "...                               ...  \n",
       "100884                 sony-xperia-m2  \n",
       "183854                 huawei-p8-lite  \n",
       "140709                 asus-zenfone-3  \n",
       "356              samsung-galaxy-s-iii  \n",
       "441              samsung-galaxy-s-iii  \n",
       "\n",
       "[4726 rows x 12 columns]"
      ]
     },
     "execution_count": 39,
     "metadata": {},
     "output_type": "execute_result"
    }
   ],
   "source": [
    "data[data.duplicated()].sort_values('date')"
   ]
  },
  {
   "cell_type": "markdown",
   "metadata": {
    "id": "owHP97PVHJ8R"
   },
   "source": [
    "#### Observations:\n",
    "1. There are 4,726 duplicated records are present in the dataset.\n",
    "2. As we are building recommendation engine, there is probability that same user might have rated the product in different domain with same rating. So we need consider only a single rating from the user for recommendation.\n",
    "3. Hence we will find the duplicates based product, author and score and drop the duplicate records."
   ]
  },
  {
   "cell_type": "code",
   "execution_count": 40,
   "metadata": {
    "colab": {
     "base_uri": "https://localhost:8080/",
     "height": 586
    },
    "id": "ngryHe5n94o_",
    "outputId": "75480f0d-11fe-48b0-d528-49dd577ef69e"
   },
   "outputs": [
    {
     "data": {
      "text/html": [
       "<div>\n",
       "<style scoped>\n",
       "    .dataframe tbody tr th:only-of-type {\n",
       "        vertical-align: middle;\n",
       "    }\n",
       "\n",
       "    .dataframe tbody tr th {\n",
       "        vertical-align: top;\n",
       "    }\n",
       "\n",
       "    .dataframe thead th {\n",
       "        text-align: right;\n",
       "    }\n",
       "</style>\n",
       "<table border=\"1\" class=\"dataframe\">\n",
       "  <thead>\n",
       "    <tr style=\"text-align: right;\">\n",
       "      <th></th>\n",
       "      <th>phone_url</th>\n",
       "      <th>date</th>\n",
       "      <th>lang</th>\n",
       "      <th>country</th>\n",
       "      <th>source</th>\n",
       "      <th>domain</th>\n",
       "      <th>score</th>\n",
       "      <th>score_max</th>\n",
       "      <th>extract</th>\n",
       "      <th>author</th>\n",
       "      <th>product</th>\n",
       "      <th>product_name</th>\n",
       "    </tr>\n",
       "  </thead>\n",
       "  <tbody>\n",
       "    <tr>\n",
       "      <th>72391</th>\n",
       "      <td>/cellphones/sony-ericsson-xperia-play/</td>\n",
       "      <td>1/1/1970</td>\n",
       "      <td>nl</td>\n",
       "      <td>nl</td>\n",
       "      <td>HEAR.nl</td>\n",
       "      <td>hear.nl</td>\n",
       "      <td>10.0</td>\n",
       "      <td>10.0</td>\n",
       "      <td>Geluid komt goed tot zijn recht door de fantas...</td>\n",
       "      <td>maximus123</td>\n",
       "      <td>Sony Ericsson Xperia Play</td>\n",
       "      <td>sony-ericsson-xperia-play</td>\n",
       "    </tr>\n",
       "    <tr>\n",
       "      <th>131689</th>\n",
       "      <td>/cellphones/nokia-6610i/</td>\n",
       "      <td>1/1/2005</td>\n",
       "      <td>en</td>\n",
       "      <td>gb</td>\n",
       "      <td>Review Stop</td>\n",
       "      <td>reviewstop.co.uk</td>\n",
       "      <td>8.0</td>\n",
       "      <td>10.0</td>\n",
       "      <td>Good but not the best</td>\n",
       "      <td>UK Guest</td>\n",
       "      <td>Nokia 6610i</td>\n",
       "      <td>nokia-6610i</td>\n",
       "    </tr>\n",
       "    <tr>\n",
       "      <th>95087</th>\n",
       "      <td>/cellphones/sony-ericsson-w550i/</td>\n",
       "      <td>1/1/2007</td>\n",
       "      <td>de</td>\n",
       "      <td>de</td>\n",
       "      <td>Ciao</td>\n",
       "      <td>ciao.de</td>\n",
       "      <td>10.0</td>\n",
       "      <td>10.0</td>\n",
       "      <td>Sony Ericsson W550i mit Vertrag Mein nicht meh...</td>\n",
       "      <td>walz02</td>\n",
       "      <td>Sony Ericsson W550i Walkman</td>\n",
       "      <td>sony-ericsson-w550i</td>\n",
       "    </tr>\n",
       "    <tr>\n",
       "      <th>91413</th>\n",
       "      <td>/cellphones/nokia-7900-prism/</td>\n",
       "      <td>1/1/2009</td>\n",
       "      <td>en</td>\n",
       "      <td>gb</td>\n",
       "      <td>Ciao</td>\n",
       "      <td>ciao.co.uk</td>\n",
       "      <td>6.0</td>\n",
       "      <td>10.0</td>\n",
       "      <td>Nokia 7900 Prism ******************** Nokia is...</td>\n",
       "      <td>gemsarchitect</td>\n",
       "      <td>Nokia 7900 Prism</td>\n",
       "      <td>nokia-7900-prism</td>\n",
       "    </tr>\n",
       "    <tr>\n",
       "      <th>46365</th>\n",
       "      <td>/cellphones/lg-gw520/</td>\n",
       "      <td>1/1/2010</td>\n",
       "      <td>en</td>\n",
       "      <td>us</td>\n",
       "      <td>Newegg</td>\n",
       "      <td>newegg.com</td>\n",
       "      <td>10.0</td>\n",
       "      <td>10.0</td>\n",
       "      <td>Who uses 900mhz in north america for 3G? I don...</td>\n",
       "      <td>Anonymous</td>\n",
       "      <td>LG Mobile Calisto Black unlocked GSM slider ph...</td>\n",
       "      <td>lg-gw520</td>\n",
       "    </tr>\n",
       "    <tr>\n",
       "      <th>...</th>\n",
       "      <td>...</td>\n",
       "      <td>...</td>\n",
       "      <td>...</td>\n",
       "      <td>...</td>\n",
       "      <td>...</td>\n",
       "      <td>...</td>\n",
       "      <td>...</td>\n",
       "      <td>...</td>\n",
       "      <td>...</td>\n",
       "      <td>...</td>\n",
       "      <td>...</td>\n",
       "      <td>...</td>\n",
       "    </tr>\n",
       "    <tr>\n",
       "      <th>166558</th>\n",
       "      <td>/cellphones/yu-yureka/</td>\n",
       "      <td>9/9/2016</td>\n",
       "      <td>en</td>\n",
       "      <td>in</td>\n",
       "      <td>Amazon</td>\n",
       "      <td>amazon.in</td>\n",
       "      <td>2.0</td>\n",
       "      <td>10.0</td>\n",
       "      <td>Worst camera Quality and display Quality</td>\n",
       "      <td>Amazon Customer</td>\n",
       "      <td>YU Yureka (Moondust Grey,16 GB)</td>\n",
       "      <td>yu-yureka</td>\n",
       "    </tr>\n",
       "    <tr>\n",
       "      <th>48229</th>\n",
       "      <td>/cellphones/doogee-t6-pro/</td>\n",
       "      <td>9/9/2016</td>\n",
       "      <td>en</td>\n",
       "      <td>gb</td>\n",
       "      <td>Amazon</td>\n",
       "      <td>amazon.co.uk</td>\n",
       "      <td>2.0</td>\n",
       "      <td>10.0</td>\n",
       "      <td>Bought my phone about six months ago, everythi...</td>\n",
       "      <td>Computer Technology Stoke Limited</td>\n",
       "      <td>DOOGEE T6 Pro Android 6.0 4G Smartphone 5.5inc...</td>\n",
       "      <td>doogee-t6-pro</td>\n",
       "    </tr>\n",
       "    <tr>\n",
       "      <th>166560</th>\n",
       "      <td>/cellphones/yu-yureka/</td>\n",
       "      <td>9/9/2016</td>\n",
       "      <td>en</td>\n",
       "      <td>in</td>\n",
       "      <td>Amazon</td>\n",
       "      <td>amazon.in</td>\n",
       "      <td>2.0</td>\n",
       "      <td>10.0</td>\n",
       "      <td>hang problem in this mobile and very bad mobile</td>\n",
       "      <td>Amazon Customer</td>\n",
       "      <td>YU Yureka (Moondust Grey,16 GB)</td>\n",
       "      <td>yu-yureka</td>\n",
       "    </tr>\n",
       "    <tr>\n",
       "      <th>164617</th>\n",
       "      <td>/cellphones/microsoft-lumia-640-dual-sim/</td>\n",
       "      <td>9/9/2016</td>\n",
       "      <td>en</td>\n",
       "      <td>in</td>\n",
       "      <td>Amazon</td>\n",
       "      <td>amazon.in</td>\n",
       "      <td>10.0</td>\n",
       "      <td>10.0</td>\n",
       "      <td>Very good handset. Very good and fast UI. Came...</td>\n",
       "      <td>Amazon Customer</td>\n",
       "      <td>Microsoft Lumia 640 (Orange, Dual SIM)</td>\n",
       "      <td>microsoft-lumia-640-dual-sim</td>\n",
       "    </tr>\n",
       "    <tr>\n",
       "      <th>166555</th>\n",
       "      <td>/cellphones/yu-yureka/</td>\n",
       "      <td>9/9/2016</td>\n",
       "      <td>en</td>\n",
       "      <td>in</td>\n",
       "      <td>Amazon</td>\n",
       "      <td>amazon.in</td>\n",
       "      <td>8.0</td>\n",
       "      <td>10.0</td>\n",
       "      <td>thus is best product on</td>\n",
       "      <td>Amazon Customer</td>\n",
       "      <td>YU Yureka (Moondust Grey,16 GB)</td>\n",
       "      <td>yu-yureka</td>\n",
       "    </tr>\n",
       "  </tbody>\n",
       "</table>\n",
       "<p>176467 rows × 12 columns</p>\n",
       "</div>"
      ],
      "text/plain": [
       "                                        phone_url      date lang country  \\\n",
       "72391      /cellphones/sony-ericsson-xperia-play/  1/1/1970   nl      nl   \n",
       "131689                   /cellphones/nokia-6610i/  1/1/2005   en      gb   \n",
       "95087            /cellphones/sony-ericsson-w550i/  1/1/2007   de      de   \n",
       "91413               /cellphones/nokia-7900-prism/  1/1/2009   en      gb   \n",
       "46365                       /cellphones/lg-gw520/  1/1/2010   en      us   \n",
       "...                                           ...       ...  ...     ...   \n",
       "166558                     /cellphones/yu-yureka/  9/9/2016   en      in   \n",
       "48229                  /cellphones/doogee-t6-pro/  9/9/2016   en      gb   \n",
       "166560                     /cellphones/yu-yureka/  9/9/2016   en      in   \n",
       "164617  /cellphones/microsoft-lumia-640-dual-sim/  9/9/2016   en      in   \n",
       "166555                     /cellphones/yu-yureka/  9/9/2016   en      in   \n",
       "\n",
       "             source            domain  score  score_max  \\\n",
       "72391       HEAR.nl           hear.nl   10.0       10.0   \n",
       "131689  Review Stop  reviewstop.co.uk    8.0       10.0   \n",
       "95087          Ciao           ciao.de   10.0       10.0   \n",
       "91413          Ciao        ciao.co.uk    6.0       10.0   \n",
       "46365        Newegg        newegg.com   10.0       10.0   \n",
       "...             ...               ...    ...        ...   \n",
       "166558       Amazon         amazon.in    2.0       10.0   \n",
       "48229        Amazon      amazon.co.uk    2.0       10.0   \n",
       "166560       Amazon         amazon.in    2.0       10.0   \n",
       "164617       Amazon         amazon.in   10.0       10.0   \n",
       "166555       Amazon         amazon.in    8.0       10.0   \n",
       "\n",
       "                                                  extract  \\\n",
       "72391   Geluid komt goed tot zijn recht door de fantas...   \n",
       "131689                              Good but not the best   \n",
       "95087   Sony Ericsson W550i mit Vertrag Mein nicht meh...   \n",
       "91413   Nokia 7900 Prism ******************** Nokia is...   \n",
       "46365   Who uses 900mhz in north america for 3G? I don...   \n",
       "...                                                   ...   \n",
       "166558           Worst camera Quality and display Quality   \n",
       "48229   Bought my phone about six months ago, everythi...   \n",
       "166560    hang problem in this mobile and very bad mobile   \n",
       "164617  Very good handset. Very good and fast UI. Came...   \n",
       "166555                            thus is best product on   \n",
       "\n",
       "                                   author  \\\n",
       "72391                          maximus123   \n",
       "131689                           UK Guest   \n",
       "95087                              walz02   \n",
       "91413                       gemsarchitect   \n",
       "46365                           Anonymous   \n",
       "...                                   ...   \n",
       "166558                    Amazon Customer   \n",
       "48229   Computer Technology Stoke Limited   \n",
       "166560                    Amazon Customer   \n",
       "164617                    Amazon Customer   \n",
       "166555                    Amazon Customer   \n",
       "\n",
       "                                                  product  \\\n",
       "72391                           Sony Ericsson Xperia Play   \n",
       "131689                                        Nokia 6610i   \n",
       "95087                         Sony Ericsson W550i Walkman   \n",
       "91413                                    Nokia 7900 Prism   \n",
       "46365   LG Mobile Calisto Black unlocked GSM slider ph...   \n",
       "...                                                   ...   \n",
       "166558                    YU Yureka (Moondust Grey,16 GB)   \n",
       "48229   DOOGEE T6 Pro Android 6.0 4G Smartphone 5.5inc...   \n",
       "166560                    YU Yureka (Moondust Grey,16 GB)   \n",
       "164617             Microsoft Lumia 640 (Orange, Dual SIM)   \n",
       "166555                    YU Yureka (Moondust Grey,16 GB)   \n",
       "\n",
       "                        product_name  \n",
       "72391      sony-ericsson-xperia-play  \n",
       "131689                   nokia-6610i  \n",
       "95087            sony-ericsson-w550i  \n",
       "91413               nokia-7900-prism  \n",
       "46365                       lg-gw520  \n",
       "...                              ...  \n",
       "166558                     yu-yureka  \n",
       "48229                  doogee-t6-pro  \n",
       "166560                     yu-yureka  \n",
       "164617  microsoft-lumia-640-dual-sim  \n",
       "166555                     yu-yureka  \n",
       "\n",
       "[176467 rows x 12 columns]"
      ]
     },
     "execution_count": 40,
     "metadata": {},
     "output_type": "execute_result"
    }
   ],
   "source": [
    "data[data.duplicated(['product_name', 'author', 'score'])].sort_values('date')"
   ]
  },
  {
   "cell_type": "markdown",
   "metadata": {
    "id": "w2vA2aXX-RsX"
   },
   "source": [
    "#### Observations:\n",
    "1. There are many duplicate records in which same user have rated same product in might be in different source or same source from where data has been collected. So we will dropping those records as we need rating of the same product by the same user once only."
   ]
  },
  {
   "cell_type": "code",
   "execution_count": 41,
   "metadata": {
    "id": "WGai2DPZHCQy"
   },
   "outputs": [],
   "source": [
    "# Dropping duplicate records\n",
    "data.drop_duplicates(subset=['product_name', 'author', 'score'], keep='first', inplace=True)"
   ]
  },
  {
   "cell_type": "code",
   "execution_count": 42,
   "metadata": {
    "colab": {
     "base_uri": "https://localhost:8080/"
    },
    "id": "RxWh2BLtHCIq",
    "outputId": "d72ff8f8-1be5-44c6-b49b-b80a88aef324"
   },
   "outputs": [
    {
     "name": "stdout",
     "output_type": "stream",
     "text": [
      "There are total 1099273 number of rows and 12 columns in the dataframe after dropping duplicates\n"
     ]
    }
   ],
   "source": [
    "# Checking shape of the data after dropping duplicates. Earlier there are 1415133 records were present.\n",
    "new_shape = data.shape\n",
    "print('There are total {} number of rows and {} columns in the dataframe after dropping duplicates'.format(new_shape[0], new_shape[1]))"
   ]
  },
  {
   "cell_type": "markdown",
   "metadata": {
    "id": "DW2MwvfeRLs3"
   },
   "source": [
    "### Checking invalid author names(haivng '?')"
   ]
  },
  {
   "cell_type": "code",
   "execution_count": 43,
   "metadata": {
    "id": "gQKtN1FMRNCX"
   },
   "outputs": [],
   "source": [
    "invalid_names_dataset = data[data['author'].str.contains('\\?')]"
   ]
  },
  {
   "cell_type": "code",
   "execution_count": 44,
   "metadata": {
    "colab": {
     "base_uri": "https://localhost:8080/",
     "height": 578
    },
    "id": "2OwAg_tPRM7C",
    "outputId": "1e77d055-3579-4e0b-881b-eaeaf91094a8"
   },
   "outputs": [
    {
     "data": {
      "text/html": [
       "<div>\n",
       "<style scoped>\n",
       "    .dataframe tbody tr th:only-of-type {\n",
       "        vertical-align: middle;\n",
       "    }\n",
       "\n",
       "    .dataframe tbody tr th {\n",
       "        vertical-align: top;\n",
       "    }\n",
       "\n",
       "    .dataframe thead th {\n",
       "        text-align: right;\n",
       "    }\n",
       "</style>\n",
       "<table border=\"1\" class=\"dataframe\">\n",
       "  <thead>\n",
       "    <tr style=\"text-align: right;\">\n",
       "      <th></th>\n",
       "      <th>phone_url</th>\n",
       "      <th>date</th>\n",
       "      <th>lang</th>\n",
       "      <th>country</th>\n",
       "      <th>source</th>\n",
       "      <th>domain</th>\n",
       "      <th>score</th>\n",
       "      <th>score_max</th>\n",
       "      <th>extract</th>\n",
       "      <th>author</th>\n",
       "      <th>product</th>\n",
       "      <th>product_name</th>\n",
       "    </tr>\n",
       "  </thead>\n",
       "  <tbody>\n",
       "    <tr>\n",
       "      <th>17674</th>\n",
       "      <td>/cellphones/samsung-galaxy-s7-edge/</td>\n",
       "      <td>9/6/2016</td>\n",
       "      <td>nl</td>\n",
       "      <td>be</td>\n",
       "      <td>KIESKEURIG</td>\n",
       "      <td>kieskeurig.be</td>\n",
       "      <td>9.0</td>\n",
       "      <td>10.0</td>\n",
       "      <td>Na een note 4 gehad te hebben als zeer tevrede...</td>\n",
       "      <td>#NAME?</td>\n",
       "      <td>Samsung Galaxy S7 Edge goud / 32 GB</td>\n",
       "      <td>samsung-galaxy-s7-edge</td>\n",
       "    </tr>\n",
       "    <tr>\n",
       "      <th>25684</th>\n",
       "      <td>/cellphones/samsung-galaxy-s7-789999/</td>\n",
       "      <td>8/14/2016</td>\n",
       "      <td>en</td>\n",
       "      <td>us</td>\n",
       "      <td>B&amp;H Photo</td>\n",
       "      <td>bhphotovideo.com</td>\n",
       "      <td>10.0</td>\n",
       "      <td>10.0</td>\n",
       "      <td>Transitioning from the Galaxy S4 to this was a...</td>\n",
       "      <td>#NAME?</td>\n",
       "      <td>Samsung Galaxy S7 SM-G930F 32GB Smartphone (Un...</td>\n",
       "      <td>samsung-galaxy-s7-789999</td>\n",
       "    </tr>\n",
       "    <tr>\n",
       "      <th>30819</th>\n",
       "      <td>/cellphones/samsung-galaxy-s7-789999/</td>\n",
       "      <td>3/31/2016</td>\n",
       "      <td>en</td>\n",
       "      <td>us</td>\n",
       "      <td>Amazon</td>\n",
       "      <td>amazon.com</td>\n",
       "      <td>6.0</td>\n",
       "      <td>10.0</td>\n",
       "      <td>Not a bad phone on its own, but Samsung has ta...</td>\n",
       "      <td>Who Cares?</td>\n",
       "      <td>Samsung Galaxy S7 G930a 32GB AT&amp;T GSM 4G LTE S...</td>\n",
       "      <td>samsung-galaxy-s7-789999</td>\n",
       "    </tr>\n",
       "    <tr>\n",
       "      <th>55647</th>\n",
       "      <td>/cellphones/apple-iphone-7/</td>\n",
       "      <td>9/19/2016</td>\n",
       "      <td>de</td>\n",
       "      <td>de</td>\n",
       "      <td>Amazon</td>\n",
       "      <td>amazon.de</td>\n",
       "      <td>4.0</td>\n",
       "      <td>10.0</td>\n",
       "      <td>Leider gibt es keinen 3,5 klinkenstecker !!!! ...</td>\n",
       "      <td>Aple,???!!!!!!</td>\n",
       "      <td>Apple iPhone 7 Smartphone (11,9 cm (4,7 Zoll),...</td>\n",
       "      <td>apple-iphone-7</td>\n",
       "    </tr>\n",
       "    <tr>\n",
       "      <th>62676</th>\n",
       "      <td>/cellphones/huawei-honor-8/</td>\n",
       "      <td>9/16/2016</td>\n",
       "      <td>en</td>\n",
       "      <td>us</td>\n",
       "      <td>Amazon</td>\n",
       "      <td>amazon.com</td>\n",
       "      <td>8.0</td>\n",
       "      <td>10.0</td>\n",
       "      <td>Soapbox moment starts here: I'm tired of revie...</td>\n",
       "      <td>They Still Make Pennies?</td>\n",
       "      <td>Huawei Honor 8 Unlocked Smartphone 32 GB Dual ...</td>\n",
       "      <td>huawei-honor-8</td>\n",
       "    </tr>\n",
       "    <tr>\n",
       "      <th>86863</th>\n",
       "      <td>/cellphones/lg-v10/</td>\n",
       "      <td>2/5/2016</td>\n",
       "      <td>en</td>\n",
       "      <td>us</td>\n",
       "      <td>Amazon</td>\n",
       "      <td>amazon.com</td>\n",
       "      <td>10.0</td>\n",
       "      <td>10.0</td>\n",
       "      <td>It's good and cheap.I like it.</td>\n",
       "      <td>Is it new?</td>\n",
       "      <td>LG V10 H962 64GB Ocean Blue, Dual Sim, 5.7\", 1...</td>\n",
       "      <td>lg-v10</td>\n",
       "    </tr>\n",
       "    <tr>\n",
       "      <th>99015</th>\n",
       "      <td>/cellphones/samsung-galaxy-s6/</td>\n",
       "      <td>12/10/2015</td>\n",
       "      <td>en</td>\n",
       "      <td>us</td>\n",
       "      <td>Phone Scoop</td>\n",
       "      <td>phonescoop.com</td>\n",
       "      <td>10.0</td>\n",
       "      <td>10.0</td>\n",
       "      <td>Great phone and features. The camera is amazin...</td>\n",
       "      <td>#NAME?</td>\n",
       "      <td>Galaxy S6 (GSM)</td>\n",
       "      <td>samsung-galaxy-s6</td>\n",
       "    </tr>\n",
       "    <tr>\n",
       "      <th>131044</th>\n",
       "      <td>/cellphones/samsung-galaxy-j5/</td>\n",
       "      <td>10/18/2015</td>\n",
       "      <td>de</td>\n",
       "      <td>de</td>\n",
       "      <td>Amazon</td>\n",
       "      <td>amazon.de</td>\n",
       "      <td>10.0</td>\n",
       "      <td>10.0</td>\n",
       "      <td>FÃ¼r den Preis ist das J5 top. Alles lÃ¤uft ru...</td>\n",
       "      <td>?</td>\n",
       "      <td>Samsung Galaxy J5 Smartphone (5 Zoll (12,7 cm)...</td>\n",
       "      <td>samsung-galaxy-j5</td>\n",
       "    </tr>\n",
       "    <tr>\n",
       "      <th>140980</th>\n",
       "      <td>/cellphones/motorola-moto-z-play/</td>\n",
       "      <td>12/14/2016</td>\n",
       "      <td>en</td>\n",
       "      <td>us</td>\n",
       "      <td>B&amp;H Photo</td>\n",
       "      <td>bhphotovideo.com</td>\n",
       "      <td>10.0</td>\n",
       "      <td>10.0</td>\n",
       "      <td>The Moto Z is a great phone so far with excell...</td>\n",
       "      <td>I have a few?</td>\n",
       "      <td>Moto Z Play XT1635 32GB Smartphone (Unlocked, ...</td>\n",
       "      <td>motorola-moto-z-play</td>\n",
       "    </tr>\n",
       "    <tr>\n",
       "      <th>141887</th>\n",
       "      <td>/cellphones/motorola-moto-z-play/</td>\n",
       "      <td>2/9/2017</td>\n",
       "      <td>fi</td>\n",
       "      <td>fi</td>\n",
       "      <td>Verkkokauppa</td>\n",
       "      <td>verkkokauppa.com</td>\n",
       "      <td>10.0</td>\n",
       "      <td>10.0</td>\n",
       "      <td>EdellisenÃ¤ puhelimenani oli Motorola Moto G 4...</td>\n",
       "      <td>#NAME?</td>\n",
       "      <td>Motorola Moto Z Play âAndroid-puhelin Dual-S...</td>\n",
       "      <td>motorola-moto-z-play</td>\n",
       "    </tr>\n",
       "  </tbody>\n",
       "</table>\n",
       "</div>"
      ],
      "text/plain": [
       "                                    phone_url        date lang country  \\\n",
       "17674     /cellphones/samsung-galaxy-s7-edge/    9/6/2016   nl      be   \n",
       "25684   /cellphones/samsung-galaxy-s7-789999/   8/14/2016   en      us   \n",
       "30819   /cellphones/samsung-galaxy-s7-789999/   3/31/2016   en      us   \n",
       "55647             /cellphones/apple-iphone-7/   9/19/2016   de      de   \n",
       "62676             /cellphones/huawei-honor-8/   9/16/2016   en      us   \n",
       "86863                     /cellphones/lg-v10/    2/5/2016   en      us   \n",
       "99015          /cellphones/samsung-galaxy-s6/  12/10/2015   en      us   \n",
       "131044         /cellphones/samsung-galaxy-j5/  10/18/2015   de      de   \n",
       "140980      /cellphones/motorola-moto-z-play/  12/14/2016   en      us   \n",
       "141887      /cellphones/motorola-moto-z-play/    2/9/2017   fi      fi   \n",
       "\n",
       "              source            domain  score  score_max  \\\n",
       "17674     KIESKEURIG     kieskeurig.be    9.0       10.0   \n",
       "25684      B&H Photo  bhphotovideo.com   10.0       10.0   \n",
       "30819         Amazon        amazon.com    6.0       10.0   \n",
       "55647         Amazon         amazon.de    4.0       10.0   \n",
       "62676         Amazon        amazon.com    8.0       10.0   \n",
       "86863         Amazon        amazon.com   10.0       10.0   \n",
       "99015    Phone Scoop    phonescoop.com   10.0       10.0   \n",
       "131044        Amazon         amazon.de   10.0       10.0   \n",
       "140980     B&H Photo  bhphotovideo.com   10.0       10.0   \n",
       "141887  Verkkokauppa  verkkokauppa.com   10.0       10.0   \n",
       "\n",
       "                                                  extract  \\\n",
       "17674   Na een note 4 gehad te hebben als zeer tevrede...   \n",
       "25684   Transitioning from the Galaxy S4 to this was a...   \n",
       "30819   Not a bad phone on its own, but Samsung has ta...   \n",
       "55647   Leider gibt es keinen 3,5 klinkenstecker !!!! ...   \n",
       "62676   Soapbox moment starts here: I'm tired of revie...   \n",
       "86863                      It's good and cheap.I like it.   \n",
       "99015   Great phone and features. The camera is amazin...   \n",
       "131044  FÃ¼r den Preis ist das J5 top. Alles lÃ¤uft ru...   \n",
       "140980  The Moto Z is a great phone so far with excell...   \n",
       "141887  EdellisenÃ¤ puhelimenani oli Motorola Moto G 4...   \n",
       "\n",
       "                          author  \\\n",
       "17674                     #NAME?   \n",
       "25684                     #NAME?   \n",
       "30819                 Who Cares?   \n",
       "55647             Aple,???!!!!!!   \n",
       "62676   They Still Make Pennies?   \n",
       "86863                 Is it new?   \n",
       "99015                     #NAME?   \n",
       "131044                         ?   \n",
       "140980             I have a few?   \n",
       "141887                    #NAME?   \n",
       "\n",
       "                                                  product  \\\n",
       "17674                 Samsung Galaxy S7 Edge goud / 32 GB   \n",
       "25684   Samsung Galaxy S7 SM-G930F 32GB Smartphone (Un...   \n",
       "30819   Samsung Galaxy S7 G930a 32GB AT&T GSM 4G LTE S...   \n",
       "55647   Apple iPhone 7 Smartphone (11,9 cm (4,7 Zoll),...   \n",
       "62676   Huawei Honor 8 Unlocked Smartphone 32 GB Dual ...   \n",
       "86863   LG V10 H962 64GB Ocean Blue, Dual Sim, 5.7\", 1...   \n",
       "99015                                     Galaxy S6 (GSM)   \n",
       "131044  Samsung Galaxy J5 Smartphone (5 Zoll (12,7 cm)...   \n",
       "140980  Moto Z Play XT1635 32GB Smartphone (Unlocked, ...   \n",
       "141887  Motorola Moto Z Play âAndroid-puhelin Dual-S...   \n",
       "\n",
       "                    product_name  \n",
       "17674     samsung-galaxy-s7-edge  \n",
       "25684   samsung-galaxy-s7-789999  \n",
       "30819   samsung-galaxy-s7-789999  \n",
       "55647             apple-iphone-7  \n",
       "62676             huawei-honor-8  \n",
       "86863                     lg-v10  \n",
       "99015          samsung-galaxy-s6  \n",
       "131044         samsung-galaxy-j5  \n",
       "140980      motorola-moto-z-play  \n",
       "141887      motorola-moto-z-play  "
      ]
     },
     "execution_count": 44,
     "metadata": {},
     "output_type": "execute_result"
    }
   ],
   "source": [
    "invalid_names_dataset.head(10)"
   ]
  },
  {
   "cell_type": "code",
   "execution_count": 45,
   "metadata": {
    "colab": {
     "base_uri": "https://localhost:8080/",
     "height": 578
    },
    "id": "TZ_OOvGHRMyu",
    "outputId": "3ba10b18-4030-4a1b-f33a-531a691e7312"
   },
   "outputs": [
    {
     "data": {
      "text/html": [
       "<div>\n",
       "<style scoped>\n",
       "    .dataframe tbody tr th:only-of-type {\n",
       "        vertical-align: middle;\n",
       "    }\n",
       "\n",
       "    .dataframe tbody tr th {\n",
       "        vertical-align: top;\n",
       "    }\n",
       "\n",
       "    .dataframe thead th {\n",
       "        text-align: right;\n",
       "    }\n",
       "</style>\n",
       "<table border=\"1\" class=\"dataframe\">\n",
       "  <thead>\n",
       "    <tr style=\"text-align: right;\">\n",
       "      <th></th>\n",
       "      <th>phone_url</th>\n",
       "      <th>date</th>\n",
       "      <th>lang</th>\n",
       "      <th>country</th>\n",
       "      <th>source</th>\n",
       "      <th>domain</th>\n",
       "      <th>score</th>\n",
       "      <th>score_max</th>\n",
       "      <th>extract</th>\n",
       "      <th>author</th>\n",
       "      <th>product</th>\n",
       "      <th>product_name</th>\n",
       "    </tr>\n",
       "  </thead>\n",
       "  <tbody>\n",
       "    <tr>\n",
       "      <th>96942</th>\n",
       "      <td>/cellphones/motorola-rokr-z6m/</td>\n",
       "      <td>12/14/2008</td>\n",
       "      <td>en</td>\n",
       "      <td>us</td>\n",
       "      <td>Phone Arena</td>\n",
       "      <td>phonearena.com</td>\n",
       "      <td>8.0</td>\n",
       "      <td>10.0</td>\n",
       "      <td>I've had this phone for a year now and with on...</td>\n",
       "      <td>Jay ???</td>\n",
       "      <td>Motorola ROKR Z6m</td>\n",
       "      <td>motorola-rokr-z6m</td>\n",
       "    </tr>\n",
       "    <tr>\n",
       "      <th>97795</th>\n",
       "      <td>/cellphones/sony-ericsson-k600i/</td>\n",
       "      <td>6/12/2006</td>\n",
       "      <td>en</td>\n",
       "      <td>us</td>\n",
       "      <td>Phone Arena</td>\n",
       "      <td>phonearena.com</td>\n",
       "      <td>10.0</td>\n",
       "      <td>10.0</td>\n",
       "      <td>this phone is the best out on the market infra...</td>\n",
       "      <td>???????</td>\n",
       "      <td>Sony Ericsson K600i</td>\n",
       "      <td>sony-ericsson-k600i</td>\n",
       "    </tr>\n",
       "    <tr>\n",
       "      <th>116468</th>\n",
       "      <td>/cellphones/motorola-motofone-f3/</td>\n",
       "      <td>2/4/2008</td>\n",
       "      <td>en</td>\n",
       "      <td>us</td>\n",
       "      <td>Amazon</td>\n",
       "      <td>amazon.com</td>\n",
       "      <td>8.0</td>\n",
       "      <td>10.0</td>\n",
       "      <td>I bought this on a whim. My dad's cell phone h...</td>\n",
       "      <td>AreYouKidding?</td>\n",
       "      <td>Motorola Motofone F3 Unlocked Phone with Dual-...</td>\n",
       "      <td>motorola-motofone-f3</td>\n",
       "    </tr>\n",
       "    <tr>\n",
       "      <th>120002</th>\n",
       "      <td>/cellphones/samsung-sgh-s500/</td>\n",
       "      <td>3/4/2003</td>\n",
       "      <td>en</td>\n",
       "      <td>us</td>\n",
       "      <td>Amazon</td>\n",
       "      <td>amazon.com</td>\n",
       "      <td>8.0</td>\n",
       "      <td>10.0</td>\n",
       "      <td>Coupled with a M2 card, This phone (at the tim...</td>\n",
       "      <td>#NAME?</td>\n",
       "      <td>Sony Ericsson S500i Unlocked Cell Phone with 2...</td>\n",
       "      <td>samsung-sgh-s500</td>\n",
       "    </tr>\n",
       "    <tr>\n",
       "      <th>120890</th>\n",
       "      <td>/cellphones/motorola-c650/</td>\n",
       "      <td>2/20/2009</td>\n",
       "      <td>en</td>\n",
       "      <td>us</td>\n",
       "      <td>Phone Arena</td>\n",
       "      <td>phonearena.com</td>\n",
       "      <td>1.0</td>\n",
       "      <td>10.0</td>\n",
       "      <td>Wow! I never thought a phone could be as horri...</td>\n",
       "      <td>Bobbb?</td>\n",
       "      <td>Motorola C650</td>\n",
       "      <td>motorola-c650</td>\n",
       "    </tr>\n",
       "    <tr>\n",
       "      <th>122147</th>\n",
       "      <td>/cellphones/lg-rumor/</td>\n",
       "      <td>8/30/2008</td>\n",
       "      <td>en</td>\n",
       "      <td>us</td>\n",
       "      <td>Phone Arena</td>\n",
       "      <td>phonearena.com</td>\n",
       "      <td>8.0</td>\n",
       "      <td>10.0</td>\n",
       "      <td>I've had this phone for a few weeks, and it's ...</td>\n",
       "      <td>does it matter?</td>\n",
       "      <td>LG RUMOR</td>\n",
       "      <td>lg-rumor</td>\n",
       "    </tr>\n",
       "    <tr>\n",
       "      <th>129665</th>\n",
       "      <td>/cellphones/motorola-i730-i733-i710-i720-i740/</td>\n",
       "      <td>8/8/2005</td>\n",
       "      <td>en</td>\n",
       "      <td>us</td>\n",
       "      <td>Amazon</td>\n",
       "      <td>amazon.com</td>\n",
       "      <td>8.0</td>\n",
       "      <td>10.0</td>\n",
       "      <td>This is suppose to be a review of the phone NO...</td>\n",
       "      <td>Looking for Answers \"What??\"</td>\n",
       "      <td>Motorola i730 Phone (Nextel)</td>\n",
       "      <td>motorola-i730-i733-i710-i720-i740</td>\n",
       "    </tr>\n",
       "    <tr>\n",
       "      <th>132043</th>\n",
       "      <td>/cellphones/philips-760/</td>\n",
       "      <td>5/19/2005</td>\n",
       "      <td>ru</td>\n",
       "      <td>ua</td>\n",
       "      <td>Mob.org</td>\n",
       "      <td>mob.ua</td>\n",
       "      <td>8.0</td>\n",
       "      <td>10.0</td>\n",
       "      <td>Ð Ð¾Ð±ÑÐµÐ¼ Ð´Ð¾Ð±ÑÐ¾ÑÐ½ÑÐ¹ ÑÐµÐ»Ð¸Ðº. Ð...</td>\n",
       "      <td>?Ð¿Ð¾ ÐÑÑÑ?</td>\n",
       "      <td>Philips 19PFL3405</td>\n",
       "      <td>philips-760</td>\n",
       "    </tr>\n",
       "    <tr>\n",
       "      <th>160532</th>\n",
       "      <td>/cellphones/siemens-c25/</td>\n",
       "      <td>6/14/2000</td>\n",
       "      <td>de</td>\n",
       "      <td>de</td>\n",
       "      <td>Dooyoo</td>\n",
       "      <td>dooyoo.de</td>\n",
       "      <td>6.0</td>\n",
       "      <td>10.0</td>\n",
       "      <td>Das C25 ist klein und handlich, die Standbyzei...</td>\n",
       "      <td>2?4you</td>\n",
       "      <td>Siemens C25 power</td>\n",
       "      <td>siemens-c25</td>\n",
       "    </tr>\n",
       "    <tr>\n",
       "      <th>163278</th>\n",
       "      <td>/cellphones/alcatel-ot-club-db/</td>\n",
       "      <td>10/1/2000</td>\n",
       "      <td>de</td>\n",
       "      <td>de</td>\n",
       "      <td>Dooyoo</td>\n",
       "      <td>dooyoo.de</td>\n",
       "      <td>10.0</td>\n",
       "      <td>10.0</td>\n",
       "      <td>nachdem hier schon so viel negatives Ã¼ber die...</td>\n",
       "      <td>#NAME?</td>\n",
       "      <td>Alcatel One Touch Club db</td>\n",
       "      <td>alcatel-ot-club-db</td>\n",
       "    </tr>\n",
       "  </tbody>\n",
       "</table>\n",
       "</div>"
      ],
      "text/plain": [
       "                                             phone_url        date lang  \\\n",
       "96942                   /cellphones/motorola-rokr-z6m/  12/14/2008   en   \n",
       "97795                 /cellphones/sony-ericsson-k600i/   6/12/2006   en   \n",
       "116468               /cellphones/motorola-motofone-f3/    2/4/2008   en   \n",
       "120002                   /cellphones/samsung-sgh-s500/    3/4/2003   en   \n",
       "120890                      /cellphones/motorola-c650/   2/20/2009   en   \n",
       "122147                           /cellphones/lg-rumor/   8/30/2008   en   \n",
       "129665  /cellphones/motorola-i730-i733-i710-i720-i740/    8/8/2005   en   \n",
       "132043                        /cellphones/philips-760/   5/19/2005   ru   \n",
       "160532                        /cellphones/siemens-c25/   6/14/2000   de   \n",
       "163278                 /cellphones/alcatel-ot-club-db/   10/1/2000   de   \n",
       "\n",
       "       country       source          domain  score  score_max  \\\n",
       "96942       us  Phone Arena  phonearena.com    8.0       10.0   \n",
       "97795       us  Phone Arena  phonearena.com   10.0       10.0   \n",
       "116468      us       Amazon      amazon.com    8.0       10.0   \n",
       "120002      us       Amazon      amazon.com    8.0       10.0   \n",
       "120890      us  Phone Arena  phonearena.com    1.0       10.0   \n",
       "122147      us  Phone Arena  phonearena.com    8.0       10.0   \n",
       "129665      us       Amazon      amazon.com    8.0       10.0   \n",
       "132043      ua      Mob.org          mob.ua    8.0       10.0   \n",
       "160532      de       Dooyoo       dooyoo.de    6.0       10.0   \n",
       "163278      de       Dooyoo       dooyoo.de   10.0       10.0   \n",
       "\n",
       "                                                  extract  \\\n",
       "96942   I've had this phone for a year now and with on...   \n",
       "97795   this phone is the best out on the market infra...   \n",
       "116468  I bought this on a whim. My dad's cell phone h...   \n",
       "120002  Coupled with a M2 card, This phone (at the tim...   \n",
       "120890  Wow! I never thought a phone could be as horri...   \n",
       "122147  I've had this phone for a few weeks, and it's ...   \n",
       "129665  This is suppose to be a review of the phone NO...   \n",
       "132043  Ð Ð¾Ð±ÑÐµÐ¼ Ð´Ð¾Ð±ÑÐ¾ÑÐ½ÑÐ¹ ÑÐµÐ»Ð¸Ðº. Ð...   \n",
       "160532  Das C25 ist klein und handlich, die Standbyzei...   \n",
       "163278  nachdem hier schon so viel negatives Ã¼ber die...   \n",
       "\n",
       "                              author  \\\n",
       "96942                        Jay ???   \n",
       "97795                        ???????   \n",
       "116468                AreYouKidding?   \n",
       "120002                        #NAME?   \n",
       "120890                        Bobbb?   \n",
       "122147               does it matter?   \n",
       "129665  Looking for Answers \"What??\"   \n",
       "132043               ?Ð¿Ð¾ ÐÑÑÑ?   \n",
       "160532                        2?4you   \n",
       "163278                        #NAME?   \n",
       "\n",
       "                                                  product  \\\n",
       "96942                                   Motorola ROKR Z6m   \n",
       "97795                                 Sony Ericsson K600i   \n",
       "116468  Motorola Motofone F3 Unlocked Phone with Dual-...   \n",
       "120002  Sony Ericsson S500i Unlocked Cell Phone with 2...   \n",
       "120890                                      Motorola C650   \n",
       "122147                                           LG RUMOR   \n",
       "129665                       Motorola i730 Phone (Nextel)   \n",
       "132043                                  Philips 19PFL3405   \n",
       "160532                                  Siemens C25 power   \n",
       "163278                          Alcatel One Touch Club db   \n",
       "\n",
       "                             product_name  \n",
       "96942                   motorola-rokr-z6m  \n",
       "97795                 sony-ericsson-k600i  \n",
       "116468               motorola-motofone-f3  \n",
       "120002                   samsung-sgh-s500  \n",
       "120890                      motorola-c650  \n",
       "122147                           lg-rumor  \n",
       "129665  motorola-i730-i733-i710-i720-i740  \n",
       "132043                        philips-760  \n",
       "160532                        siemens-c25  \n",
       "163278                 alcatel-ot-club-db  "
      ]
     },
     "execution_count": 45,
     "metadata": {},
     "output_type": "execute_result"
    }
   ],
   "source": [
    "invalid_names_dataset.tail(10)"
   ]
  },
  {
   "cell_type": "code",
   "execution_count": 46,
   "metadata": {
    "colab": {
     "base_uri": "https://localhost:8080/"
    },
    "id": "4ZNSJQULRbk_",
    "outputId": "1f393c73-6def-4765-eac1-422bc983ea7c"
   },
   "outputs": [
    {
     "data": {
      "text/plain": [
       "(7389, 12)"
      ]
     },
     "execution_count": 46,
     "metadata": {},
     "output_type": "execute_result"
    }
   ],
   "source": [
    "invalid_names_dataset.shape"
   ]
  },
  {
   "cell_type": "markdown",
   "metadata": {
    "id": "IMiJVpmuRfEM"
   },
   "source": [
    "#### Observations\n",
    "1. As we can see, there are author names present with invalid characters(contains '?') in the dataset.\n",
    "2. As data with invalid names is small, hence we will dropping those records.\n",
    "3. There are few author present with unreadable characters, that may be due to few character encoding. So we will keep those records. If required later, we will drop."
   ]
  },
  {
   "cell_type": "code",
   "execution_count": 47,
   "metadata": {
    "id": "8DQ6SOIFReIh"
   },
   "outputs": [],
   "source": [
    "data.drop(data[data['author'].str.contains('\\?')].index, inplace=True)"
   ]
  },
  {
   "cell_type": "code",
   "execution_count": 48,
   "metadata": {
    "colab": {
     "base_uri": "https://localhost:8080/"
    },
    "id": "cPKUzNoPSH_F",
    "outputId": "ccd5bae7-c8df-431a-c6e5-5ecc944a225d"
   },
   "outputs": [
    {
     "data": {
      "text/plain": [
       "(1064280, 12)"
      ]
     },
     "execution_count": 48,
     "metadata": {},
     "output_type": "execute_result"
    }
   ],
   "source": [
    "data.shape"
   ]
  },
  {
   "cell_type": "markdown",
   "metadata": {
    "id": "Xt4X-tphI4C5"
   },
   "source": [
    "### Sampling the data for Recommendation Engine"
   ]
  },
  {
   "cell_type": "code",
   "execution_count": 49,
   "metadata": {
    "id": "v0H5sovaeyJb"
   },
   "outputs": [],
   "source": [
    "data_sample = data.sample(n=1000000, random_state=612)"
   ]
  },
  {
   "cell_type": "code",
   "execution_count": 50,
   "metadata": {
    "colab": {
     "base_uri": "https://localhost:8080/"
    },
    "id": "tqu2f_NvfAgQ",
    "outputId": "b8ef9f4a-b86c-4fe4-8912-c3ebcc7d8f19"
   },
   "outputs": [
    {
     "data": {
      "text/plain": [
       "(1000000, 12)"
      ]
     },
     "execution_count": 50,
     "metadata": {},
     "output_type": "execute_result"
    }
   ],
   "source": [
    "data_sample.shape"
   ]
  },
  {
   "cell_type": "code",
   "execution_count": 51,
   "metadata": {
    "id": "LBC7mM9cgsPK"
   },
   "outputs": [],
   "source": [
    "# Dropping irrelevant columns\n",
    "data_sample = data_sample[['author', 'score', 'product_name']]"
   ]
  },
  {
   "cell_type": "code",
   "execution_count": 52,
   "metadata": {
    "colab": {
     "base_uri": "https://localhost:8080/",
     "height": 343
    },
    "id": "QresQDWJJOr4",
    "outputId": "4b060c22-0558-4d08-8c11-06a7161cdb35"
   },
   "outputs": [
    {
     "data": {
      "text/html": [
       "<div>\n",
       "<style scoped>\n",
       "    .dataframe tbody tr th:only-of-type {\n",
       "        vertical-align: middle;\n",
       "    }\n",
       "\n",
       "    .dataframe tbody tr th {\n",
       "        vertical-align: top;\n",
       "    }\n",
       "\n",
       "    .dataframe thead th {\n",
       "        text-align: right;\n",
       "    }\n",
       "</style>\n",
       "<table border=\"1\" class=\"dataframe\">\n",
       "  <thead>\n",
       "    <tr style=\"text-align: right;\">\n",
       "      <th></th>\n",
       "      <th>author</th>\n",
       "      <th>score</th>\n",
       "      <th>product_name</th>\n",
       "    </tr>\n",
       "  </thead>\n",
       "  <tbody>\n",
       "    <tr>\n",
       "      <th>226522</th>\n",
       "      <td>robbaey</td>\n",
       "      <td>10.0</td>\n",
       "      <td>samsung-s5230</td>\n",
       "    </tr>\n",
       "    <tr>\n",
       "      <th>211621</th>\n",
       "      <td>David Curran</td>\n",
       "      <td>10.0</td>\n",
       "      <td>blackberry-passport</td>\n",
       "    </tr>\n",
       "    <tr>\n",
       "      <th>298606</th>\n",
       "      <td>Ajit</td>\n",
       "      <td>10.0</td>\n",
       "      <td>lenovo-vibe-x3</td>\n",
       "    </tr>\n",
       "    <tr>\n",
       "      <th>257968</th>\n",
       "      <td>fabiano bonello d...</td>\n",
       "      <td>10.0</td>\n",
       "      <td>lg-optimus-g-e977</td>\n",
       "    </tr>\n",
       "    <tr>\n",
       "      <th>314897</th>\n",
       "      <td>Alfonso</td>\n",
       "      <td>10.0</td>\n",
       "      <td>samsung-galaxy-s-ii</td>\n",
       "    </tr>\n",
       "    <tr>\n",
       "      <th>164680</th>\n",
       "      <td>marco giuncato</td>\n",
       "      <td>10.0</td>\n",
       "      <td>htc-one-m7</td>\n",
       "    </tr>\n",
       "    <tr>\n",
       "      <th>82873</th>\n",
       "      <td>Manfred Muster</td>\n",
       "      <td>8.0</td>\n",
       "      <td>cubot-p7</td>\n",
       "    </tr>\n",
       "    <tr>\n",
       "      <th>239801</th>\n",
       "      <td>gerald raab</td>\n",
       "      <td>10.0</td>\n",
       "      <td>samsung-gt-b2100</td>\n",
       "    </tr>\n",
       "    <tr>\n",
       "      <th>7424</th>\n",
       "      <td>Eduardo Lander</td>\n",
       "      <td>10.0</td>\n",
       "      <td>lg-optimus-l7</td>\n",
       "    </tr>\n",
       "    <tr>\n",
       "      <th>91880</th>\n",
       "      <td>Ingrid Austin</td>\n",
       "      <td>10.0</td>\n",
       "      <td>blu-neo-4-5</td>\n",
       "    </tr>\n",
       "  </tbody>\n",
       "</table>\n",
       "</div>"
      ],
      "text/plain": [
       "                      author  score         product_name\n",
       "226522               robbaey   10.0        samsung-s5230\n",
       "211621          David Curran   10.0  blackberry-passport\n",
       "298606                  Ajit   10.0       lenovo-vibe-x3\n",
       "257968  fabiano bonello d...   10.0    lg-optimus-g-e977\n",
       "314897               Alfonso   10.0  samsung-galaxy-s-ii\n",
       "164680        marco giuncato   10.0           htc-one-m7\n",
       "82873         Manfred Muster    8.0             cubot-p7\n",
       "239801           gerald raab   10.0     samsung-gt-b2100\n",
       "7424          Eduardo Lander   10.0        lg-optimus-l7\n",
       "91880          Ingrid Austin   10.0          blu-neo-4-5"
      ]
     },
     "execution_count": 52,
     "metadata": {},
     "output_type": "execute_result"
    }
   ],
   "source": [
    "data_sample.head(10)"
   ]
  },
  {
   "cell_type": "code",
   "execution_count": 53,
   "metadata": {
    "colab": {
     "base_uri": "https://localhost:8080/"
    },
    "id": "nfgoUa3zJSzm",
    "outputId": "08824a19-0abe-41af-a236-34dd0e404c49"
   },
   "outputs": [
    {
     "data": {
      "text/plain": [
       "samsung-galaxy-s5         12123\n",
       "samsung-galaxy-s6         11610\n",
       "motorola-moto-g           11250\n",
       "samsung-galaxy-s7-edge    10241\n",
       "apple-iphone-5s           10181\n",
       "Name: product_name, dtype: int64"
      ]
     },
     "execution_count": 53,
     "metadata": {},
     "output_type": "execute_result"
    }
   ],
   "source": [
    "# Finding the product rated most\n",
    "data_sample['product_name'].value_counts().sort_values(ascending=False).head(5)"
   ]
  },
  {
   "cell_type": "markdown",
   "metadata": {
    "id": "WzJHRuRIyP4C"
   },
   "source": [
    "#### Observations:\n",
    "'Samsumng Galaxy S6' is the most rated smartphone by the users followed by 'Samsung Galaxy S7 Edge' and then 'Apple iPhone 5S'.\n"
   ]
  },
  {
   "cell_type": "code",
   "execution_count": 54,
   "metadata": {
    "colab": {
     "base_uri": "https://localhost:8080/"
    },
    "id": "QzFrJFJhxTgo",
    "outputId": "d52541a4-3e5c-4f57-dfbf-a1ee59119087"
   },
   "outputs": [
    {
     "data": {
      "text/plain": [
       "Amazon Customer    5132\n",
       "Cliente Amazon     1748\n",
       "Anonymous          1468\n",
       "Amazon Kunde       1217\n",
       "Client d'Amazon    1041\n",
       "Name: author, dtype: int64"
      ]
     },
     "execution_count": 54,
     "metadata": {},
     "output_type": "execute_result"
    }
   ],
   "source": [
    "# Finding the top users with most number of ratings \n",
    "data_sample['author'].value_counts().sort_values(ascending=False).head(5)"
   ]
  },
  {
   "cell_type": "markdown",
   "metadata": {
    "id": "2qumhiEHyzq-"
   },
   "source": [
    "#### Observations:\n",
    "1. 'Amazon Customer' has rated the most products. As name suggest it can be a default name used for the 'author' where username/customer name is not provided by the user.\n",
    "2. There are lot of rating by user 'Anonymous' by which we can infer that user has not provided the name so default value has been used.\n",
    "2. In order to verify, we need to check the data collection method to check for mistakes. Currently we dont have any other option so we will proceeding with the same.\n"
   ]
  },
  {
   "cell_type": "code",
   "execution_count": 55,
   "metadata": {
    "id": "xTvsdd7ByFom"
   },
   "outputs": [],
   "source": [
    "# Dataset with products more than 50 ratings and users have rated more than 50 times\n",
    "data_final = data_sample[data_sample['product_name'].isin(data_sample['product_name'].value_counts()[data_sample['product_name'].value_counts() > 50].index)]"
   ]
  },
  {
   "cell_type": "code",
   "execution_count": 56,
   "metadata": {
    "id": "erI-MabrjKXO"
   },
   "outputs": [],
   "source": [
    "data_final = data_final[data_final['author'].isin(data_final['author'].value_counts()[data_final['author'].value_counts() > 50].index)]"
   ]
  },
  {
   "cell_type": "code",
   "execution_count": 57,
   "metadata": {
    "colab": {
     "base_uri": "https://localhost:8080/"
    },
    "id": "4RTHdQsmmL6w",
    "outputId": "a2b87d35-1e95-420e-e939-7ea018ba2598"
   },
   "outputs": [
    {
     "name": "stdout",
     "output_type": "stream",
     "text": [
      "The shape of the dataset after filtering is (75102, 3)\n"
     ]
    }
   ],
   "source": [
    "print('The shape of the dataset after filtering is', data_final.shape)"
   ]
  },
  {
   "cell_type": "markdown",
   "metadata": {
    "id": "TSRAULgnEPBG"
   },
   "source": [
    "## Popularity Based Recommendation System"
   ]
  },
  {
   "cell_type": "code",
   "execution_count": 58,
   "metadata": {
    "id": "bJWTCznTHcZ5"
   },
   "outputs": [],
   "source": [
    "popular_phones = data_final.groupby('product_name').agg({'score': 'mean', 'author':'count'}).reset_index()"
   ]
  },
  {
   "cell_type": "code",
   "execution_count": 59,
   "metadata": {
    "colab": {
     "base_uri": "https://localhost:8080/",
     "height": 195
    },
    "id": "S6pPfhPnHONJ",
    "outputId": "7e6e4c97-3bb6-40e0-c592-ef1109ea751c"
   },
   "outputs": [
    {
     "data": {
      "text/html": [
       "<div>\n",
       "<style scoped>\n",
       "    .dataframe tbody tr th:only-of-type {\n",
       "        vertical-align: middle;\n",
       "    }\n",
       "\n",
       "    .dataframe tbody tr th {\n",
       "        vertical-align: top;\n",
       "    }\n",
       "\n",
       "    .dataframe thead th {\n",
       "        text-align: right;\n",
       "    }\n",
       "</style>\n",
       "<table border=\"1\" class=\"dataframe\">\n",
       "  <thead>\n",
       "    <tr style=\"text-align: right;\">\n",
       "      <th></th>\n",
       "      <th>product_name</th>\n",
       "      <th>score</th>\n",
       "      <th>author</th>\n",
       "    </tr>\n",
       "  </thead>\n",
       "  <tbody>\n",
       "    <tr>\n",
       "      <th>1188</th>\n",
       "      <td>nokia-5250</td>\n",
       "      <td>10.0</td>\n",
       "      <td>7</td>\n",
       "    </tr>\n",
       "    <tr>\n",
       "      <th>539</th>\n",
       "      <td>huawei-ideos-x5</td>\n",
       "      <td>10.0</td>\n",
       "      <td>4</td>\n",
       "    </tr>\n",
       "    <tr>\n",
       "      <th>1523</th>\n",
       "      <td>samsung-e1120</td>\n",
       "      <td>10.0</td>\n",
       "      <td>4</td>\n",
       "    </tr>\n",
       "    <tr>\n",
       "      <th>738</th>\n",
       "      <td>lg-gw620</td>\n",
       "      <td>10.0</td>\n",
       "      <td>3</td>\n",
       "    </tr>\n",
       "    <tr>\n",
       "      <th>1710</th>\n",
       "      <td>samsung-i780</td>\n",
       "      <td>10.0</td>\n",
       "      <td>3</td>\n",
       "    </tr>\n",
       "  </tbody>\n",
       "</table>\n",
       "</div>"
      ],
      "text/plain": [
       "         product_name  score  author\n",
       "1188       nokia-5250   10.0       7\n",
       "539   huawei-ideos-x5   10.0       4\n",
       "1523    samsung-e1120   10.0       4\n",
       "738          lg-gw620   10.0       3\n",
       "1710     samsung-i780   10.0       3"
      ]
     },
     "execution_count": 59,
     "metadata": {},
     "output_type": "execute_result"
    }
   ],
   "source": [
    "popular_phones.sort_values(['score', 'author'], ascending=False).head(5)"
   ]
  },
  {
   "cell_type": "markdown",
   "metadata": {
    "id": "JDaSQmm_LEhH"
   },
   "source": [
    "#### Observations:\n",
    "1. The above method based on mean rating and count has few drawbacks.\n",
    "2. As we can observe, the phones have rated 10 but have been rated by few users only so we cannot assume that these are phones are popular.\n",
    "3. There might be possibility that there are phones with rating 8 or 9 where 100 users might have rated which should be considered better.\n",
    "4. In order to overcome these challenges, we are going with weighted_average approach for finding the popular. The formula for weighted rating is:\n",
    "\n",
    "**WeightedRating(WR) = (v.R / v+m) + (m.C / v+m)**\n",
    "\n",
    "where,\n",
    "\n",
    "v is the number of votes for the phones\n",
    "\n",
    "m is the minimum votes required to be listed\n",
    "\n",
    "R is the average rating of the phone\n",
    "\n",
    "C is the mean vote across the whole report\n",
    "\n",
    "** Reference: https://www.datacamp.com/community/tutorials/recommender-systems-python\n",
    "\n",
    "\n",
    "We are going to consider quantile range of 0.8 for finding popular phones."
   ]
  },
  {
   "cell_type": "code",
   "execution_count": 60,
   "metadata": {
    "id": "gyO891h3RjMq"
   },
   "outputs": [],
   "source": [
    "v = popular_phones['author']\n",
    "R = popular_phones['score']\n",
    "C = popular_phones['score'].mean()\n",
    "m = popular_phones['score'].quantile(0.8)"
   ]
  },
  {
   "cell_type": "code",
   "execution_count": 61,
   "metadata": {
    "id": "u_8FDsxohjHu"
   },
   "outputs": [],
   "source": [
    "popular_phones['weighted_rating'] = ((R*v)+ (C*m))/(v+m)"
   ]
  },
  {
   "cell_type": "code",
   "execution_count": 62,
   "metadata": {
    "colab": {
     "base_uri": "https://localhost:8080/",
     "height": 195
    },
    "id": "y5K3nyuoiLyF",
    "outputId": "542eecfb-ceb1-436e-cedb-d07584e9dd42"
   },
   "outputs": [
    {
     "data": {
      "text/html": [
       "<div>\n",
       "<style scoped>\n",
       "    .dataframe tbody tr th:only-of-type {\n",
       "        vertical-align: middle;\n",
       "    }\n",
       "\n",
       "    .dataframe tbody tr th {\n",
       "        vertical-align: top;\n",
       "    }\n",
       "\n",
       "    .dataframe thead th {\n",
       "        text-align: right;\n",
       "    }\n",
       "</style>\n",
       "<table border=\"1\" class=\"dataframe\">\n",
       "  <thead>\n",
       "    <tr style=\"text-align: right;\">\n",
       "      <th></th>\n",
       "      <th>product_name</th>\n",
       "      <th>score</th>\n",
       "      <th>author</th>\n",
       "      <th>weighted_rating</th>\n",
       "    </tr>\n",
       "  </thead>\n",
       "  <tbody>\n",
       "    <tr>\n",
       "      <th>487</th>\n",
       "      <td>huawei-ascend-g600</td>\n",
       "      <td>9.360000</td>\n",
       "      <td>25</td>\n",
       "      <td>8.879865</td>\n",
       "    </tr>\n",
       "    <tr>\n",
       "      <th>2084</th>\n",
       "      <td>sony-xperia-tx</td>\n",
       "      <td>9.250000</td>\n",
       "      <td>32</td>\n",
       "      <td>8.875921</td>\n",
       "    </tr>\n",
       "    <tr>\n",
       "      <th>797</th>\n",
       "      <td>lg-optimus-g</td>\n",
       "      <td>9.061224</td>\n",
       "      <td>49</td>\n",
       "      <td>8.825503</td>\n",
       "    </tr>\n",
       "    <tr>\n",
       "      <th>1674</th>\n",
       "      <td>samsung-galaxy-s8</td>\n",
       "      <td>9.269231</td>\n",
       "      <td>26</td>\n",
       "      <td>8.825111</td>\n",
       "    </tr>\n",
       "    <tr>\n",
       "      <th>1098</th>\n",
       "      <td>motorola-xt1225</td>\n",
       "      <td>8.963855</td>\n",
       "      <td>83</td>\n",
       "      <td>8.824768</td>\n",
       "    </tr>\n",
       "  </tbody>\n",
       "</table>\n",
       "</div>"
      ],
      "text/plain": [
       "            product_name     score  author  weighted_rating\n",
       "487   huawei-ascend-g600  9.360000      25         8.879865\n",
       "2084      sony-xperia-tx  9.250000      32         8.875921\n",
       "797         lg-optimus-g  9.061224      49         8.825503\n",
       "1674   samsung-galaxy-s8  9.269231      26         8.825111\n",
       "1098     motorola-xt1225  8.963855      83         8.824768"
      ]
     },
     "execution_count": 62,
     "metadata": {},
     "output_type": "execute_result"
    }
   ],
   "source": [
    "popular_phones.sort_values('weighted_rating', ascending=False).head(5)"
   ]
  },
  {
   "cell_type": "markdown",
   "metadata": {
    "id": "rGWeJDkdoGB5"
   },
   "source": [
    "#### Observations:\n",
    "1. Now we can observe based on the weighted_rating, the top 5 popular phones which is more effective way than identifying based on mean rating provided by the user.\n",
    "2. Popularity based recommendation is not personalized based on the user.\n",
    "3. Popularity based recommendation will be same throughout the population."
   ]
  },
  {
   "cell_type": "markdown",
   "metadata": {
    "id": "Z7LXag9mrHCK"
   },
   "source": [
    "## Collaborative Filtering"
   ]
  },
  {
   "cell_type": "code",
   "execution_count": 64,
   "metadata": {
    "id": "Q8SMgTnWsfyD"
   },
   "outputs": [],
   "source": [
    "# Importing required packages\n",
    "from surprise import Reader, Dataset\n",
    "from surprise import SVD, KNNWithMeans, accuracy\n",
    "from surprise.model_selection import train_test_split, GridSearchCV\n",
    "from surprise.model_selection.validation import cross_validate"
   ]
  },
  {
   "cell_type": "code",
   "execution_count": 65,
   "metadata": {
    "id": "pJf80tbuua7N"
   },
   "outputs": [],
   "source": [
    "reader = Reader(rating_scale=(1, 10))"
   ]
  },
  {
   "cell_type": "code",
   "execution_count": 66,
   "metadata": {
    "id": "8t7pDlLmu2as"
   },
   "outputs": [],
   "source": [
    "dataset = Dataset.load_from_df(data_final[['author', 'product_name', 'score']], reader)"
   ]
  },
  {
   "cell_type": "code",
   "execution_count": 67,
   "metadata": {
    "colab": {
     "base_uri": "https://localhost:8080/",
     "height": 195
    },
    "id": "2I3-ORlI22Qm",
    "outputId": "4eb8bf4a-d8f1-4352-a4ec-cdfe2db98123"
   },
   "outputs": [
    {
     "data": {
      "text/html": [
       "<div>\n",
       "<style scoped>\n",
       "    .dataframe tbody tr th:only-of-type {\n",
       "        vertical-align: middle;\n",
       "    }\n",
       "\n",
       "    .dataframe tbody tr th {\n",
       "        vertical-align: top;\n",
       "    }\n",
       "\n",
       "    .dataframe thead th {\n",
       "        text-align: right;\n",
       "    }\n",
       "</style>\n",
       "<table border=\"1\" class=\"dataframe\">\n",
       "  <thead>\n",
       "    <tr style=\"text-align: right;\">\n",
       "      <th></th>\n",
       "      <th>author</th>\n",
       "      <th>product_name</th>\n",
       "      <th>score</th>\n",
       "    </tr>\n",
       "  </thead>\n",
       "  <tbody>\n",
       "    <tr>\n",
       "      <th>314897</th>\n",
       "      <td>Alfonso</td>\n",
       "      <td>samsung-galaxy-s-ii</td>\n",
       "      <td>10.0</td>\n",
       "    </tr>\n",
       "    <tr>\n",
       "      <th>242073</th>\n",
       "      <td>michele</td>\n",
       "      <td>samsung-galaxy-young</td>\n",
       "      <td>8.0</td>\n",
       "    </tr>\n",
       "    <tr>\n",
       "      <th>153891</th>\n",
       "      <td>Ð¡Ð²ÐµÑÐ»Ð°Ð½Ð°</td>\n",
       "      <td>samsung-galaxy-note-2</td>\n",
       "      <td>9.0</td>\n",
       "    </tr>\n",
       "    <tr>\n",
       "      <th>238231</th>\n",
       "      <td>Raffaele</td>\n",
       "      <td>samsung-galaxy-s3-mini</td>\n",
       "      <td>6.0</td>\n",
       "    </tr>\n",
       "    <tr>\n",
       "      <th>76350</th>\n",
       "      <td>ÐÐ½Ð½Ð°</td>\n",
       "      <td>nokia-500</td>\n",
       "      <td>10.0</td>\n",
       "    </tr>\n",
       "  </tbody>\n",
       "</table>\n",
       "</div>"
      ],
      "text/plain": [
       "                  author            product_name  score\n",
       "314897           Alfonso     samsung-galaxy-s-ii   10.0\n",
       "242073           michele    samsung-galaxy-young    8.0\n",
       "153891  Ð¡Ð²ÐµÑÐ»Ð°Ð½Ð°   samsung-galaxy-note-2    9.0\n",
       "238231          Raffaele  samsung-galaxy-s3-mini    6.0\n",
       "76350           ÐÐ½Ð½Ð°               nokia-500   10.0"
      ]
     },
     "execution_count": 67,
     "metadata": {},
     "output_type": "execute_result"
    }
   ],
   "source": [
    "dataset.df.head(5)"
   ]
  },
  {
   "cell_type": "code",
   "execution_count": 68,
   "metadata": {
    "id": "s0B2j3_3xJDL"
   },
   "outputs": [],
   "source": [
    "trainset, testset = train_test_split(dataset, test_size=0.2, random_state=1)"
   ]
  },
  {
   "cell_type": "markdown",
   "metadata": {
    "id": "WN0TQVADrj-W"
   },
   "source": [
    "### Using SVD"
   ]
  },
  {
   "cell_type": "code",
   "execution_count": 69,
   "metadata": {
    "id": "5Yecw6s8rC_Y"
   },
   "outputs": [],
   "source": [
    "svd = SVD(n_factors=100, n_epochs=25, biased=False)"
   ]
  },
  {
   "cell_type": "code",
   "execution_count": 70,
   "metadata": {
    "colab": {
     "base_uri": "https://localhost:8080/"
    },
    "id": "YDiPrD8c2jl4",
    "outputId": "58fd5064-5570-4c2b-c37a-34bc9e3fdb10"
   },
   "outputs": [
    {
     "data": {
      "text/plain": [
       "<surprise.prediction_algorithms.matrix_factorization.SVD at 0x7fed8cc9f820>"
      ]
     },
     "execution_count": 70,
     "metadata": {},
     "output_type": "execute_result"
    }
   ],
   "source": [
    "svd.fit(trainset)"
   ]
  },
  {
   "cell_type": "code",
   "execution_count": 71,
   "metadata": {
    "id": "BnCgveldpoX2"
   },
   "outputs": [],
   "source": [
    "svd_pred_ = svd.test(testset)"
   ]
  },
  {
   "cell_type": "code",
   "execution_count": 72,
   "metadata": {
    "colab": {
     "base_uri": "https://localhost:8080/"
    },
    "id": "BbYG8jzq2BTw",
    "outputId": "85cbb070-569c-42b9-a2c0-2ec7f94d3dbc"
   },
   "outputs": [
    {
     "name": "stdout",
     "output_type": "stream",
     "text": [
      "RMSE: 3.1986\n"
     ]
    }
   ],
   "source": [
    "svd_acc_ = accuracy.rmse(svd_pred_)"
   ]
  },
  {
   "cell_type": "markdown",
   "metadata": {
    "id": "DK56qGG93Bso"
   },
   "source": [
    "### Using KNNWithMeans"
   ]
  },
  {
   "cell_type": "code",
   "execution_count": 73,
   "metadata": {
    "id": "IIon806P2TXQ"
   },
   "outputs": [],
   "source": [
    "# Item-Item based Collaborative Filtering\n",
    "knn_item_ = KNNWithMeans(k=50, min_k=5, sim_options={'name': 'pearson_baseline', 'user_based': False})"
   ]
  },
  {
   "cell_type": "code",
   "execution_count": 74,
   "metadata": {
    "colab": {
     "base_uri": "https://localhost:8080/"
    },
    "id": "pfdytrOI5rYI",
    "outputId": "e53fdd7a-686d-4b1d-fbc9-da6ec67b2c2e"
   },
   "outputs": [
    {
     "name": "stdout",
     "output_type": "stream",
     "text": [
      "Estimating biases using als...\n",
      "Computing the pearson_baseline similarity matrix...\n",
      "Done computing similarity matrix.\n"
     ]
    },
    {
     "data": {
      "text/plain": [
       "<surprise.prediction_algorithms.knns.KNNWithMeans at 0x7fed00ee1730>"
      ]
     },
     "execution_count": 74,
     "metadata": {},
     "output_type": "execute_result"
    }
   ],
   "source": [
    "knn_item_.fit(trainset)"
   ]
  },
  {
   "cell_type": "code",
   "execution_count": 75,
   "metadata": {
    "id": "XsO2nqeo5vFS"
   },
   "outputs": [],
   "source": [
    "knn_item_pred_ = knn_item_.test(testset)"
   ]
  },
  {
   "cell_type": "code",
   "execution_count": 76,
   "metadata": {
    "colab": {
     "base_uri": "https://localhost:8080/"
    },
    "id": "rbbW5kOQ5zBv",
    "outputId": "9e139ad1-0c2d-421c-b70a-730972a2a8b3"
   },
   "outputs": [
    {
     "name": "stdout",
     "output_type": "stream",
     "text": [
      "RMSE: 2.9667\n"
     ]
    }
   ],
   "source": [
    "knn_item_acc_ = accuracy.rmse(knn_item_pred_)"
   ]
  },
  {
   "cell_type": "code",
   "execution_count": 77,
   "metadata": {
    "id": "qiyZ-QvN509l"
   },
   "outputs": [],
   "source": [
    "# User-user based Collaborative Filtering\n",
    "knn_user_ = KNNWithMeans(k=50, min_k=5, sim_options={'name': 'pearson_baseline', 'user_based': True})"
   ]
  },
  {
   "cell_type": "code",
   "execution_count": 78,
   "metadata": {
    "colab": {
     "base_uri": "https://localhost:8080/"
    },
    "id": "0Tfbc2L9545f",
    "outputId": "fee93d04-ea1f-42a8-dc20-3694f1a58ea7"
   },
   "outputs": [
    {
     "name": "stdout",
     "output_type": "stream",
     "text": [
      "Estimating biases using als...\n",
      "Computing the pearson_baseline similarity matrix...\n",
      "Done computing similarity matrix.\n"
     ]
    },
    {
     "data": {
      "text/plain": [
       "<surprise.prediction_algorithms.knns.KNNWithMeans at 0x7fece9d58eb0>"
      ]
     },
     "execution_count": 78,
     "metadata": {},
     "output_type": "execute_result"
    }
   ],
   "source": [
    "knn_user_.fit(trainset)"
   ]
  },
  {
   "cell_type": "code",
   "execution_count": 79,
   "metadata": {
    "id": "Tia5bvuK6bgk"
   },
   "outputs": [],
   "source": [
    "knn_user_pred_ = knn_user_.test(testset)"
   ]
  },
  {
   "cell_type": "code",
   "execution_count": 80,
   "metadata": {
    "colab": {
     "base_uri": "https://localhost:8080/"
    },
    "id": "8A0EcIGu6fGH",
    "outputId": "0dee84c8-72a4-4f89-bee6-88258844665d"
   },
   "outputs": [
    {
     "name": "stdout",
     "output_type": "stream",
     "text": [
      "RMSE: 2.9499\n"
     ]
    }
   ],
   "source": [
    "knn_user_acc_ = accuracy.rmse(knn_user_pred_)"
   ]
  },
  {
   "cell_type": "markdown",
   "metadata": {
    "id": "HbXnTqx2G_-x"
   },
   "source": [
    "#### Average Rating based on 3 trained models"
   ]
  },
  {
   "cell_type": "code",
   "execution_count": 82,
   "metadata": {},
   "outputs": [],
   "source": [
    "svd_pred_df = pd.DataFrame(svd_pred_)\n",
    "knn_item_pred_df = pd.DataFrame(knn_item_pred_)\n",
    "knn_user_pred_df = pd.DataFrame(knn_user_pred_)"
   ]
  },
  {
   "cell_type": "code",
   "execution_count": 83,
   "metadata": {
    "id": "kgg4znyR_q4H"
   },
   "outputs": [],
   "source": [
    "pred_df_merged_ = svd_pred_df.merge(knn_item_pred_df, how='inner', on=['uid', 'iid'], suffixes=('_svd', '_knn_item'))\n",
    "pred_df_merged_ = pred_df_merged_.merge(knn_user_pred_df, how='left', on=['uid', 'iid'])"
   ]
  },
  {
   "cell_type": "code",
   "execution_count": 84,
   "metadata": {
    "id": "O9Ym13rb_q1J"
   },
   "outputs": [],
   "source": [
    "pred_df_merged_['est_avg'] = (pred_df_merged_['est_svd'] + pred_df_merged_['est_knn_item'] + pred_df_merged_['est']) / 3"
   ]
  },
  {
   "cell_type": "code",
   "execution_count": 86,
   "metadata": {
    "colab": {
     "base_uri": "https://localhost:8080/",
     "height": 195
    },
    "id": "FQ9krxLt_qdD",
    "outputId": "c4078811-1c2d-4e34-aa11-7e9c88d952fb"
   },
   "outputs": [
    {
     "data": {
      "text/html": [
       "<div>\n",
       "<style scoped>\n",
       "    .dataframe tbody tr th:only-of-type {\n",
       "        vertical-align: middle;\n",
       "    }\n",
       "\n",
       "    .dataframe tbody tr th {\n",
       "        vertical-align: top;\n",
       "    }\n",
       "\n",
       "    .dataframe thead th {\n",
       "        text-align: right;\n",
       "    }\n",
       "</style>\n",
       "<table border=\"1\" class=\"dataframe\">\n",
       "  <thead>\n",
       "    <tr style=\"text-align: right;\">\n",
       "      <th></th>\n",
       "      <th>uid</th>\n",
       "      <th>iid</th>\n",
       "      <th>r_ui</th>\n",
       "      <th>est_avg</th>\n",
       "    </tr>\n",
       "  </thead>\n",
       "  <tbody>\n",
       "    <tr>\n",
       "      <th>0</th>\n",
       "      <td>Amazon Customer</td>\n",
       "      <td>lg-g2-mini</td>\n",
       "      <td>6.0</td>\n",
       "      <td>6.715770</td>\n",
       "    </tr>\n",
       "    <tr>\n",
       "      <th>1</th>\n",
       "      <td>Brian</td>\n",
       "      <td>samsung-galaxy-mega-6-3-i9200</td>\n",
       "      <td>10.0</td>\n",
       "      <td>7.871257</td>\n",
       "    </tr>\n",
       "    <tr>\n",
       "      <th>2</th>\n",
       "      <td>Jo</td>\n",
       "      <td>htc-flyer</td>\n",
       "      <td>10.0</td>\n",
       "      <td>6.839707</td>\n",
       "    </tr>\n",
       "    <tr>\n",
       "      <th>3</th>\n",
       "      <td>Enrico</td>\n",
       "      <td>huawei-ascend-y5-y560</td>\n",
       "      <td>8.0</td>\n",
       "      <td>8.336492</td>\n",
       "    </tr>\n",
       "    <tr>\n",
       "      <th>4</th>\n",
       "      <td>e-bit</td>\n",
       "      <td>motorola-defy</td>\n",
       "      <td>6.0</td>\n",
       "      <td>6.134003</td>\n",
       "    </tr>\n",
       "  </tbody>\n",
       "</table>\n",
       "</div>"
      ],
      "text/plain": [
       "               uid                            iid  r_ui   est_avg\n",
       "0  Amazon Customer                     lg-g2-mini   6.0  6.715770\n",
       "1            Brian  samsung-galaxy-mega-6-3-i9200  10.0  7.871257\n",
       "2               Jo                      htc-flyer  10.0  6.839707\n",
       "3           Enrico          huawei-ascend-y5-y560   8.0  8.336492\n",
       "4            e-bit                  motorola-defy   6.0  6.134003"
      ]
     },
     "execution_count": 86,
     "metadata": {},
     "output_type": "execute_result"
    }
   ],
   "source": [
    "pred_df_merged_.drop(['r_ui_svd', 'est_svd', 'details_svd', 'r_ui_knn_item', 'est_knn_item', 'details_knn_item', 'est', 'details'], axis=1, inplace=True)\n",
    "pred_df_merged_.head()"
   ]
  },
  {
   "cell_type": "code",
   "execution_count": 87,
   "metadata": {
    "colab": {
     "base_uri": "https://localhost:8080/",
     "height": 297
    },
    "id": "gCnvdFj9AJ0m",
    "outputId": "d48a5351-741c-4f00-8e3b-6403fdb9c500"
   },
   "outputs": [
    {
     "data": {
      "text/plain": [
       "<AxesSubplot:xlabel='est_avg', ylabel='Count'>"
      ]
     },
     "execution_count": 87,
     "metadata": {},
     "output_type": "execute_result"
    },
    {
     "data": {
      "image/png": "[encoded data removed]",
      "text/plain": [
       "<Figure size 432x288 with 1 Axes>"
      ]
     },
     "metadata": {
      "needs_background": "light"
     },
     "output_type": "display_data"
    }
   ],
   "source": [
    "sns.histplot(pred_df_merged_['est_avg'])"
   ]
  },
  {
   "cell_type": "markdown",
   "metadata": {
    "id": "4BRYBOib_9E-"
   },
   "source": [
    "### Comparing each collaborative model independently"
   ]
  },
  {
   "cell_type": "code",
   "execution_count": 88,
   "metadata": {
    "colab": {
     "base_uri": "https://localhost:8080/"
    },
    "id": "TElxms-FGWRx",
    "outputId": "47acdacb-cb54-440c-d699-02b674b9e170"
   },
   "outputs": [
    {
     "name": "stdout",
     "output_type": "stream",
     "text": [
      "RMSE for SVD Collaborating Filter Model = 3.198590516796809\n",
      "RMSE for item-item based KNNWithMeans Collaborating Filter Model = 2.9666690248527408\n",
      "RMSE for user-user based KNNWithMeans Collaborating Filter Model = 2.9498528772972876\n"
     ]
    }
   ],
   "source": [
    "print('RMSE for SVD Collaborating Filter Model =', svd_acc_)\n",
    "print('RMSE for item-item based KNNWithMeans Collaborating Filter Model =', knn_item_acc_)\n",
    "print('RMSE for user-user based KNNWithMeans Collaborating Filter Model =', knn_user_acc_)"
   ]
  },
  {
   "cell_type": "code",
   "execution_count": 89,
   "metadata": {
    "colab": {
     "base_uri": "https://localhost:8080/",
     "height": 106
    },
    "id": "eM50m1SWKfMa",
    "outputId": "b12d0c97-9c41-4f3b-f635-26c8b07d33f8"
   },
   "outputs": [
    {
     "data": {
      "text/html": [
       "<div>\n",
       "<style scoped>\n",
       "    .dataframe tbody tr th:only-of-type {\n",
       "        vertical-align: middle;\n",
       "    }\n",
       "\n",
       "    .dataframe tbody tr th {\n",
       "        vertical-align: top;\n",
       "    }\n",
       "\n",
       "    .dataframe thead th {\n",
       "        text-align: right;\n",
       "    }\n",
       "</style>\n",
       "<table border=\"1\" class=\"dataframe\">\n",
       "  <thead>\n",
       "    <tr style=\"text-align: right;\">\n",
       "      <th></th>\n",
       "      <th>count</th>\n",
       "      <th>mean</th>\n",
       "      <th>std</th>\n",
       "      <th>min</th>\n",
       "      <th>25%</th>\n",
       "      <th>50%</th>\n",
       "      <th>75%</th>\n",
       "      <th>max</th>\n",
       "    </tr>\n",
       "  </thead>\n",
       "  <tbody>\n",
       "    <tr>\n",
       "      <th>r_ui</th>\n",
       "      <td>15021.0</td>\n",
       "      <td>7.770188</td>\n",
       "      <td>2.731294</td>\n",
       "      <td>1.0</td>\n",
       "      <td>6.00000</td>\n",
       "      <td>8.000000</td>\n",
       "      <td>10.00000</td>\n",
       "      <td>10.0</td>\n",
       "    </tr>\n",
       "    <tr>\n",
       "      <th>est</th>\n",
       "      <td>15021.0</td>\n",
       "      <td>7.439207</td>\n",
       "      <td>1.699119</td>\n",
       "      <td>1.0</td>\n",
       "      <td>6.41605</td>\n",
       "      <td>7.636563</td>\n",
       "      <td>8.72225</td>\n",
       "      <td>10.0</td>\n",
       "    </tr>\n",
       "  </tbody>\n",
       "</table>\n",
       "</div>"
      ],
      "text/plain": [
       "        count      mean       std  min      25%       50%       75%   max\n",
       "r_ui  15021.0  7.770188  2.731294  1.0  6.00000  8.000000  10.00000  10.0\n",
       "est   15021.0  7.439207  1.699119  1.0  6.41605  7.636563   8.72225  10.0"
      ]
     },
     "execution_count": 89,
     "metadata": {},
     "output_type": "execute_result"
    }
   ],
   "source": [
    "# SVD collaboration filtering prediction evaluation\n",
    "svd_pred_df.describe().T"
   ]
  },
  {
   "cell_type": "code",
   "execution_count": 90,
   "metadata": {
    "colab": {
     "base_uri": "https://localhost:8080/",
     "height": 106
    },
    "id": "I-s7We0mKvuK",
    "outputId": "2b14d9f2-f58d-481f-edfd-860c28317347"
   },
   "outputs": [
    {
     "data": {
      "text/html": [
       "<div>\n",
       "<style scoped>\n",
       "    .dataframe tbody tr th:only-of-type {\n",
       "        vertical-align: middle;\n",
       "    }\n",
       "\n",
       "    .dataframe tbody tr th {\n",
       "        vertical-align: top;\n",
       "    }\n",
       "\n",
       "    .dataframe thead th {\n",
       "        text-align: right;\n",
       "    }\n",
       "</style>\n",
       "<table border=\"1\" class=\"dataframe\">\n",
       "  <thead>\n",
       "    <tr style=\"text-align: right;\">\n",
       "      <th></th>\n",
       "      <th>count</th>\n",
       "      <th>mean</th>\n",
       "      <th>std</th>\n",
       "      <th>min</th>\n",
       "      <th>25%</th>\n",
       "      <th>50%</th>\n",
       "      <th>75%</th>\n",
       "      <th>max</th>\n",
       "    </tr>\n",
       "  </thead>\n",
       "  <tbody>\n",
       "    <tr>\n",
       "      <th>r_ui</th>\n",
       "      <td>15021.0</td>\n",
       "      <td>7.770188</td>\n",
       "      <td>2.731294</td>\n",
       "      <td>1.0</td>\n",
       "      <td>6.000000</td>\n",
       "      <td>8.000000</td>\n",
       "      <td>10.00000</td>\n",
       "      <td>10.0</td>\n",
       "    </tr>\n",
       "    <tr>\n",
       "      <th>est</th>\n",
       "      <td>15021.0</td>\n",
       "      <td>7.624373</td>\n",
       "      <td>1.349971</td>\n",
       "      <td>1.0</td>\n",
       "      <td>6.903272</td>\n",
       "      <td>7.888357</td>\n",
       "      <td>8.56112</td>\n",
       "      <td>10.0</td>\n",
       "    </tr>\n",
       "  </tbody>\n",
       "</table>\n",
       "</div>"
      ],
      "text/plain": [
       "        count      mean       std  min       25%       50%       75%   max\n",
       "r_ui  15021.0  7.770188  2.731294  1.0  6.000000  8.000000  10.00000  10.0\n",
       "est   15021.0  7.624373  1.349971  1.0  6.903272  7.888357   8.56112  10.0"
      ]
     },
     "execution_count": 90,
     "metadata": {},
     "output_type": "execute_result"
    }
   ],
   "source": [
    "# KNNWithMeans item-item based collaboration filtering prediction evaluation\n",
    "knn_item_pred_df.describe().T"
   ]
  },
  {
   "cell_type": "code",
   "execution_count": 91,
   "metadata": {
    "colab": {
     "base_uri": "https://localhost:8080/",
     "height": 106
    },
    "id": "qu1jwhrDKvzM",
    "outputId": "f57a0dbf-656d-4301-b934-00684d9a29ca"
   },
   "outputs": [
    {
     "data": {
      "text/html": [
       "<div>\n",
       "<style scoped>\n",
       "    .dataframe tbody tr th:only-of-type {\n",
       "        vertical-align: middle;\n",
       "    }\n",
       "\n",
       "    .dataframe tbody tr th {\n",
       "        vertical-align: top;\n",
       "    }\n",
       "\n",
       "    .dataframe thead th {\n",
       "        text-align: right;\n",
       "    }\n",
       "</style>\n",
       "<table border=\"1\" class=\"dataframe\">\n",
       "  <thead>\n",
       "    <tr style=\"text-align: right;\">\n",
       "      <th></th>\n",
       "      <th>count</th>\n",
       "      <th>mean</th>\n",
       "      <th>std</th>\n",
       "      <th>min</th>\n",
       "      <th>25%</th>\n",
       "      <th>50%</th>\n",
       "      <th>75%</th>\n",
       "      <th>max</th>\n",
       "    </tr>\n",
       "  </thead>\n",
       "  <tbody>\n",
       "    <tr>\n",
       "      <th>r_ui</th>\n",
       "      <td>15021.0</td>\n",
       "      <td>7.770188</td>\n",
       "      <td>2.731294</td>\n",
       "      <td>1.0</td>\n",
       "      <td>6.000000</td>\n",
       "      <td>8.000000</td>\n",
       "      <td>10.000000</td>\n",
       "      <td>10.0</td>\n",
       "    </tr>\n",
       "    <tr>\n",
       "      <th>est</th>\n",
       "      <td>15021.0</td>\n",
       "      <td>7.675655</td>\n",
       "      <td>1.269853</td>\n",
       "      <td>1.0</td>\n",
       "      <td>7.031709</td>\n",
       "      <td>7.889891</td>\n",
       "      <td>8.536355</td>\n",
       "      <td>10.0</td>\n",
       "    </tr>\n",
       "  </tbody>\n",
       "</table>\n",
       "</div>"
      ],
      "text/plain": [
       "        count      mean       std  min       25%       50%        75%   max\n",
       "r_ui  15021.0  7.770188  2.731294  1.0  6.000000  8.000000  10.000000  10.0\n",
       "est   15021.0  7.675655  1.269853  1.0  7.031709  7.889891   8.536355  10.0"
      ]
     },
     "execution_count": 91,
     "metadata": {},
     "output_type": "execute_result"
    }
   ],
   "source": [
    "# KNNWithMeans user-user based collaboration filtering prediction evaluation\n",
    "knn_user_pred_df.describe().T"
   ]
  },
  {
   "cell_type": "code",
   "execution_count": 92,
   "metadata": {
    "colab": {
     "base_uri": "https://localhost:8080/",
     "height": 312
    },
    "id": "tFjnxmttUJMg",
    "outputId": "e4b0af86-16b4-4706-d7f1-5a8ec6b75bee"
   },
   "outputs": [
    {
     "data": {
      "text/plain": [
       "Text(0.5, 1.0, 'KNNWithMeans User Based')"
      ]
     },
     "execution_count": 92,
     "metadata": {},
     "output_type": "execute_result"
    },
    {
     "data": {
      "image/png": "[encoded data removed]",
      "text/plain": [
       "<Figure size 1152x288 with 3 Axes>"
      ]
     },
     "metadata": {
      "needs_background": "light"
     },
     "output_type": "display_data"
    }
   ],
   "source": [
    "fig, ax = plt.subplots(1, 3, figsize=(16, 4))\n",
    "sns.histplot(svd_pred_df['est'], ax=ax[0]).set_title('SVD Model')\n",
    "sns.histplot(knn_item_pred_df['est'], ax=ax[1]).set_title('KNNWithMeans Item Based')\n",
    "sns.histplot(knn_user_pred_df['est'], ax=ax[2]).set_title('KNNWithMeans User Based')"
   ]
  },
  {
   "cell_type": "code",
   "execution_count": 93,
   "metadata": {
    "id": "wClH94GqaGfU"
   },
   "outputs": [],
   "source": [
    "test_df = pd.DataFrame(testset, columns=['product_name', 'author', 'score'])"
   ]
  },
  {
   "cell_type": "code",
   "execution_count": 94,
   "metadata": {
    "colab": {
     "base_uri": "https://localhost:8080/",
     "height": 405
    },
    "id": "Sz0_LAHDZL9z",
    "outputId": "25445e10-9592-4dc9-c5e5-f751e1dbd4c0"
   },
   "outputs": [
    {
     "data": {
      "text/plain": [
       "<AxesSubplot:xlabel='score', ylabel='Count'>"
      ]
     },
     "execution_count": 94,
     "metadata": {},
     "output_type": "execute_result"
    },
    {
     "data": {
      "image/png": "[encoded data removed]",
      "text/plain": [
       "<Figure size 1152x432 with 1 Axes>"
      ]
     },
     "metadata": {
      "needs_background": "light"
     },
     "output_type": "display_data"
    }
   ],
   "source": [
    "plt.figure(figsize=(16, 6))\n",
    "sns.histplot(test_df['score'])"
   ]
  },
  {
   "cell_type": "markdown",
   "metadata": {
    "id": "FEmPO7dt_XnF"
   },
   "source": [
    "#### Observations & Inferences:\n",
    "1. Based on RMSE score, KNNWithMeans is performing better than SVD model.\n",
    "2. Based on the visualization, we can observe, KNNWithMeans have generalized the scoring around 8 rating while in SVD, we can observe the peak around 8 rating and 2nd peak for ratng 10.\n",
    "3. In original ratings plot, we can see ratings for 10 is maximum followed by 8 rating. Same pattern we can observe in SVD model estimation. While KNNWithMeans performing better on RMSE score but having a big difference in the patterns.\n",
    "4. We can infer that KNNWithMeans is easily scalable for co-rated items but SVD performs better in predicting the rating.\n",
    "5. KNNWithMeans in easy in implementation and new data can be added easily but faces problem with new user/item.\n",
    "6. SVD works better with sparse data and information can be easily loss due to dimensionality reduction."
   ]
  },
  {
   "cell_type": "markdown",
   "metadata": {
    "id": "o2FEzb6GwBpn"
   },
   "source": [
    "### Recommend top 5 products for user in testset\n",
    "\n",
    "We are going to use user based collaboration filter for recommending the products based on the similarity between users through common rated items.\n",
    "\n",
    "**Note:** I am using the users from test dataset and recommending the product based on complete dataset where user have not rated the product already."
   ]
  },
  {
   "cell_type": "code",
   "execution_count": 95,
   "metadata": {
    "id": "FeH-fKaLvXg-"
   },
   "outputs": [],
   "source": [
    "# Users in testset\n",
    "user_list = pd.DataFrame(testset)[0].unique()"
   ]
  },
  {
   "cell_type": "code",
   "execution_count": 96,
   "metadata": {
    "colab": {
     "base_uri": "https://localhost:8080/"
    },
    "id": "314f2ATkIbSm",
    "outputId": "902fd8cb-f975-401f-d84e-c3557a51fe00"
   },
   "outputs": [
    {
     "name": "stdout",
     "output_type": "stream",
     "text": [
      "There are total 614 users in the testset.\n"
     ]
    }
   ],
   "source": [
    "print('There are total {} users in the testset.'.format(len(user_list)))"
   ]
  },
  {
   "cell_type": "code",
   "execution_count": 97,
   "metadata": {
    "id": "ZHTirxYFL_QG"
   },
   "outputs": [],
   "source": [
    "user_list = pd.DataFrame(user_list)\n",
    "\n",
    "# Default column for merging with product list\n",
    "user_list['key'] = 1"
   ]
  },
  {
   "cell_type": "code",
   "execution_count": 98,
   "metadata": {
    "id": "rrb32amnzVXM"
   },
   "outputs": [],
   "source": [
    "product_list = data_final['product_name'].unique()"
   ]
  },
  {
   "cell_type": "code",
   "execution_count": 99,
   "metadata": {
    "colab": {
     "base_uri": "https://localhost:8080/"
    },
    "id": "-BrEUFvoIXOY",
    "outputId": "3775d057-ce25-4e4a-93f0-ff0aa3183665"
   },
   "outputs": [
    {
     "name": "stdout",
     "output_type": "stream",
     "text": [
      "There are total 2221 products in the overall dataset.\n"
     ]
    }
   ],
   "source": [
    "print('There are total {} products in the overall dataset.'.format(len(product_list)))"
   ]
  },
  {
   "cell_type": "code",
   "execution_count": 100,
   "metadata": {
    "id": "K3hUMI9yxcuc"
   },
   "outputs": [],
   "source": [
    "product_list = pd.DataFrame(product_list)\n",
    "\n",
    "# Default column for merging with user list\n",
    "product_list['key'] = 1"
   ]
  },
  {
   "cell_type": "code",
   "execution_count": 101,
   "metadata": {
    "id": "LLcreJRFx9mt"
   },
   "outputs": [],
   "source": [
    "predict_input = pd.merge(user_list, product_list, on ='key').drop(\"key\", 1)"
   ]
  },
  {
   "cell_type": "code",
   "execution_count": 102,
   "metadata": {
    "id": "g-bWs2zhy-Tp"
   },
   "outputs": [],
   "source": [
    "predict_input.columns = ['author', 'product_name']"
   ]
  },
  {
   "cell_type": "code",
   "execution_count": 103,
   "metadata": {
    "colab": {
     "base_uri": "https://localhost:8080/"
    },
    "id": "H_zE4Z_f1Rvi",
    "outputId": "6179bb97-6516-4f90-ebd3-fa71345b780e"
   },
   "outputs": [
    {
     "data": {
      "text/plain": [
       "(1363694, 2)"
      ]
     },
     "execution_count": 103,
     "metadata": {},
     "output_type": "execute_result"
    }
   ],
   "source": [
    "predict_input.shape"
   ]
  },
  {
   "cell_type": "markdown",
   "metadata": {
    "id": "xPGORRUnqx9g"
   },
   "source": [
    "As dataset is huge, so I am converting the dataframe to surpise dataset and create a testset from the input dataset.\n",
    "For finding the score on the dataset, we will use test method from the model which will give estimate score in less time.\n",
    " "
   ]
  },
  {
   "cell_type": "code",
   "execution_count": 104,
   "metadata": {
    "id": "QUdTCIDpJn-4"
   },
   "outputs": [],
   "source": [
    "# Removing records where user have already rated the product\n",
    "predict_input_merged = predict_input.merge(data_final, on=['author', 'product_name'], how='left', indicator=True).query('_merge == \"left_only\"').drop('_merge', 1)"
   ]
  },
  {
   "cell_type": "code",
   "execution_count": 105,
   "metadata": {
    "id": "Rwswsq6Dp8kv"
   },
   "outputs": [],
   "source": [
    "predict_input_merged['score'] = 0"
   ]
  },
  {
   "cell_type": "code",
   "execution_count": 106,
   "metadata": {
    "id": "xujAvRrMqCu-"
   },
   "outputs": [],
   "source": [
    "predict_input_final = Dataset.load_from_df(predict_input_merged[['author','product_name','score']], reader)"
   ]
  },
  {
   "cell_type": "code",
   "execution_count": 107,
   "metadata": {
    "id": "N6Zewgj7qZdm"
   },
   "outputs": [],
   "source": [
    "NA, predict_test = train_test_split(predict_input_final, test_size=1.0)"
   ]
  },
  {
   "cell_type": "code",
   "execution_count": 108,
   "metadata": {
    "id": "_YnhDYlSqixm"
   },
   "outputs": [],
   "source": [
    "predictions = knn_user_.test(predict_test)"
   ]
  },
  {
   "cell_type": "code",
   "execution_count": 109,
   "metadata": {
    "id": "OepuQzp3NIVl"
   },
   "outputs": [],
   "source": [
    "recommend_df = pd.DataFrame(predictions)"
   ]
  },
  {
   "cell_type": "code",
   "execution_count": 110,
   "metadata": {
    "id": "r7NKXVgRFUBT"
   },
   "outputs": [],
   "source": [
    "recommend_df['was_impossible'] = recommend_df['details'].apply(lambda x: x['was_impossible'])"
   ]
  },
  {
   "cell_type": "code",
   "execution_count": 111,
   "metadata": {
    "id": "DEuYZdUJtPbf"
   },
   "outputs": [],
   "source": [
    "# Dropping r_ui as default rating was initialized as 0\n",
    "recommend_df.drop('r_ui', axis=1, inplace=True)"
   ]
  },
  {
   "cell_type": "code",
   "execution_count": 112,
   "metadata": {
    "colab": {
     "base_uri": "https://localhost:8080/",
     "height": 343
    },
    "id": "9OEej0vZtcS4",
    "outputId": "483bc1e9-695f-47f8-83a3-3e833e7ee200"
   },
   "outputs": [
    {
     "data": {
      "text/html": [
       "<div>\n",
       "<style scoped>\n",
       "    .dataframe tbody tr th:only-of-type {\n",
       "        vertical-align: middle;\n",
       "    }\n",
       "\n",
       "    .dataframe tbody tr th {\n",
       "        vertical-align: top;\n",
       "    }\n",
       "\n",
       "    .dataframe thead th {\n",
       "        text-align: right;\n",
       "    }\n",
       "</style>\n",
       "<table border=\"1\" class=\"dataframe\">\n",
       "  <thead>\n",
       "    <tr style=\"text-align: right;\">\n",
       "      <th></th>\n",
       "      <th>uid</th>\n",
       "      <th>iid</th>\n",
       "      <th>est</th>\n",
       "      <th>details</th>\n",
       "      <th>was_impossible</th>\n",
       "    </tr>\n",
       "  </thead>\n",
       "  <tbody>\n",
       "    <tr>\n",
       "      <th>0</th>\n",
       "      <td>ÐÐ¸ÐºÐ¸ÑÐ°</td>\n",
       "      <td>sanyo-pro-700</td>\n",
       "      <td>9.021277</td>\n",
       "      <td>{'actual_k': 2, 'was_impossible': False}</td>\n",
       "      <td>False</td>\n",
       "    </tr>\n",
       "    <tr>\n",
       "      <th>1</th>\n",
       "      <td>Tommy</td>\n",
       "      <td>sony-ericsson-t610</td>\n",
       "      <td>10.000000</td>\n",
       "      <td>{'actual_k': 5, 'was_impossible': False}</td>\n",
       "      <td>False</td>\n",
       "    </tr>\n",
       "    <tr>\n",
       "      <th>2</th>\n",
       "      <td>Mark</td>\n",
       "      <td>lenovo-k6-dual</td>\n",
       "      <td>8.919027</td>\n",
       "      <td>{'actual_k': 13, 'was_impossible': False}</td>\n",
       "      <td>False</td>\n",
       "    </tr>\n",
       "    <tr>\n",
       "      <th>3</th>\n",
       "      <td>Gianni</td>\n",
       "      <td>samsung-sgh-e200</td>\n",
       "      <td>8.434783</td>\n",
       "      <td>{'actual_k': 0, 'was_impossible': False}</td>\n",
       "      <td>False</td>\n",
       "    </tr>\n",
       "    <tr>\n",
       "      <th>4</th>\n",
       "      <td>peter</td>\n",
       "      <td>sony-ericsson-c905</td>\n",
       "      <td>7.559668</td>\n",
       "      <td>{'actual_k': 11, 'was_impossible': False}</td>\n",
       "      <td>False</td>\n",
       "    </tr>\n",
       "    <tr>\n",
       "      <th>5</th>\n",
       "      <td>Melissa</td>\n",
       "      <td>samsung-galaxy-avant</td>\n",
       "      <td>7.697344</td>\n",
       "      <td>{'actual_k': 5, 'was_impossible': False}</td>\n",
       "      <td>False</td>\n",
       "    </tr>\n",
       "    <tr>\n",
       "      <th>6</th>\n",
       "      <td>S</td>\n",
       "      <td>motorola-v3690</td>\n",
       "      <td>7.461538</td>\n",
       "      <td>{'actual_k': 1, 'was_impossible': False}</td>\n",
       "      <td>False</td>\n",
       "    </tr>\n",
       "    <tr>\n",
       "      <th>7</th>\n",
       "      <td>Pasquale</td>\n",
       "      <td>lg-vx-8350</td>\n",
       "      <td>8.968598</td>\n",
       "      <td>{'actual_k': 11, 'was_impossible': False}</td>\n",
       "      <td>False</td>\n",
       "    </tr>\n",
       "    <tr>\n",
       "      <th>8</th>\n",
       "      <td>fred</td>\n",
       "      <td>blu-studio-m-hd</td>\n",
       "      <td>8.318182</td>\n",
       "      <td>{'actual_k': 4, 'was_impossible': False}</td>\n",
       "      <td>False</td>\n",
       "    </tr>\n",
       "    <tr>\n",
       "      <th>9</th>\n",
       "      <td>Carlo</td>\n",
       "      <td>vodafone-smart-ii</td>\n",
       "      <td>7.746942</td>\n",
       "      <td>{'was_impossible': True, 'reason': 'User and/o...</td>\n",
       "      <td>True</td>\n",
       "    </tr>\n",
       "  </tbody>\n",
       "</table>\n",
       "</div>"
      ],
      "text/plain": [
       "            uid                   iid        est  \\\n",
       "0  ÐÐ¸ÐºÐ¸ÑÐ°         sanyo-pro-700   9.021277   \n",
       "1         Tommy    sony-ericsson-t610  10.000000   \n",
       "2          Mark        lenovo-k6-dual   8.919027   \n",
       "3        Gianni      samsung-sgh-e200   8.434783   \n",
       "4         peter    sony-ericsson-c905   7.559668   \n",
       "5       Melissa  samsung-galaxy-avant   7.697344   \n",
       "6             S        motorola-v3690   7.461538   \n",
       "7      Pasquale            lg-vx-8350   8.968598   \n",
       "8          fred       blu-studio-m-hd   8.318182   \n",
       "9         Carlo     vodafone-smart-ii   7.746942   \n",
       "\n",
       "                                             details  was_impossible  \n",
       "0           {'actual_k': 2, 'was_impossible': False}           False  \n",
       "1           {'actual_k': 5, 'was_impossible': False}           False  \n",
       "2          {'actual_k': 13, 'was_impossible': False}           False  \n",
       "3           {'actual_k': 0, 'was_impossible': False}           False  \n",
       "4          {'actual_k': 11, 'was_impossible': False}           False  \n",
       "5           {'actual_k': 5, 'was_impossible': False}           False  \n",
       "6           {'actual_k': 1, 'was_impossible': False}           False  \n",
       "7          {'actual_k': 11, 'was_impossible': False}           False  \n",
       "8           {'actual_k': 4, 'was_impossible': False}           False  \n",
       "9  {'was_impossible': True, 'reason': 'User and/o...            True  "
      ]
     },
     "execution_count": 112,
     "metadata": {},
     "output_type": "execute_result"
    }
   ],
   "source": [
    "recommend_df.head(10)"
   ]
  },
  {
   "cell_type": "code",
   "execution_count": 113,
   "metadata": {
    "colab": {
     "base_uri": "https://localhost:8080/"
    },
    "id": "j7m6AKJHtpsp",
    "outputId": "af19ecba-f343-4adc-de0e-01e004366900"
   },
   "outputs": [
    {
     "data": {
      "text/plain": [
       "(1303908, 5)"
      ]
     },
     "execution_count": 113,
     "metadata": {},
     "output_type": "execute_result"
    }
   ],
   "source": [
    "recommend_df.shape"
   ]
  },
  {
   "cell_type": "code",
   "execution_count": 114,
   "metadata": {
    "id": "QENH-V0nE7oy"
   },
   "outputs": [],
   "source": [
    "# Dropping records where was_impossible = False\n",
    "recommend_df.drop(recommend_df[recommend_df['was_impossible'] == True].index, axis=0, inplace=True)"
   ]
  },
  {
   "cell_type": "code",
   "execution_count": 115,
   "metadata": {
    "colab": {
     "base_uri": "https://localhost:8080/"
    },
    "id": "KDG3pqL0SxG5",
    "outputId": "d91e547b-70e6-4c41-c4b5-c5aa2ac58186"
   },
   "outputs": [
    {
     "data": {
      "text/plain": [
       "(1282462, 5)"
      ]
     },
     "execution_count": 115,
     "metadata": {},
     "output_type": "execute_result"
    }
   ],
   "source": [
    "recommend_df.shape"
   ]
  },
  {
   "cell_type": "code",
   "execution_count": 116,
   "metadata": {
    "id": "8tQX1DU0UUqX"
   },
   "outputs": [],
   "source": [
    "from collections import defaultdict\n",
    "def recommend_product(df, n=5):\n",
    "    # First map the predictions to each user.\n",
    "    top_n = defaultdict(list)\n",
    "    for i, col in df.iterrows():\n",
    "        top_n[col['uid']].append((col['iid'], col['est']))\n",
    "\n",
    "    # Then sort the predictions for each user and retrieve the k highest ones.\n",
    "    for uid, user_ratings in top_n.items():\n",
    "        user_ratings.sort(key=lambda x: x[1], reverse=True)\n",
    "        top_n[uid] = user_ratings[:n]\n",
    "\n",
    "    return top_n"
   ]
  },
  {
   "cell_type": "code",
   "execution_count": 117,
   "metadata": {
    "colab": {
     "base_uri": "https://localhost:8080/"
    },
    "id": "T185sdykU0FY",
    "outputId": "71807acf-9643-4744-976a-11420c1b8b0d"
   },
   "outputs": [
    {
     "name": "stdout",
     "output_type": "stream",
     "text": [
      "ÐÐ¸ÐºÐ¸ÑÐ° ['huawei-w1', 'samsung-sch-r355', 'huawei-ascend-mate-2', 'xiaomi-redmi-note-3-pro', 'huawei-honor-6x']\n",
      "Tommy ['sony-ericsson-t610', 'blackberry-9720', 'motorola-razr-v3m-357929', 'sony-ericsson-k550i', 'google-pixel']\n",
      "Mark ['motorola-droid-razr-m', 'asus-zenfone-2-laser-ze601kl', 'motorola-moto-z-play', 'samsung-galaxy-avant', 'nokia-8800']\n",
      "Gianni ['htc-one-sv', 'samsung-galaxy-s8-plus', 'lg-p715-optimus-l7-ii', 'motorola-moto-g5', 'samsung-c5212']\n",
      "peter ['nokia-6600', 'nokia-6350', 'lg-elite-ls696', 'htc-desire-eye-m910x', 'cubot-s600']\n",
      "Melissa ['nokia-6310i', 'samsung-sgh-x700', 'huawei-w1', 'samsung-galaxy-express-i437', 'lenovo-vibe-x2']\n",
      "S ['nokia-2710', 'alcatel-one-touch-995', 'asus-zenfone-3-deluxe', 'sony-ericsson-w200i', 'meizu-pro-6']\n",
      "Pasquale ['huawei-p8-max', 'nokia-5610', 'samsung-b3310', 'samsung-galaxy-mega-2-sm-g750', 'tp-link-archer-t6e']\n",
      "fred ['apple-iphone-7-plus', 'vodafone-785-smart-4-mini', 'motorola-moto-z-play', 'motorola-gleam', 'meizu-pro-5']\n",
      "Jose Antonio ['nokia-5233', 'samsung-galaxy-s8', 'yota-yotaphone-2', 'nokia-107', 'huawei-ascend-g600']\n",
      "ÐÐ»Ð°Ð´Ð¸ÑÐ»Ð°Ð² ['alcatel-one-touch-idol-ultra', 'samsung-sgh-i900-omnia', 'huawei-mate-9', 'thl-w200', 'lg-optimus-net']\n",
      "ÐÐ»ÐµÐ½Ð° ['samsung-sgh-x700', 'blackberry-9720', 'sony-ericsson-aino', 'lg-l-fino', 'doro-phone-easy-410-gsm']\n",
      "Maurizio ['oppo-r7-plus', 'oppo-f1', 'kyocera-kona-s2151', 'htc-titan', 'nokia-5233']\n",
      "Albert ['nokia-6500-slide', 'huawei-ascend-g615', 'htc-dlx', 'samsung-galaxy-j7-prime', 'lg-v10']\n",
      "Juan ['yu-yutopia', 'blackberry-dtek60', 'blackberry-venice', 'huawei-w1', 'nokia-7230']\n",
      "Jenny ['samsung-c3322', 'lg-g-vista-d631-vs880', 'samsung-f400', 'samsung-illusion', 'htc-7-trophy']\n",
      "Nick ['lg-voyager-vx-10000', 'tp-link-archer-t6e', 'vodafone-smart-ultra-6', 'htc-tytn-ii', 'mysaga-c2']\n",
      "Julie ['xiaomi-redmi-3', 'lenovo-vibe-x3', 'alcatel-one-touch-995', 'motorola-droid-razr-maxx-hd', 'lg-ally-vs740-aloha-lu2300']\n",
      "Dirk ['htc-desire-eye-m910x', 'vodafone-smart-ultra-6', 'tp-link-archer-t6e', 'htc-10', 'zte-axon-pro']\n",
      "Jason ['doro-phoneeasy-622', 'htc-7-trophy', 'huawei-w1', 'samsung-galaxy-s8-plus', 'sony-ericsson-k550i']\n",
      "Ed ['htc-one-e9', 'htc-flyer', 'lenovo-vibe-x3', 'lg-lg840', 'htc-7-trophy']\n",
      "Julien ['cubot-x17', 'htc-desire-eye-m910x', 'motorola-moto-x-force-32gb', 'doro-liberto-820', 'samsung-galaxy-mega-6-3-i9200']\n",
      "daniele ['nokia-e60', 'archos-50-helium', 'doogee-dagger-dg550', 'lg-optimus-zone', 'asus-zenfone-2-laser-ze601kl']\n",
      "Tina ['blu-zoey', 'htc-7-trophy', 'motorola-moto-g-turbo-edition', 'blackberry-dtek50', 'lg-optimus-g']\n",
      "Simon ['doro-liberto-820', 'huawei-w1', 'tp-link-archer-t6e', 'motorola-moto-z-droid', 'lg-k500n']\n",
      "# ['huawei-w1', 'nokia-7250', 'motorola-moto-q9m', 'blu-d670u', 'nokia-6210']\n",
      "carlos ['samsung-sgh-x700', 'nokia-5233', 'htc-7-trophy', 'samsung-m8800-pixon', 'alcatel-one-touch-995']\n",
      "Bill ['lenovo-vibe-x3', 'motorola-moto-x-force-32gb', 'asus-zenfone-3-deluxe', 'lg-k500n', 'xiaomi-mi-max']\n",
      "Rodrigo ['samsung-e2550', 'huawei-ascend-mate-2', 'mysaga-c2', 'vodafone-smart-ultra-6', 'asus-zenfone-2-laser-ze601kl']\n",
      "JB ['lg-g-vista-d631-vs880', 'motorola-atrix-hd', 'binatone-the-brick', 'emporia-elegance', 'huawei-p8-max']\n",
      "massimo ['nokia-3410', 'huawei-w1', 'blackberry-pearl-flip-8230', 'sony-ericsson-cedar', 'huawei-ascend-honor-3c']\n",
      "Roberta ['cubot-gt90', 'nokia-x2', 'htc-radar', 'kyocera-loft-s2300', 'doro-phone-easy-615']\n",
      "ÐÐ°ÑÐ°Ð»ÑÑ ['doro-phoneeasy-610gsm', 'nokia-6110-41182', 'huawei-y6-ii-compact', 'yu-yutopia', 'lenovo-phab-2-plus']\n",
      "ÐÐ¾ÑÑÑ ['asus-zenfone-3-deluxe', 'tp-link-archer-t6e', 'motorola-moto-x-force-32gb', 'samsung-galaxy-s8-plus', 'huawei-w1']\n",
      "Renato ['sony-ericsson-w200i', 'archos-50-helium', 'lenovo-moto-g4', 'alcatel-one-touch-995', 'blu-win-hd']\n",
      "Josh ['motorola-moto-x-force-32gb', 'mysaga-c2', 'htc-incredible-s', 'samsung-sph-m540', 'huawei-y6-ii-compact']\n",
      "Michael ['samsung-alias-2-sch-u750', 'samsung-e1170', 'lg-gt350', 'tp-link-archer-t6e', 'sony-xperia-zl']\n",
      "Paul ['motorola-v197', 'acer-liquid-e1', 'lg-g5-titan', 'htc-one-vx', 'htc-flyer']\n",
      "Leonardo ['sony-ericsson-w810i', 'xiaomi-mi-max', 'lg-v10', 'sony-ericsson-w995', 'motorola-v197']\n",
      "ÐÐ¸ÐºÑÐ¾Ñ ['tp-link-archer-t6e', 'nokia-6500-slide', 'doro-phoneeasy-610gsm', 'nokia-2710', 'blu-d670u']\n",
      "Jonas ['nokia-n96', 'oppo-r7-plus', 'motorola-moto-e-2-lte', 'alcatel-one-touch-idol-ultra', 'nokia-1208']\n",
      "Qantas ['nokia-6500-slide', 'htc-one-vx', 'nokia-2710', 'htc-desire-eye-m910x', 'sony-ericsson-w200i']\n",
      "Cesar ['nokia-lumia-810', 'doro-phoneeasy-610gsm', 'xiaomi-mi-max', 'xiaomi-redmi-note-4', 'mysaga-c2']\n",
      "eduardo ['lg-gt350', 'wiko-cink-slim', 'kyocera-s2100', 'mysaga-c2', 'samsung-sgh-t301g']\n",
      "Ruben ['blackberry-venice', 'zte-axon-pro', 'nokia-106', 'doro-phoneeasy-610gsm', 'motorola-moto-x-force-32gb']\n",
      "J ['htc-desire-820', 'doro-phoneeasy-622', 'nokia-2220-slide', 'meizu-pro-6', 'alcatel-one-touch-995']\n",
      "Laurent ['samsung-f400', 'lg-ally-vs740-aloha-lu2300', 'lg-lg730', 'huawei-w1', 'lg-vx-8300']\n",
      "MM ['asus-zenfone-3-deluxe', 'tp-link-archer-t6e', 'huawei-w1', 'htc-one-sv', 'samsung-i8910-hd']\n",
      "pedro ['meizu-mx4-pro', 'htc-7-pro', 'sony-xperia-e4g', 'sony-ericsson-w810i', 'motorola-razr-v3xx']\n",
      "Lucas ['lg-vx-8300', 'lenovo-vibe-x3', 'vodafone-smart-prime-6', 'samsung-galaxy-s6-active-sm-g890', 'motorola-droid-razr-maxx-hd']\n",
      "Valerio ['wiko-cink-slim', 'samsung-galaxy-s8', 'alcatel-ot-918d', 'nokia-lumia-640-lte', 'sony-xperia-ion']\n",
      "Daniela ['sony-ericsson-k750i', 'asus-zenfone-2-laser-ze601kl', 'blackberry-curve-8310', 'nokia-106', 'nokia-asha-205']\n",
      "cristina ['htc-one-vx', 'nokia-e60', 'huawei-w1', 'lg-lg840', 'huawei-gx8']\n",
      "Christine ['samsung-omnia-7', 'huawei-w1', 'asus-zenfone-3-deluxe', 'lg-lg730', 'samsung-sgh-t401g']\n",
      "Marcelo ['doro-phoneeasy-622', 'htc-first', 'asus-zenfone-3-deluxe', 'nokia-2760', 'motorola-moto-x-force-32gb']\n",
      "M ['motorola-atrix-hd', 'huawei-w1', 'sony-ericsson-k750i', 'samsung-i8910-hd', 'nokia-n9']\n",
      "Pedro ['nokia-n9', 'huawei-w1', 'motorola-razr-v3xx', 'samsung-galaxy-s8', 'nokia-x2-01-357765']\n",
      "christian ['samsung-sgh-t401g', 'samsung-galaxy-s6-active-sm-g890', 'motorola-moto-x-force-32gb', 'huawei-ascend-g730', 'zte-blade-s6']\n",
      "ÐÐ¸ÑÐ°Ð»Ð¸Ð¹ ['lg-gx200', 'nokia-6210', 'motorola-xt1225', 'samsung-wave-723-gt-s7230e', 'motorola-moto-z-droid']\n",
      "claudia ['apple-iphone-6s', 'meizu-m1-note', 'motorola-moto-z-droid', 'huawei-u8150', 'samsung-e1081']\n",
      "einem Kunden ['doro-phoneeasy-610gsm', 'lg-gs170', 'yota-yotaphone-2', 'nokia-n81', 'sony-ericsson-cedar']\n",
      "sonia ['doro-phone-easy-410-gsm', 'nokia-x2', 'alcatel-one-touch-995', 'motorola-razr-v3xx', 'meizu-mx4']\n",
      "Roy ['huawei-ascend-mate', 'nokia-n79', 'doro-phoneeasy-612', 'samsung-galaxy-fit', 'sony-xperia-zl']\n",
      "Valentina ['asus-ze500kl', 'alcatel-one-touch-pop-c5-5036d', 'nokia-5800-xpressmusic-tube', 'samsung-omnia-ii-i8000', 'doogee-x6-pro']\n",
      "vijay ['xiaomi-redmi-3', 'tp-link-archer-t6e', 'nokia-2220-slide', 'nokia-e63', 'vodafone-785-smart-4-mini']\n",
      "Claudia ['samsung-c5212', 'samsung-galaxy-s8-plus', 'samsung-sgh-e600', 'lg-voyager-vx-10000', 'nokia-lumia-810']\n",
      "Angela ['motorola-moto-e-2-lte', 'htc-one-vx', 'asus-zenfone-2-laser-ze601kl', 'samsung-s7262-duos-galaxy-ace', 'nokia-2220-slide']\n",
      "Jerry ['motorola-atrix-hd', 'htc-7-trophy', 'mysaga-c2', 'samsung-f400', 'lg-eclipse-4g-lte']\n",
      "Boltun ['blackberry-torch-9810', 'nokia-5130-xpressmusic', 'lg-secret-kf750', 'huawei-g610', 'wiko-robby']\n",
      "Joseph ['samsung-f400', 'wiko-cink-slim', 'huawei-y6-ii-compact', 'meizu-pro-5', 'samsung-sph-m540']\n",
      "George ['alcatel-one-touch-995', 'nokia-6230', 'samsung-galaxy-s8', 'htc-desire-820', 'samsung-galaxy-avant']\n",
      "Cristian ['lg-vx-8300', 'motorola-razr-v3xx', 'zte-axon-pro', 'mysaga-c2', 'motorola-moto-x-force-32gb']\n",
      "Tony ['lg-t300', 'lg-gt350', 'lg-lg840', 'lg-vx-8300', 'lg-500g']\n",
      "Marcel ['samsung-d900', 'lg-vx-8300', 'oukitel-u7-pro', 'jolla-jolla-phone', 'vodafone-smart-ultra-6']\n",
      "ZÃ¡kaznÃ­k ['meizu-m1-note', 'samsung-gt-e2350', 'apple-iphone-7-plus', 'blu-dash-music-4-0-724641', 'samsung-omnia-7']\n",
      "Ron ['samsung-e2370', 'samsung-galaxy-avant', 'lenovo-vibe-x3', 'nokia-lumia-822', 'samsung-e1170']\n",
      "Matteo ['htc-radar', 'blackberry-pearl-3g', 'lg-vx-8300', 'oppo-r7-plus', 'meizu-pro-5']\n",
      "Ana ['motorola-moto-x-force-32gb', 'huawei-w1', 'lenovo-golden-warrior-s8', 'tp-link-archer-t6e', 'doro-liberto-820']\n",
      "ÐÐ²Ð°Ð½ ['htc-sensation-xe', 'lg-optimus-l7-ii-dual', 'alcatel-one-touch-995', 'nokia-5610', 'tp-link-archer-t6e']\n",
      "Philippe ['asus-zenfone-6', 'htc-7-mozart', 'thl-w200s', 'nokia-6500-slide', 'htc-chacha']\n",
      "Abhishek ['zte-zmax-2', 'xiaomi-mi-max', 'asus-zenfone-6', 'sony-xperia-ion', 'nokia-3510i']\n",
      "Manfred ['motorola-moto-z-play', 'samsung-galaxy-s8-plus', 'lg-eclipse-4g-lte', 'motorola-razr-i', 'alcatel-one-touch-995']\n",
      "Luigi ['vodafone-785-smart-4-mini', 'cubot-s600', 'blu-life-8', 'alcatel-one-touch-995', 'htc-7-mozart']\n",
      "ÐÐ²Ð³ÐµÐ½Ð¸Ð¹ ['motorola-moto-x-1-moto-x1-moto-x-2nd-gen', 'microsoft-lumia-540', 'meizu-mx4-pro', 'nokia-x2', 'thl-t100s']\n",
      "ÐÐ»ÐµÐ³ ['lg-g4-stylus-h540', 'htc-desire-820', 'jolla-jolla-phone', 'samsung-galaxy-s8', 'htc-touch-pro-2']\n",
      "Nancy ['nokia-6230', 'yota-yotaphone-2', 'samsung-sgh-a177', 'nokia-n9', 'nokia-n90']\n",
      "Igor ['mysaga-c2', 'nokia-6120-classic', 'dell-venue-pro', 'meizu-mx4', 'samsung-omnia-7']\n",
      "Ð®Ð»Ð¸Ñ ['huawei-ascend-mate-2', 'sony-ericsson-w200i', 'samsung-galaxy-j7-prime', 'nokia-lumia-640-lte', 'samsung-omnia-7']\n",
      "A ['huawei-fusion-2', 'lg-lg730', 'sony-ericsson-k800i', 'lenovo-vibe-x3', 'huawei-ascend-g730']\n",
      "Alvaro ['asus-zenfone-3-deluxe', 'vodafone-smart-ultra-6', 'zte-axon-pro', 'doro-phoneeasy-622', 'meizu-pro-5']\n",
      "victor ['doro-phoneeasy-610gsm', 'htc-one-m8s', 'nokia-x2', 'lg-t300', 'mobistel-cynus-t2']\n",
      "Thierry ['vodafone-785-smart-4-mini', 'palm-pixi-plus', 'samsung-e1230', 'htc-incredible-s', 'motorola-razr-i']\n",
      "Lee ['nokia-asha-205', 'nokia-2710', 'nokia-lumia-822', 'motorola-moto-x-force-32gb', 'nokia-2730-classic']\n",
      "Jimmy ['palm-pixi-plus', 'mysaga-c2', 'huawei-w1', 'lg-voyager-vx-10000', 'lg-octane']\n",
      "giovanni ['lg-eclipse-4g-lte', 'sony-ericsson-aino', 'doro-liberto-820', 'samsung-omnia-7', 'samsung-galaxy-e5']\n",
      "Omar ['lg-gt350', 'nokia-n9', 'zte-zmax-2', 'samsung-f400', 'nokia-lumia-810']\n",
      "Vanessa ['doro-phoneeasy-622', 'htc-one-vx', 'huawei-ascend-mate-2', 'tp-link-archer-t6e', 'htc-7-trophy']\n",
      "ÐÑÑÑÐ¼ ['lg-gt350', 'blackberry-priv', 'doogee-homtom-ht6', 'samsung-galaxy-s8', 'huawei-sonic-u8650']\n",
      "Giacomo ['huawei-nova-plus', 'meizu-pro-5', 'nokia-n81', 'huawei-w1', 'lg-octane']\n",
      "Dennis ['huawei-w1', 'doogee-y6', 'nokia-n9', 'motorola-moto-x-force-32gb', 'lg-octane']\n",
      "Jesus ['huawei-w1', 'motorola-moto-x-force-32gb', 'htc-desire-eye-m910x', 'samsung-f400', 'bq-aquaris-5']\n",
      "Andy ['samsung-galaxy-s8-plus', 'alcatel-one-touch-995', 'nokia-6233', 'lg-g-vista-d631-vs880', 'samsung-e1230']\n",
      "Isabel ['alcatel-one-touch-995', 'lenovo-moto-g4', 'nokia-2323', 'samsung-corby-s3650', 'samsung-galaxy-s8-plus']\n",
      "unknown ['samsung-galaxy-s8-plus', 'oppo-r7-plus', 'huawei-w1', 'samsung-f400', 'motorola-droid-pro']\n",
      "Andreas ['vodafone-smart-ultra-6', 'zte-axon-pro', 'huawei-w1', 'htc-one-sv', 'htc-titan']\n",
      "Nicolas ['doro-phone-easy-410-gsm', 'verykool-s5518', 'oppo-neo-7', 'huawei-honor-6-plus', 'lg-optimus-l7-ii-dual']\n",
      "mauro ['lg-g-flex-d958', 'jolla-jolla-phone', 'blu-life-pure', 'nokia-1100', 'huawei-w1']\n",
      "Giulio ['nokia-asha-303', 'sony-xperia-ion', 'meizu-pro-6', 'lg-eclipse-4g-lte', 'samsung-e1100']\n",
      "Enrique ['lg-stylus-2', 'huawei-mate-9', 'htc-7-mozart', 'htc-desire-eye-m910x', 'wiko-getaway']\n",
      "Kris ['thl-t100s', 'nokia-6210', 'motorola-moto-x-force-32gb', 'samsung-e2121', 'yu-yutopia']\n",
      "Pete ['lg-g-vista-d631-vs880', 'mysaga-c2', 'motorola-w385', 'yu-yutopia', 'samsung-sgh-a157']\n",
      "Klaus ['motorola-xt926', 'htc-flyer', 'nokia-6310i', 'vivo-y51', 'samsung-galaxy-s8']\n",
      "davide ['lenovo-golden-warrior-s8', 'oppo-r7-plus', 'huawei-ascend-g600', 'motorola-ex431g', 'samsung-galaxy-s8-plus']\n",
      "Kelly ['lg-optimus-hub-e510', 'htc-one-vx', 'lg-optimus-g', 'blackberry-pearl-flip-8230', 'doogee-x7-pro']\n",
      "sandra ['yota-yotaphone-2', 'zte-zmax-2', 'mysaga-c2', 'emporia-elegance', 'doro-phoneeasy-610gsm']\n",
      "Elisa ['lg-dare-vx9700', 'lg-vx-8300', 'htc-desire-500', 'cat-b15q', 'huawei-w1']\n",
      "Rene ['samsung-omnia-7', 'sony-xperia-ion', 'nokia-6220-classic', 'lg-voyager-vx-10000', 'emporia-elegance']\n",
      "Marta ['doogee-y6-max', 'xiaomi-redmi-3-pro', 'samsung-galaxy-j2', 'samsung-sph-m540', 'thl-w200s']\n",
      "Jorge ['zte-axon-pro', 'huawei-w1', 'nokia-e63', 'samsung-e2121', 'samsung-omnia-7']\n",
      "Matthias ['lg-g-vista-d631-vs880', 'huawei-w1', 'nokia-n900', 'zte-axon-pro', 'tp-link-archer-t6e']\n",
      "Sophie ['samsung-galaxy-j7-prime', 'samsung-entro-paylo-sph-m270', 'htc-desire-eye-m910x', 'huawei-w1', 'oppo-neo-7']\n",
      "Charles ['motorola-razr-v3xx', 'vodafone-785-smart-4-mini', 'motorola-moto-z-play', 'zte-axon-pro', 'tp-link-archer-t6e']\n",
      "francesca ['samsung-galaxy-mega-6-3-i9200', 'lenovo-golden-warrior-s8', 'blackberry-dtek60', 'doro-liberto-820', 'doro-phoneeasy-610gsm']\n",
      "Paola ['lg-l40-dual-d170-d175', 'kyocera-kona-s2151', 'nokia-x2', 'sony-xperia-ion', 'nokia-6303']\n",
      "Michel ['nokia-7230', 'huawei-w1', 'htc-7-mozart', 'samsung-galaxy-s8', 'nokia-106']\n",
      "Jordi ['doogee-x7-pro', 'htc-7-trophy', 'nokia-3510i', 'samsung-e1050', 'nokia-lumia-640-lte']\n",
      "max ['samsung-galaxy-s8-plus', 'xiaomi-mi-max', 'lg-g5-titan', 'asus-padfone-2', 'huawei-w1']\n",
      "jesus ['doro-liberto-820', 'huawei-p10', 'doogee-y6', 'motorola-moto-x-force-32gb', 'asus-zenfone-3-deluxe']\n",
      "Brandon ['yu-yutopia', 'blackberry-dtek60', 'lenovo-golden-warrior-s8', 'htc-desire-500', 'ttfone-venus-2']\n",
      "Andrea ['htc-one-vx', 'huawei-ascend-mate-2', 'doro-phone-easy-410-gsm', 'motorola-razr-v3xx', 'motorola-razr-i']\n",
      "Jan ['huawei-ascend-mate-2', 'mysaga-c2', 'zte-axon-pro', 'lg-vx-8300', 'blackberry-dtek60']\n",
      "Nathan ['lg-octane', 'asus-zenfone-2-laser-ze601kl', 'motorola-w385', 'xolo-q3000', 'vodafone-smart-prime-6']\n",
      "Javier ['google-pixel', 'lg-g5-titan', 'lava-iris-x1', 'htc-one-x9', 'lg-vx-8300']\n",
      "robert ['zte-axon-pro', 'mysaga-c2', 'sony-ericsson-zylo', 'vodafone-smart-ultra-6', 'sony-ericsson-k750i']\n",
      "Paulo ['huawei-mate-s', 'nokia-5233', 'sony-ericsson-k850i', 'lg-voyager-vx-10000', 'samsung-e1050']\n",
      "Luciano ['motorola-droid-razr-maxx-hd', 'samsung-rogue-u960', 'nokia-2220-slide', 'tp-link-archer-t6e', 'alcatel-one-touch-992d']\n",
      "Adrian ['wiko-cink-slim', 'oukitel-u7-pro', 'acer-liquid-e1', 'meizu-pro-5', 'blackberry-torch-9810']\n",
      "Jordan ['huawei-w1', 'vodafone-smart-ultra-6', 'lg-lg840', 'lenovo-moto-g4-plus', 'tp-link-archer-t6e']\n",
      "jorge ['lg-bello-ii-x150', 'huawei-w1', 'oukitel-u7-pro', 'meizu-pro-5', 'alcatel-onetouch-pixi-4']\n",
      "Matthew ['nokia-1100', 'huawei-w1', 'lg-g-vista-d631-vs880', 'nokia-6310i', 'samsung-galaxy-s8-plus']\n",
      "Kindle Customer ['xiaomi-mi-max', 'asus-zenfone-3-deluxe', 'samsung-omnia-7', 'motorola-moto-x-force-32gb', 'tp-link-archer-t6e']\n",
      "Alejandro ['samsung-f400', 'nokia-2323', 'nokia-lumia-810', 'emporia-elegance', 'meizu-pro-5']\n",
      "Ashish ['huawei-shotx', 'lg-vx-8300', 'emporia-elegance', 'nokia-3510i', 'alcatel-one-touch-995']\n",
      "Alexandre ['samsung-galaxy-avant', 'zte-axon-pro', 'samsung-galaxy-s6-active-sm-g890', 'huawei-ascend-mate-2', 'vodafone-smart-ultra-6']\n",
      "stefano ['lg-vx-8300', 'lg-k500n', 'lg-octane', 'motorola-moto-z-play', 'asus-zenfone-3-deluxe']\n",
      "martin ['nokia-5130-xpressmusic', 'huawei-nova-plus', 'htc-7-trophy', 'lg-octane', 'htc-tytn-ii']\n",
      "Jay ['huawei-nova-plus', 'samsung-galaxy-s8-plus', 'lg-elite-ls696', 'nokia-3510i', 'alcatel-onetouch-go-play']\n",
      "Federica ['lg-ally-vs740-aloha-lu2300', 'xiaomi-mi-max', 'samsung-galaxy-s8-plus', 'asus-zenfone-3-deluxe', 'lg-k500n']\n",
      "Danilo ['yota-yotaphone-2', 'lenovo-moto-g4', 'mysaga-c2', 'nokia-5130-xpressmusic', 'doro-phoneeasy-610gsm']\n",
      "Susan ['samsung-galaxy-s-giorgio-armani-android', 'nokia-5233', 'mysaga-c2', 'lg-octane', 'samsung-galaxy-beam-i8520']\n",
      "Salvatore ['samsung-galaxy-avant', 'yota-yotaphone-2', 'samsung-sgh-t401g', 'sony-xperia-x-f5121', 'alcatel-onetouch-pixi-4']\n",
      "Andre ['lg-bello-ii-x150', 'motorola-moto-x-force-32gb', 'samsung-f400', 'htc-one-m9-plus', 'lenovo-golden-warrior-s8']\n",
      "Paolo ['lg-esteem', 'blackberry-curve-8900', 'blu-vivo-5r', 'samsung-galaxy-a9-pro-dual-sm-a9100', 'htc-thunderbolt']\n",
      "Johannes ['huawei-w1', 'nokia-e51', 'blackberry-venice', 'samsung-blackjack-ii-sgh-i617', 'motorola-moto-x-force-32gb']\n",
      "ÐÐ°Ð´Ð¸Ð¼ ['samsung-galaxy-light', 'lg-vx-8300', 'huawei-g630', 'motorola-moto-x-style', 'htc-one-x9']\n",
      "Oliver ['doro-phone-easy-615', 'nokia-1200', 'htc-desire-530', 'motorola-xt1225', 'oppo-f1']\n",
      "Kevin ['samsung-c3322', 'motorola-moto-e-2-lte', 'nokia-x2', 'motorola-moto-x-force-32gb', 'samsung-sch-i500-showcase-mesmerize']\n",
      "JD ['pantech-caper', 'nokia-3510i', 'doro-phoneeasy-610gsm', 'motorola-razr-v3xx', 'nokia-2323']\n",
      "Alfonso ['sony-ericsson-w810i', 'htc-one-x9', 'nokia-6120-classic', 'samsung-galaxy-avant', 'alcatel-one-touch-995']\n",
      "Ð Ð¾Ð¼Ð°Ð½ ['htc-radar', 'sony-ericsson-c510', 'wiko-robby', 'blackberry-pearl-9100', 'lg-cosmos-2']\n",
      "Amit ['asus-zenfone-3-deluxe', 'meizu-pro-5', 'samsung-i8910-hd', 'huawei-w1', 'samsung-galaxy-s8-plus']\n",
      "Victoria ['wiko-robby', 'yota-yotaphone-2', 'nokia-2710', 'nokia-6500-slide', 'vodafone-smart-ultra-6']\n",
      "ravi ['samsung-galaxy-reverb', 'yu-yunique', 'meizu-pro-5', 'motorola-gleam', 'nokia-6210']\n",
      "Ganesh ['vodafone-smart-ultra-6', 'zte-axon-pro', 'zte-blade-s6', 'huawei-p10', 'lg-vx-8300']\n",
      "Stephanie ['zte-axon-pro', 'lg-g-vista-d631-vs880', 'lg-lg840', 'motorola-moto-x-force-32gb', 'huawei-ascend-mate-2']\n",
      "Anna ['motorola-razr-v3xx', 'samsung-m8800-pixon', 'xiaomi-mi-4c', 'htc-7-trophy', 'htc-incredible-s']\n",
      "Samuel ['lg-g-vista-d631-vs880', 'lg-k500n', 'htc-one-max', 'huawei-ascend-p1', 'alcatel-one-touch-idol-x-plus']\n",
      "ÐÐ¾Ð»ÑÐ·Ð¾Ð²Ð°ÑÐµÐ»Ñ ÑÐºÑÑÐ» ÑÐ²Ð¾Ð¸ Ð´Ð°Ð½Ð½ÑÐµ ['samsung-f400', 'wiko-cink-slim', 'meizu-pro-5', 'samsung-b3310', 'samsung-galaxy-reverb']\n",
      "Karin ['nokia-6230i', 'yu-yutopia', 'samsung-sch-i500-showcase-mesmerize', 'samsung-entro-paylo-sph-m270', 'nokia-n80']\n",
      "Olivier ['yu-yutopia', 'sony-xperia-ion', 'samsung-wave-723-gt-s7230e', 'mysaga-c2', 'alcatel-one-touch-995']\n",
      "Dan ['doro-phoneeasy-622', 'huawei-w1', 'nokia-3410', 'samsung-nexus-s', 'htc-one-vx']\n",
      "Rachel ['doro-phoneeasy-610gsm', 'motorola-droid-pro', 'mysaga-c2', 'alcatel-onetouch-go-play', 'dell-venue-pro']\n",
      "alberto ['acer-liquid-z520', 'nokia-5610', 'sony-ericsson-cedar', 'htc-legend', 'nokia-6210']\n",
      "claudio ['motorola-moto-x-force-32gb', 'xiaomi-mi-max', 'xiaomi-redmi-3-pro', 'samsung-galaxy-mega-5-8', 'pantech-hotshot']\n",
      "ÐÐ½ÑÐ¾Ð½ ['blackberry-dtek60', 'nokia-lumia-735', 'zte-axon-pro', 'lg-bello-ii-x150', 'motorola-moto-z-play']\n",
      "Annie ['oneplus-3t', 'lg-g-vista-d631-vs880', 'lg-g5-titan', 'nokia-6233', 'samsung-e1100']\n",
      "rafael ['thl-4000', 'thl-t100s', 'doro-phone-easy-615', 'samsung-c3322', 'htc-one-max']\n",
      "Fabio ['yu-yutopia', 'lg-rumor2', 'oukitel-u7-pro', 'nokia-6303', 'samsung-galaxy-mega-6-3-i9200']\n",
      "Vicky ['nokia-6210', 'huawei-ideos-x3', 'nokia-2323', 'nokia-lumia-810', 'samsung-galaxy-s-relay-4g']\n",
      "Alan ['nokia-n9', 'htc-one-m9-plus', 'asus-zenfone-3-deluxe', 'lg-p940', 'tp-link-archer-t6e']\n",
      "Kim ['lg-g5-titan', 'meizu-pro-5', 'blu-d670u', 'nokia-6120-classic', 'oppo-r7-plus']\n",
      "Ð¡ÐµÑÐ³ÐµÐ¹ ['nokia-asha-205', 'lg-vx-8300', 'sony-ericsson-w200i', 'vodafone-smart-ultra-6', 'motorola-razr-v3xx']\n",
      "Anne ['mysaga-c2', 'emporia-elegance', 'samsung-galaxy-reverb', 'htc-incredible-s', 'archos-3-5-home-connect']\n",
      "Carmen ['htc-7-trophy', 'lenovo-vibe-k5-plus', 'nokia-2220-slide', 'htc-touch-diamond-2', 'asus-zenfone-2-laser-ze601kl']\n",
      "carlo ['samsung-galaxy-s6-active-sm-g890', 'lg-v10', 'samsung-omnia-7', 'motorola-razr-v3xx', 'vodafone-smart-ultra-6']\n",
      "Dominik ['thl-w200s', 'lg-eclipse-4g-lte', 'nokia-e51', 'lg-vortex', 'samsung-e1230']\n",
      "Pseudonym ['tp-link-archer-t6e', 'huawei-w1', 'oppo-r7-plus', 'doro-liberto-820', 'lg-eclipse-4g-lte']\n",
      "roberto ['htc-one-m9-plus', 'acer-liquid-z520', 'nokia-n86', 'htc-nexus-one', 'nokia-e63']\n",
      "Dominique ['lg-esteem', 'thl-w200', 'htc-7-pro', 'motorola-v197', 'lg-eclipse-4g-lte']\n",
      "Ð¡Ð°ÑÐ° ['cubot-p6', 'huawei-nova-plus', 'samsung-e1100', 'doro-liberto-820', 'motorola-droid-pro']\n",
      "Santiago ['emporia-elegance', 'samsung-s7262-duos-galaxy-ace', 'htc-tytn-ii', 'huawei-ascend-g600', 'huawei-ascend-g730']\n",
      "B ['lg-g5-titan', 'motorola-moto-x-force-32gb', 'lg-octane', 'yota-yotaphone-2', 'motorola-v197']\n",
      "Yvonne ['lg-octane', 'blu-d610a', 'vodafone-smart-ultra-6', 'doro-phoneeasy-622', 'lenovo-ideaphone-s960']\n",
      "AndrÃ© ['oppo-f1', 'oppo-r7-plus', 'mysaga-c2', 'nokia-6210', 'oppo-neo-7']\n",
      "Teresa ['nokia-n81', 'xiaomi-mi-max', 'mobistel-cynus-t2', 'htc-7-trophy', 'htc-one-vx']\n",
      "Rajesh ['mysaga-c2', 'oppo-r7-plus', 'doro-phoneeasy-610gsm', 'nokia-2323', 'samsung-f400']\n",
      "Ð¡Ð²ÐµÑÐ»Ð°Ð½Ð° ['tp-link-archer-t6e', 'nokia-n9', 'htc-desire-500', 'htc-desire-z', 'lg-leon-h324']\n",
      "Massimo ['alcatel-one-touch-995', 'nokia-808', 'sony-xperia-x-performance-f8131', 'huawei-g6620', 'nokia-2710']\n",
      "Terry ['tp-link-archer-t6e', 'huawei-w1', 'nokia-lumia-640-lte', 'alcatel-one-touch-995', 'archos-50-helium']\n",
      "sergio ['nokia-n9', 'lg-stylus-2', 'doro-liberto-820', 'motorola-razr-v3xx', 'xiaomi-mi-max']\n",
      "Christoph ['motorola-droid-2-global', 'samsung-f400', 'nokia-6085', 'oppo-r7-plus', 'nokia-n79']\n",
      "JP ['meizu-pro-5', 'oukitel-u7-pro', 'samsung-s7070', 'samsung-nexus-s', 'mysaga-c2']\n",
      "DJ ['htc-one-vx', 'lenovo-golden-warrior-s8', 'vodafone-smart-ultra-6', 'doro-liberto-820', 'motorola-razr-v3xx']\n",
      "Patrick ['emporia-elegance', 'nokia-2710', 'archos-50-diamond', 'xiaomi-mi-max', 'zte-axon-pro']\n",
      "Sandro ['doogee-x7-pro', 'xiaomi-mi-3', 'nokia-c7-277394', 'motorola-razr-v3xx', 'asus-zenfone-2-laser-ze601kl']\n",
      "David ['yu-yutopia', 'samsung-omnia-7', 'oppo-neo-7', 'doro-phoneeasy-610gsm', 'nokia-6120-classic']\n",
      "Ben ['doogee-y6', 'ttfone-venus-2', 'motorola-razr-hd', 'mysaga-c2', 'nokia-7250']\n",
      "Roman ['htc-one-a9-16gb', 'samsung-nexus-s', 'blu-vivo-5r', 'tp-link-archer-t6e', 'huawei-ascend-p1']\n",
      "Sandy ['blackberry-dtek60', 'huawei-w1', 'doro-phoneeasy-610gsm', 'nokia-n9', 'samsung-galaxy-xcover-3-ve']\n",
      "Alexis ['samsung-e2550', 'alcatel-one-touch-995', 'doro-phoneeasy-610gsm', 'nokia-1100', 'blu-d670u']\n",
      "paolo ['motorola-moto-e-2-lte', 'nokia-3410', 'oneplus-3t', 'huawei-p10', 'samsung-omnia-7']\n",
      "Mario ['huawei-ascend-mate-2', 'vodafone-smart-prime-6', 'motorola-razr-hd', 'samsung-f400', 'motorola-razr-v3xx']\n",
      "Alias ['samsung-e2121', 'htc-one-x9', 'lg-vx-8300', 'doro-liberto-820', 'samsung-galaxy-reverb']\n",
      "paul ['htc-desire-eye-m910x', 'mysaga-c2', 'alcatel-onetouch-pixi-4', 'alcatel-one-touch-995', 'huawei-nova']\n",
      "Philipp ['wiko-cink-slim', 'wiko-robby', 'htc-one-x9', 'xiaomi-mi-max', 'google-pixel-xl']\n",
      "Petra ['blackberry-venice', 'palm-pixi-plus', 'motorola-moto-x-force-32gb', 'nokia-6233', 'huawei-p10']\n",
      "Ð¢Ð°ÑÑÑÐ½Ð° ['alcatel-ot-918d', 'nokia-7230', 'motorola-moto-z-play', 'lg-v10', 'samsung-galaxy-s8']\n",
      "MK ['lenovo-moto-g4', 'nokia-2710', 'pantech-p9070', 'nokia-5233', 'acer-liquid-e1']\n",
      "Alexandra ['samsung-galaxy-reverb', 'emporia-elegance', 'lg-g-vista-d631-vs880', 'motorola-v197', 'samsung-f400']\n",
      "Denise ['lg-eclipse-4g-lte', 'htc-desire-eye-m910x', 'doro-phoneeasy-622', 'huawei-w1', 'asus-zenfone-2-laser-ze601kl']\n",
      "silvia ['meizu-pro-5', 'lg-voyager-vx-10000', 'samsung-f400', 'oppo-r7-plus', 'samsung-galaxy-s-giorgio-armani-android']\n",
      "mike ['samsung-galaxy-s8-plus', 'zte-zmax-2', 'htc-7-trophy', 'lg-octane', 'lg-t300']\n",
      "ÐÐ¸ÐºÐ¾Ð»Ð°Ð¹ ['nokia-6303', 'htc-incredible-s', 'samsung-ativ-s', 'tp-link-archer-t6e', 'samsung-focus-flash']\n",
      "Marcus ['nokia-lumia-640-lte', 'blackberry-pearl-flip-8230', 'samsung-omnia-7', 'lg-k500n', 'huawei-p8-max']\n",
      "Silvia ['sony-ericsson-w810i', 'wiko-cink-slim', 'alcatel-one-touch-995', 'samsung-omnia-7', 'huawei-p10']\n",
      "Jeff ['vodafone-smart-ultra-6', 'lg-ally-vs740-aloha-lu2300', 'samsung-galaxy-avant', 'samsung-sgh-a177', 'lg-octane']\n",
      "Antonio ['tp-link-archer-t6e', 'samsung-omnia-7', 'motorola-droid-pro', 'nokia-6233', 'cubot-s600']\n",
      "tony ['alcatel-one-touch-idol-ultra', 'doogee-x7-pro', 'samsung-e1230', 'motorola-atrix-2', 'htc-titan']\n",
      "ÐÐ¾Ð½ÑÑÐ°Ð½ÑÐ¸Ð½ ['lg-volt-ls740', 'cat-b15q', 'huawei-ascend-honor-3c', 'apple-iphone-6s-plus', 'htc-one-a9-16gb']\n",
      "Ralf ['htc-titan', 'htc-desire-eye-m910x', 'samsung-galaxy-s6-active-sm-g890', 'sony-ericsson-xperia-pro', 'huawei-ascend-mate-2']\n",
      "Giuseppe ['samsung-omnia-7', 'doro-phoneeasy-610gsm', 'htc-flyer', 'alcatel-ot-918d', 'motorola-atrix-2']\n",
      "Christina ['sony-ericsson-k810i', 'nokia-lumia-810', 'motorola-droid-pro', 'meizu-pro-5', 'elephone-trunk']\n",
      "kevin ['motorola-moto-z-droid', 'nokia-6310i', 'huawei-w1', 'huawei-nova', 'lenovo-moto-g4-plus']\n",
      "Karen ['asus-zenfone-3-deluxe', 'yota-yotaphone-2', 'alcatel-one-touch-995', 'nokia-2710', 'motorola-moto-e-2-lte']\n",
      "Stefan ['alcatel-one-touch-995', 'samsung-s7070', 'palm-pixi-plus', 'tp-link-archer-t6e', 'samsung-galaxy-express-i437']\n",
      "Jennifer ['motorola-moto-x-force-32gb', 'huawei-ascend-mate-2', 'yota-yotaphone-2', 'samsung-gt-e2350', 'sony-ericsson-lt26i-xperia-s']\n",
      "Tim ['lg-g5-titan', 'nokia-n9', 'huawei-ascend-g600', 'motorola-moto-g-turbo-edition', 'nokia-6210']\n",
      "Florian ['asus-zenfone-3-deluxe', 'motorola-razr-v3xx', 'yu-yuphoria', 'lenovo-golden-warrior-s8', 'lg-bello-ii-x150']\n",
      "angelo ['zte-axon-7-mini-5-2', 'nokia-lumia-640-lte', 'tp-link-archer-t6e', 'doro-liberto-820', 'samsung-galaxy-avant']\n",
      "Alberto ['motorola-razr-v3xx', 'motorola-moto-x-force-32gb', 'vodafone-smart-prime-6', 'tp-link-archer-t6e', 'htc-flyer']\n",
      "monica ['zte-axon-pro', 'lenovo-vibe-x2', 'mysaga-c2', 'samsung-c3322', 'htc-10']\n",
      "Simone ['motorola-moto-e-2-lte', 'samsung-galaxy-s6-active-sm-g890', 'blu-d670u', 'lg-rumor2', 'zte-z992']\n",
      "Christopher ['asus-zenfone-2-laser-ze601kl', 'microsoft-lumia-540', 'sony-xperia-x-compact', 'vodafone-smart-ultra-6', 'ttfone-pluto']\n",
      "Mike ['htc-one-vx', 'htc-titan', 'asus-zenfone-2-laser-ze601kl', 'acer-liquid-e1', 'htc-one-a9-16gb']\n",
      "Emanuele ['samsung-champ-gt-c3300k', 'asus-zenfone-2-laser-ze601kl', 'cubot-x17', 'microsoft-lumia-532', 'alcatel-one-touch-idol-4s']\n",
      "Pierre ['meizu-pro-5', 'motorola-droid-razr-maxx-hd', 'lg-eclipse-4g-lte', 'nokia-106', 'nokia-lumia-640-lte']\n",
      "pablo ['nokia-2220-slide', 'lg-octane', 'samsung-omnia-7', 'wiko-cink-slim', 'nokia-6210']\n",
      "Joe ['nokia-7230', 'sony-ericsson-lt26i-xperia-s', 'tp-link-archer-t6e', 'nokia-6350', 'doro-phone-easy-410-gsm']\n",
      "Gast ['motorola-moto-x-force-32gb', 'blackberry-dtek50', 'doro-liberto-820', 'blu-win-hd', 'sony-xperia-c4']\n",
      "Ali ['samsung-b3310', 'huawei-w1', 'vivo-y51', 'asus-zenfone-3-deluxe', 'huawei-p8-max']\n",
      "francesco ['samsung-galaxy-s8-plus', 'oukitel-u7-pro', 'tp-link-archer-t6e', 'zte-axon-7-mini-5-2', 'samsung-intensity-ii']\n",
      "Client d'Amazon ['samsung-f400', 'xiaomi-mi-max', 'blu-dash-4-5', 'lg-g-vista-d631-vs880', 'vivo-y51']\n",
      "Eva ['htc-one-vx', 'xiaomi-redmi-3', 'nokia-e60', 'blu-d670u', 'doro-phoneeasy-622']\n",
      "Cliente Amazon ['nokia-1200', 'dell-venue-pro', 'samsung-sgh-a157', 'mobistel-cynus-t2', 'lg-octane']\n",
      "anna ['lg-octane', 'huawei-w1', 'alcatel-onetouch-pixi-4', 'htc-desire-eye-m910x', 'doro-phoneeasy-610gsm']\n",
      "Sonia ['oppo-r7-plus', 'htc-one-vx', 'huawei-w1', 'nokia-asha-205', 'blackberry-z3']\n",
      "Carol ['htc-incredible-s', 'htc-desire-820', 'zte-axon-pro', 'nokia-2710', 'sony-xperia-zl']\n",
      "Raul ['huawei-nova', 'nokia-lumia-810', 'nokia-x2', 'nokia-2710', 'samsung-galaxy-apollo-gt-i5510']\n",
      "Melanie ['lenovo-vibe-x3', 'lenovo-moto-g4-plus', 'htc-one-vx', 'motorola-moto-x-force-32gb', 'nokia-2710']\n",
      "Anita ['huawei-w1', 'huawei-ascend-honor-3c', 'nokia-2323', 'htc-one-m8s', 'samsung-e1100']\n",
      "Roger ['doogee-dg2014', 'samsung-f400', 'doro-phoneeasy-610gsm', 'oppo-r7-plus', 'samsung-e1230']\n",
      "JC ['asus-zenfone-2-laser-ze601kl', 'htc-one-m9-plus', 'sony-ericsson-w850i', 'blu-vivo-air', 'blackberry-curve-8310']\n",
      "Julio ['sony-ericsson-w200i', 'alcatel-one-touch-995', 'asus-zenfone-6', 'lg-lg730', 'htc-one-m9-plus']\n",
      "AnÃ³nimo ['oppo-r7-plus', 'wiko-cink-slim', 'lg-lg840', 'nokia-6210', 'samsung-f400']\n",
      "Bob ['emporia-elegance', 'asus-zenfone-3-deluxe', 'alcatel-one-touch-995', 'mysaga-c2', 'blackberry-curve-8310']\n",
      "ÐÐ¸ÐºÑÐ¾ÑÐ¸Ñ ['huawei-ascend-honor-3c', 'sony-xperia-acro-s', 'huawei-w1', 'pantech-crossover', 'sony-ericsson-w200i']\n",
      "Ð ÑÑÐ»Ð°Ð½ ['htc-7-trophy', 'sony-xperia-sl', 'kyocera-kona-s2151', 'htc-one-a9-16gb', 'blu-d270a']\n",
      "Rahul ['casio-g-zone-ravine-2', 'huawei-ascend-g730', 'meizu-pro-5', 'nokia-6500-slide', 'asus-zenfone-6']\n",
      "Jen ['zte-axon-pro', 'vodafone-smart-ultra-6', 'nokia-6350', 'motorola-moto-z-play', 'samsung-e1170']\n",
      "Fabian ['htc-one-x9', 'huawei-p8-max', 'meizu-mx4-pro', 'htc-7-trophy', 'motorola-ex431g']\n",
      "Nicole ['nokia-3510i', 'nokia-2710', 'mysaga-c2', 'nokia-n900', 'sony-ericsson-cedar']\n",
      "Michele ['pantech-p9070', 'motorola-moto-z-play', 'doogee-y6-max', 'nokia-3410', 'nokia-asha-205']\n",
      "Jake ['doro-phoneeasy-610gsm', 'alcatel-one-touch-995', 'motorola-droid-pro', 'samsung-galaxy-beam-i8520', 'mysaga-c2']\n",
      "alessandro ['meizu-pro-5', 'apple-iphone-7-plus', 'doogee-y6-max', 'nokia-2760', 'motorola-razr-v3xx']\n",
      "Denis ['samsung-e1182', 'cubot-s108', 'samsung-sph-m540', 'nokia-3510i', 'nokia-107']\n",
      "ÐÐ»Ð°Ð´Ð¸Ð¼Ð¸Ñ ['htc-10', 'alcatel-one-touch-1010d', 'asus-padfone-2', 'sony-ericsson-xperia-pro', 'htc-desire-610']\n",
      "Marina ['meizu-pro-5', 'zte-axon-pro', 'motorola-razr-v3xx', 'huawei-ascend-mate-2', 'doro-liberto-820']\n",
      "Ian ['tp-link-archer-t6e', 'huawei-w1', 'lg-g-vista-d631-vs880', 'htc-flyer', 'lg-v10']\n",
      "MS ['samsung-nexus-s', 'samsung-galaxy-s8-plus', 'samsung-instinct-s30', 'lg-octane', 'tp-link-archer-t6e']\n",
      "michael ['doro-phone-easy-410-gsm', 'tp-link-archer-t6e', 'htc-one-vx', 'htc-one-m9-plus', 'doro-phoneeasy-610gsm']\n",
      "luigi ['samsung-sgh-t401g', 'nokia-n73', 'lg-gt350', 'thl-t100s', 'samsung-omnia-7']\n",
      "bob ['samsung-sgh-a157', 'sony-ericsson-xperia-mini', 'zte-axon-pro', 'motorola-razr-v3xx', 'motorola-droid-2-global']\n",
      "Gonzalo ['lenovo-moto-g4', 'samsung-galaxy-s8-plus', 'nokia-6060', 'samsung-e1081', 'samsung-alias-2-sch-u750']\n",
      "Pat ['oukitel-u7-pro', 'meizu-pro-5', 'blu-life-pure-mini', 'nokia-1200', 'sony-ericsson-k550i']\n",
      "Jack ['nokia-6210', 'lg-bello-ii-x150', 'cubot-one', 'samsung-m8800-pixon', 'mysaga-c2']\n",
      "Jonathan ['motorola-razr-i', 'huawei-ascend-mate-2', 'nokia-2220-slide', 'doro-phoneeasy-610gsm', 'alcatel-one-touch-995']\n",
      "JJ ['yota-yotaphone-2', 'nokia-n70', 'motorola-droid-2-global', 'samsung-sgh-a157', 'samsung-galaxy-avant']\n",
      "mario ['samsung-nexus-s', 'lg-g5-titan', 'huawei-w1', 'htc-one-sv', 'samsung-galaxy-s8-plus']\n",
      "Daniel ['samsung-galaxy-s-giorgio-armani-android', 'doro-phoneeasy-610gsm', 'zte-blade-s6', 'nokia-6230', 'blackberry-pearl-flip-8230']\n",
      "M. ['asus-zenfone-3-deluxe', 'huawei-ascend-mate-2', 'lg-k500n', 'samsung-galaxy-grand-neo-gt-i9060', 'huawei-p10-plus']\n",
      "ÐÐ°ÑÑÑ ['huawei-ascend-p1', 'samsung-omnia-7', 'lg-bello-ii-x150', 'samsung-galaxy-on7', 'sony-xperia-x-dual-f5122']\n",
      "Kate ['emporia-elegance', 'oppo-f1', 'lenovo-golden-warrior-s8', 'yu-yutopia', 'samsung-sph-m540']\n",
      "Francesca ['sony-ericsson-k700i', 'htc-titan', 'lg-eclipse-4g-lte', 'lg-optimus-l7-ii-dual', 'nokia-e51']\n",
      "Miguel Angel ['huawei-nova-plus', 'sony-ericsson-hazel', 'asus-zenfone-6', 'doro-phone-easy-615', 'blu-studio-m-hd']\n",
      "Rick ['nokia-e51', 'lg-vx-8300', 'samsung-galaxy-reverb', 'nokia-7230', 'doogee-y6-max']\n",
      "Anthony ['wiko-cink-slim', 'nokia-n70', 'motorola-xt926', 'htc-first', 'lg-octane']\n",
      "Andrew ['vodafone-smart-ultra-6', 'huawei-ascend-mate-2', 'lg-viewty-snap-gm360', 'pantech-hotshot', 'alcatel-one-touch-995']\n",
      "ÐÐ»ÑÐ³Ð° ['sony-ericsson-lt26i-xperia-s', 'lg-a290', 'samsung-galaxy-avant', 'zte-axon-pro', 'lenovo-moto-g4-plus']\n",
      "Walter ['yota-yotaphone-2', 'nokia-2323', 'sony-ericsson-cedar', 'samsung-galaxy-beam-i8520', 'htc-legend']\n",
      "Ashley ['meizu-pro-5', 'nokia-2220-slide', 'htc-one-x9', 'lg-g-vista-d631-vs880', 'lg-octane']\n",
      "Eric ['oppo-r7-plus', 'xiaomi-mi-max', 'samsung-galaxy-reverb', 'motorola-droid-pro', 'samsung-c3322']\n",
      "Eduardo ['huawei-w1', 'palm-pixi-plus', 'vodafone-smart-prime-6', 'samsung-sph-m540', 'blu-d670u']\n",
      "chris ['samsung-galaxy-reverb', 'nokia-lumia-810', 'mysaga-c2', 'motorola-droid-2-global', 'sony-xperia-ion']\n",
      "Pascal ['sony-xperia-acro-s', 'alcatel-one-touch-995', 'yota-yotaphone-2', 'jolla-jolla-phone', 'htc-one-m9-plus']\n",
      "JÃ¼rgen ['sony-ericsson-w200i', 'htc-desire-820', 'doro-handleplus-334', 'palm-pixi-plus', 'meizu-pro-5']\n",
      "Giulia ['doro-phoneeasy-622', 'htc-titan', 'acer-liquid-z630', 'asus-zenfone-3-deluxe', 'lg-ku990-viewty']\n",
      "salvatore ['asus-zenfone-3-deluxe', 'huawei-y6-ii-compact', 'lg-vx-8300', 'lenovo-moto-g4-plus', 'samsung-focus-flash']\n",
      "Sabine ['asus-zenfone-3-deluxe', 'samsung-galaxy-avant', 'samsung-galaxy-mega-5-8', 'nokia-2220-slide', 'htc-desire-eye-m910x']\n",
      "Sebastian ['nokia-6120-classic', 'motorola-razr-v3xx', 'doogee-dagger-dg550', 'samsung-galaxy-avant', 'samsung-illusion']\n",
      "Andi ['huawei-honor', 'samsung-galaxy-note-3-neo-4g-n7505', 'samsung-nexus-s', 'samsung-c322', 'tp-link-neffos-c5l']\n",
      "Expert Review ['motorola-moto-q9m', 'lg-k500n', 'tp-link-archer-t6e', 'samsung-blackjack-ii-sgh-i617', 'yota-yotaphone-2']\n",
      "Oks ['nokia-asha-501', 'nokia-n9', 'alcatel-one-touch-995', 'huawei-ascend-g750', 'nokia-asha-touch-305']\n",
      "Massimiliano ['motorola-droid-razr-m', 'motorola-razr-v3xx', 'alcatel-one-touch-idol-x-plus', 'blu-life-pure', 'pantech-link-jycp7040']\n",
      "AnÃ´nimo ['huawei-w1', 'alcatel-one-touch-995', 'cubot-x17', 'huawei-shotx', 'blackberry-curve-8330']\n",
      "ÐÐ°Ð²ÐµÐ» ['huawei-ascend-g-300', 'htc-desire-10-lifestyle', 'alcatel-one-touch-idol-ultra', 'lg-e900-optimus-7', 'blu-dash-music-4-0-724641']\n",
      "Raquel ['lg-voyager-vx-10000', 'nokia-2710', 'doro-phoneeasy-610gsm', 'emporia-elegance', 'samsung-f400']\n",
      "ivan ['alcatel-one-touch-995', 'motorola-droid-2-global', 'archos-3-5-home-connect', 'motorola-atrix-2', 'samsung-sph-m900']\n",
      "Naveen ['wiko-robby', 'mysaga-c2', 'samsung-sph-m540', 'sony-xperia-ion', 'alcatel-one-touch-995']\n",
      "frank ['motorola-moto-x-style', 'htc-one-m9-plus', 'doro-phoneeasy-622', 'lenovo-golden-warrior-s8', 'samsung-omnia-7']\n",
      "Amy ['samsung-f400', 'mysaga-c2', 'blackberry-curve-9380', 'samsung-c5212', 'huawei-y6-ii-compact']\n",
      "Christophe ['mysaga-c2', 'emporia-elegance', 'nokia-2323', 'lg-vx-8300', 'kyocera-kona-s2151']\n",
      "Arun ['vivo-v5', 'wiko-cink-slim', 'xiaomi-mi-max', 'motorola-ex431g', 'htc-flyer']\n",
      "Harry ['samsung-e2121', 'samsung-f400', 'archos-50-helium', 'mysaga-c2', 'blackberry-dtek60']\n",
      "Tobias ['xiaomi-redmi-3', 'nokia-6210', 'htc-7-trophy', 'motorola-atrix-2', 'samsung-f400']\n",
      "Greg ['asus-zenfone-3-deluxe', 'samsung-m819-galaxy-mega', 'samsung-i8910-hd', 'samsung-omnia-7', 'sony-ericsson-w995']\n",
      "rick2809 ['nokia-6680', 'blu-d610a', 'nokia-7390', 'sagem-my-x5-2', 'lg-kc550']\n",
      "francisco ['pantech-p9070', 'mysaga-c2', 'nokia-2323', 'wiko-cink-slim', 'samsung-f400']\n",
      "Diego ['blackberry-venice', 'nokia-5310', 'wiko-highway', 'nokia-2220-slide', 'samsung-galaxy-avant']\n",
      "Vincent ['nokia-e51', 'huawei-w1', 'doro-phone-easy-615', 'pantech-caper', 'motorola-ex115']\n",
      "Jon ['nokia-6120-classic', 'yu-yutopia', 'huawei-ascend-mate-2', 'htc-one-m9-plus', 'jolla-jolla-phone']\n",
      "Hans ['nokia-7230', 'samsung-sch-i500-showcase-mesmerize', 'motorola-droid-2-global', 'htc-desire-eye-m910x', 'huawei-y6-ii-compact']\n",
      "Erik ['xiaomi-mi-max', 'nokia-x2', 'htc-incredible-s', 'nokia-asha-205', 'blu-life-8']\n",
      "Ken ['alcatel-one-touch-995', 'nokia-6210', 'nokia-6120-classic', 'doogee-x7-pro', 'htc-7-trophy']\n",
      "miguel ['huawei-ascend-g600', 'samsung-galaxy-mega-5-8', 'sony-ericsson-aino', 'sony-xperia-tx', 'lg-l-fino']\n",
      "Lorenzo ['samsung-sgh-x700', 'samsung-galaxy-s-giorgio-armani-android', 'motorola-razr-v3xx', 'vodafone-smart-prime-6', 'xiaomi-mi-max']\n",
      "Thomas ['htc-flyer', 'motorola-moto-x-force-32gb', 'oukitel-u7-pro', 'samsung-i8910-hd', 'asus-zenfone-3-deluxe']\n",
      "Frank ['lg-g-vista-d631-vs880', 'motorola-xt926', 'nokia-2220-slide', 'xiaomi-mi-max', 'lg-eclipse-4g-lte']\n",
      "Nina ['htc-explorer', 'samsung-sgh-t401g', 'samsung-blackjack-ii-sgh-i617', 'samsung-galaxy-s6-active-sm-g890', 'htc-one-m9-plus']\n",
      "Stephan ['xiaomi-mi-max', 'lg-g-vista-d631-vs880', 'htc-one-vx', 'blackberry-venice', 'samsung-i8910-hd']\n",
      "Monica ['alcatel-one-touch-995', 'meizu-pro-5', 'motorola-moto-g-turbo-edition', 'emporia-elegance', 'samsung-omnia-7']\n",
      "daniel ['xiaomi-mi-max', 'zte-z992', 'doro-phoneeasy-610gsm', 'nokia-6021', 'emporia-elegance']\n",
      "MarÃ­a ['samsung-f400', 'nokia-6230', 'meizu-pro-5', 'emporia-elegance', 'lg-octane']\n",
      "Nicola ['alcatel-one-touch-idol-ultra', 'lg-kp100', 'blackberry-pearl-9100', 'thl-t100s', 'samsung-wave-ii-s8530']\n",
      "Raj ['samsung-f400', 'nokia-lumia-810', 'samsung-sph-m540', 'doogee-x7-pro', 'meizu-mx4']\n",
      "ana ['samsung-u800-soul', 'nokia-2710', 'wiko-robby', 'htc-evo-3d', 'google-pixel-xl']\n",
      "ÐÐ»Ð¸Ð½Ð° ['doro-phoneeasy-610gsm', 'alcatel-one-touch-995', 'nokia-6120-classic', 'motorola-moto-g5', 'blackberry-9720']\n",
      "Jens ['motorola-moto-x-force-32gb', 'oppo-r7-plus', 'tp-link-archer-t6e', 'doro-liberto-820', 'doogee-y6']\n",
      "antonio ['huawei-y6-ii-compact', 'archos-50-helium', 'motorola-razr-v3xx', 'samsung-galaxy-avant', 'samsung-c3322']\n",
      "Jose Luis ['htc-one-m9-plus', 'huawei-w1', 'alcatel-onetouch-pixi-4', 'samsung-s7070', 'doro-phone-easy-410-gsm']\n",
      "ÐÐ»ÐµÐºÑÐµÐ¹ ['samsung-sgh-s425', 'lg-g-vista-d631-vs880', 'emporia-elegance', 'sony-ericsson-w810i', 'samsung-e1100']\n",
      "Alain ['sony-ericsson-xperia-neo', 'samsung-sgh-a177', 'samsung-captivate-glide', 'doro-phone-easy-410-gsm', 'nokia-x2']\n",
      "Alessandro ['lg-v20-h990', 'google-pixel-xl', 'nokia-e60', 'nokia-6600', 'htc-flyer']\n",
      "Pen Name ['nokia-1200', 'nokia-2220-slide', 'yota-yotaphone-2', 'motorola-moto-x-force-32gb', 'vivo-v5']\n",
      "vincent ['dell-venue-pro', 'nokia-n9', 'alcatel-one-touch-995', 'mysaga-c2', 'kyocera-kona-s2151']\n",
      "iceblu_78 ['alcatel-one-touch-995', 'samsung-galaxy-s8-plus', 'samsung-galaxy-on7', 'samsung-m819-galaxy-mega', 'doogee-y6']\n",
      "Roberto ['motorola-va76r', 'htc-desire-eye-m910x', 'htc-incredible-s', 'zte-axon-pro', 'mysaga-c2']\n",
      "Federico ['vodafone-smart-prime-6', 'lg-vx-8300', 'huawei-ascend-g750', 'motorola-razr-hd', 'htc-first']\n",
      "Steven ['lg-eclipse-4g-lte', 'motorola-gleam', 'htc-desire-eye-m910x', 'mysaga-c2', 'htc-sensation-xe']\n",
      "ÐÐµÐ½Ð¸Ñ ['lg-k500n', 'tp-link-archer-t6e', 'lg-eclipse-4g-lte', 'lenovo-moto-g4', 'doro-phone-easy-410-gsm']\n",
      "Pablo ['huawei-w1', 'asus-zenfone-6', 'oppo-r7-plus', 'doro-liberto-820', 'asus-zenfone-3-deluxe']\n",
      "Fernando ['motorola-moto-e-2-lte', 'htc-7-pro', 'tp-link-archer-t6e', 'jolla-jolla-phone', 'sony-ericsson-w200i']\n",
      "Marcos ['samsung-galaxy-s8', 'samsung-galaxy-mega-6-3-i9200', 'samsung-omnia-7', 'mysaga-c2', 'motorola-razr-hd']\n",
      "Lars ['sony-ericsson-cedar', 'lg-g6', 'samsung-e2370', 'zte-blade-s6', 'htc-desire-628']\n",
      "Francisco ['cubot-s550', 'lg-vx-8300', 'mysaga-c2', 'samsung-f400', 'nokia-6120-classic']\n",
      "Stephen ['samsung-galaxy-s8-plus', 'nokia-6350', 'doogee-y6-max', 'huawei-w1', 'palm-pixi-plus']\n",
      "Luis ['samsung-galaxy-s8-plus', 'huawei-w1', 'lg-gt350', 'tp-link-archer-t6e', 'lg-eclipse-4g-lte']\n",
      "Francesco ['motorola-proplus', 'nokia-106', 'emporia-elegance', 'motorola-moto-x-force-32gb', 'lg-k500n']\n",
      "Enrico ['htc-one-m9-plus', 'samsung-e1170', 'binatone-the-brick', 'samsung-sph-m390', 'vivo-v5']\n",
      "Danny ['cubot-s600', 'nokia-asha-205', 'huawei-shotx', 'htc-one-sv', 'samsung-omnia-7']\n",
      "Robin ['asus-zenfone-3-deluxe', 'oppo-r7-plus', 'huawei-w1', 'nokia-lumia-640-lte', 'samsung-galaxy-s8-plus']\n",
      "Paula ['vodafone-smart-ultra-6', 'htc-one-vx', 'tp-link-archer-t6e', 'huawei-w1', 'nokia-6210']\n",
      "Rafa ['samsung-galaxy-note-3-neo-4g-n7505', 'motorola-moto-z-play', 'cubot-gt99', 'nokia-asha-205', 'asus-zc551kl']\n",
      "ÐÐ¼Ð¸ÑÑÐ¸Ð¹ ['meizu-pro-5', 'wiko-cink-slim', 'nokia-6210', 'nokia-5130-xpressmusic', 'doro-phone-easy-410-gsm']\n",
      "Christian ['lg-voyager-vx-10000', 'oppo-r7-plus', 'nokia-3510i', 'samsung-f400', 'nokia-6085']\n",
      "Gianluca ['motorola-w755', 'blu-life-pure-mini', 'sony-ericsson-w200i', 'lg-volt-ls740', 'doogee-x7-pro']\n",
      "Sunny ['meizu-pro-5', 'motorola-droid-pro', 'samsung-e1100', 'nokia-e51', 'mysaga-c2']\n",
      "Carlo ['kyocera-kona-s2151', 'nokia-e51', 'kyocera-s2100', 'doro-phone-easy-410-gsm', 'samsung-e2121']\n",
      "Alessandra ['samsung-galaxy-a7-2016', 'nokia-7610-supernova', 'htc-explorer', 'thl-t100s', 'nokia-2710']\n",
      "Rebecca ['alcatel-one-touch-995', 'nokia-lumia-822', 'archos-50-helium', 'blu-life-8', 'nokia-2710']\n",
      "Stefano ['motorola-moto-z-play', 'samsung-galaxy-s8', 'zte-blade-s6', 'dell-venue-pro', 'lg-rumor2']\n",
      "Marcello ['huawei-ascend-g600', 'mysaga-c2', 'samsung-e1230', 'nokia-1200', 'lg-lg840']\n",
      "diego ['huawei-nova', 'lenovo-vibe-x3', 'motorola-moto-q9m', 'motorola-moto-x-1-moto-x1-moto-x-2nd-gen', 'huawei-nova-plus']\n",
      "D ['emporia-elegance', 'nokia-n70', 'lg-gt350', 'nokia-e60', 'oppo-r7-plus']\n",
      "Heather ['wiko-cink-slim', 'huawei-ascend-g600', 'nokia-6120-classic', 'htc-7-trophy', 'yota-yotaphone-2']\n",
      "Bruno ['lg-l-fino', 'nokia-6021', 'samsung-blackjack-ii-sgh-i617', 'oppo-f1', 'htc-7-pro']\n",
      "Alex ['htc-one-m9-plus', 'lg-octane', 'samsung-sgh-x700', 'blackberry-pearl-flip-8230', 'lg-k500n']\n",
      "Jacob ['samsung-f400', 'motorola-droid-pro', 'lg-gt350', 'htc-one-vx', 'nokia-3510i']\n",
      "Raffaele ['lg-prime-gs390', 'samsung-c5212', 'sony-xperia-v', 'htc-one-sv', 'xiaomi-redmi-3']\n",
      "jose ['sony-ericsson-k550i', 'htc-one-vx', 'nokia-lumia-640-lte', 'motorola-moto-x-force-32gb', 'lenovo-moto-g4-plus']\n",
      "John ['samsung-blackjack-ii-sgh-i617', 'samsung-m819-galaxy-mega', 'lg-lg730', 'nokia-6310i', 'asus-zenfone-3-deluxe']\n",
      "Roland ['blu-life-view', 'motorola-ex431g', 'sony-ericsson-xperia-mini', 'lg-vx-8300', 'lenovo-phab-2-plus']\n",
      "Henry ['doro-phoneeasy-622', 'alcatel-one-touch-995', 'lg-octane', 'sony-ericsson-k550i', 'htc-one-m9-plus']\n",
      "Irene ['htc-titan', 'alcatel-one-touch-idol-ultra', 'nokia-1100', 'samsung-d900', 'lenovo-vibe-x3']\n",
      "Joan ['nokia-x2', 'zte-blade-s6', 'samsung-omnia-ii-i8000', 'dell-venue-pro', 'samsung-e2370']\n",
      "William ['htc-first', 'samsung-galaxy-s8-plus', 'zte-axon-pro', 'lg-eclipse-4g-lte', 'htc-one-vx']\n",
      "Brian ['alcatel-one-touch-995', 'emporia-elegance', 'huawei-p10-plus', 'nokia-6210', 'htc-one-m9-plus']\n",
      "Dave ['lg-optimus-l7-ii-dual', 'lg-vx5400', 'samsung-wave-533-s5330', 'xiaomi-redmi-3', 'lg-g-vista-d631-vs880']\n",
      "Ram ['kyocera-kona-s2151', 'doogee-x7-pro', 'alcatel-one-touch-995', 'lg-eclipse-4g-lte', 'htc-7-trophy']\n",
      "Marc ['htc-10', 'motorola-moto-g-4-plus', 'nokia-7250', 'doogee-y6-max', 'alcatel-one-touch-idol-ultra']\n",
      "Giorgio ['samsung-f400', 'oppo-neo-7', 'motorola-w385', 'nokia-6120-classic', 'blu-d670u']\n",
      "Juan Carlos ['blackberry-dtek60', 'lenovo-vibe-x3', 'lg-gt350', 'nokia-x2-01-357765', 'asus-zenfone-3-deluxe']\n",
      "Manuela ['lg-voyager-vx-10000', 'nokia-lumia-820', 'samsung-galaxy-e5', 'samsung-ativ-s', 'sony-ericsson-f305']\n",
      "thomas ['huawei-ascend-mate-2', 'nokia-lumia-640-lte', 'xiaomi-mi-max', 'samsung-omnia-7', 'samsung-nexus-s']\n",
      "Victor ['motorola-droid-pro', 'samsung-sgh-a177', 'blackberry-torch-9810', 'samsung-e715', 'nokia-6210']\n",
      "Bezlikiy_Djo ['blackberry-dtek50', 'doro-liberto-820', 'blackberry-torch-9810', 'huawei-w1', 'doogee-dagger-dg550']\n",
      "Bernd ['emporia-elegance', 'lg-g5-titan', 'nokia-2710', 'vodafone-smart-ultra-6', 'jolla-jolla-phone']\n",
      "ANTONIO ['htc-one-sv', 'htc-incredible-s', 'huawei-w1', 'huawei-honor-8', 'htc-desire-820']\n",
      "Dani ['blackberry-venice', 'nokia-asha-205', 'samsung-nexus-s', 'htc-one-vx', 'lg-vx-8300']\n",
      "Oscar ['xiaomi-mi-max', 'samsung-c3322', 'htc-one-vx', 'lg-v10', 'vivo-v5']\n",
      "Guido ['sony-xperia-x-f5121', 'motorola-moto-z-play', 'motorola-moto-x-2', 'samsung-ativ-s', 'nokia-n86']\n",
      "ÐÐ°ÑÐ¸Ð½Ð° ['motorola-ex431g', 'meizu-pro-5', 'nokia-lumia-640-lte', 'htc-7-trophy', 'alcatel-one-touch-995']\n",
      "Rose ['htc-desire-z', 'lg-v10', 'motorola-moto-z-droid', 'htc-radar', 'oppo-r7-plus']\n",
      "Robert ['motorola-droid-razr-m', 'motorola-droid-2-global', 'motorola-razr-v3xx', 'samsung-captivate-glide', 'sony-ericsson-t715']\n",
      "Un anonyme ['vodafone-smart-prime-6', 'sony-ericsson-w890i', 'motorola-moto-x-force-32gb', 'vodafone-smart-ultra-6', 'lg-vx-8300']\n",
      "Flipkart Customer ['doogee-y6', 'samsung-galaxy-s6-active-sm-g890', 'doro-liberto-820', 'palm-pixi-plus', 'tp-link-archer-t6e']\n",
      "ÐÐ»Ð°Ð´ ['htc-chacha', 'dell-venue-pro', 'motorola-moto-x-1-moto-x1-moto-x-2nd-gen', 'blu-studio-5-5s', 'nokia-6230']\n",
      "eric ['samsung-e1170', 'htc-one-m9-plus', 'lenovo-golden-warrior-s8', 'nokia-2220-slide', 'samsung-omnia-7']\n",
      "Jessica ['htc-one-x9', 'wiko-cink-slim', 'doro-liberto-820', 'lg-g-vista-d631-vs880', 'samsung-sch-i500-showcase-mesmerize']\n",
      "JesÃºs ['motorola-moto-q9m', 'blu-d610a', 'samsung-f400', 'alcatel-onetouch-pixi-4', 'samsung-galaxy-e5']\n",
      "john ['tp-link-archer-t6e', 'samsung-galaxy-s8', 'samsung-galaxy-avant', 'nokia-lumia-640-lte', 'thl-w200']\n",
      "Wendy ['nokia-6350', 'huawei-w1', 'oppo-r7-plus', 'emporia-elegance', 'lg-optimus-zone']\n",
      "Amazon Customer ['samsung-galaxy-s8', 'htc-7-mozart', 'huawei-nova-plus', 'samsung-e1081', 'samsung-galaxy-express-ii']\n",
      "Justin ['nokia-2220-slide', 'meizu-pro-5', 'asus-zenfone-3-deluxe', 'nokia-n9', 'huawei-w1']\n",
      "Gustavo ['archos-50-helium', 'huawei-honor-3', 'samsung-galaxy-s8', 'tp-link-archer-t6e', 'samsung-galaxy-mega-6-3-i9200']\n",
      "Tom ['lenovo-vibe-x3', 'motorola-droid-pro', 'alcatel-one-touch-995', 'samsung-sgh-x700', 'nokia-2710']\n",
      "Nico ['emporia-elegance', 'htc-one-vx', 'samsung-galaxy-reverb', 'samsung-sgh-i917-focus', 'motorola-moto-x-style']\n",
      "Liz ['doro-phoneeasy-610gsm', 'blackberry-curve-9380', 'xiaomi-redmi-3', 'samsung-u800-soul', 'alcatel-one-touch-995']\n",
      "Carlos ['motorola-moto-g-turbo-edition', 'lenovo-vibe-x2', 'motorola-razr-v3xx', 'samsung-omnia-7', 'xiaomi-mi-max']\n",
      "ÐÐ¸Ñ",
      "Ð°Ð¸Ð» ['motorola-razr-hd', 'htc-incredible-s', 'motorola-w755', 'zte-axon-pro', 'htc-inspire-4g']\n",
      "Martin ['lg-vx-8300', 'nokia-2760', 'tp-link-archer-t6e', 'samsung-galaxy-s6-active-sm-g890', 'zte-blade-s6']\n",
      "patricia ['nokia-6120-classic', 'htc-7-trophy', 'lg-elite-ls696', 'htc-legend', 'doro-phoneeasy-610gsm']\n",
      "Sam ['htc-titan', 'mysaga-c2', 'huawei-ascend-g600', 'lg-chocolate-vx8575', 'thl-t100s']\n",
      "K ['motorola-moto-e-2-lte', 'tp-link-archer-t6e', 'huawei-w1', 'vodafone-smart-ultra-6', 'htc-titan']\n",
      "Patricia ['htc-titan', 'samsung-blackjack-ii-sgh-i617', 'mysaga-c2', 'motorola-moto-e-2-lte', 'samsung-galaxy-on7']\n",
      "Alice ['emporia-elegance', 'xiaomi-redmi-3s', 'binatone-the-brick', 'nokia-6310i', 'htc-one-m9-plus']\n",
      "Ð®ÑÐ¸Ð¹ ['htc-7-pro', 'meizu-m1-note', 'huawei-w1', 'lg-spirit-4g', 'nokia-3410']\n",
      "Jo ['blu-a310a', 'samsung-galaxy-s-giorgio-armani-android', 'thl-t100s', 'meizu-pro-5', 'htc-7-trophy']\n",
      "Alexander ['motorola-moto-z-play', 'tp-link-archer-t6e', 'mysaga-c2', 'alcatel-onetouch-pixi-4', 'motorola-razr-i']\n",
      "Maria ['zte-axon-pro', 'nokia-106', 'motorola-moto-x-force-32gb', 'lg-octane', 'doro-phoneeasy-610gsm']\n",
      "UK Guest ['htc-wildfire-s', 'nokia-2710', 'jiayu-g4s', 'huawei-mate-s', 'huawei-ideos-x3']\n",
      "Vijay ['meizu-pro-5', 'htc-first', 'lenovo-golden-warrior-s8', 'sony-xperia-ion', 'zte-axon-pro']\n",
      "Leo ['samsung-galaxy-s8-plus', 'samsung-gt-s3570', 'alcatel-one-touch-995', 'oppo-r7-plus', 'sharp-aquos-crystal-sh306']\n",
      "Ivan ['nokia-2323', 'htc-titan', 'htc-first', 'nokia-7250', 'caterpillar-b15']\n",
      "ÐÐ¸ÑÐ¸Ð»Ð» ['nokia-2710', 'samsung-sgh-t401g', 'huawei-ascend-g750', 'nokia-e60', 'doro-phone-easy-410-gsm']\n",
      "Miguel ['emporia-elegance', 'mysaga-c2', 'vodafone-smart-prime-6', 'xiaomi-mi-max', 'motorola-razr-v3xx']\n",
      "Kindle-Kunde ['wiko-cink-slim', 'motorola-droid-pro', 'sony-ericsson-k810i', 'alcatel-onetouch-go-play', 'oppo-r7-plus']\n",
      "vincenzo ['oppo-r7-plus', 'nokia-107', 'xiaomi-redmi-note-3-pro', 'samsung-f400', 'cubot-p6']\n",
      "Martina ['xiaomi-mi-max', 'oppo-r7-plus', 'samsung-f400', 'samsung-c5212', 'huawei-ascend-g600']\n",
      "simone ['alcatel-onetouch-pixi-4', 'samsung-c3322', 'yu-yutopia', 'thl-w200s', 'blu-life-play-l100a']\n",
      "Kyle ['htc-one-sv', 'alcatel-one-touch-995', 'motorola-droid-razr-m', 'htc-one-m9-plus', 'asus-zenfone-6']\n",
      "Andres ['samsung-galaxy-s6-active-sm-g890', 'lg-vx-8300', 'samsung-omnia-7', 'samsung-galaxy-express-i437', 'doro-phoneeasy-622']\n",
      "anonym ['samsung-galaxy-s6-active-sm-g890', 'nokia-1800', 'xiaomi-mi-max', 'motorola-moto-x-force-32gb', 'lg-g-vista-d631-vs880']\n",
      "sam ['lg-p940', 'blu-life-pure-mini', 'nokia-n70', 'blackberry-9720', 'oppo-r7-plus']\n",
      "ÐÑÐ¸Ð½Ð° ['alcatel-onetouch-pixi-4', 'nokia-2710', 'lg-l40g', 'sony-ericsson-k700i', 'samsung-galaxy-reverb']\n",
      "fabio ['motorola-moto-z-play', 'doro-phone-easy-410-gsm', 'sony-ericsson-k550i', 'samsung-galaxy-s8-plus', 'samsung-f400']\n",
      "Matt ['emporia-elegance', 'xiaomi-mi-max', 'nokia-3510i', 'alcatel-one-touch-idol-ultra', 'sony-ericsson-k800i']\n",
      "Toni ['blackberry-curve-8310', 'motorola-moto-z-droid', 'tp-link-archer-t6e', 'samsung-gt-e2350', 'huawei-w1']\n",
      "Mattia ['huawei-ascend-g700', 'lg-bello-ii-x150', 'htc-desire-820', 'huawei-ascend-mate', 'sony-xperia-tx']\n",
      "Gaurav ['yu-yutopia', 'asus-zenfone-3-deluxe', 'samsung-galaxy-ring', 'huawei-ascend-g730', 'samsung-sgh-x700']\n",
      "Lucia ['samsung-e2370', 'samsung-sgh-e250', 'motorola-va76r', 'xiaomi-redmi-note-4', 'doro-phoneeasy-610gsm']\n",
      "Alessio ['archos-50-helium', 'xiaomi-mi-3', 'samsung-galaxy-s8', 'lg-l-fino', 'huawei-nova']\n",
      "oscar ['nokia-n9', 'samsung-sgh-a177', 'sony-ericsson-k810i', 'oppo-r7-plus', 'zte-zmax-2']\n",
      "Claudio ['ttfone-venus-2', 'samsung-sgh-a177', 'samsung-galaxy-e5', 'meizu-pro-6', 'thl-w200s']\n",
      "Gary ['sony-ericsson-k700i', 'nokia-n9', 'samsung-galaxy-s8-plus', 'alcatel-one-touch-idol-ultra', 'samsung-m8800-pixon']\n",
      "Aaron ['nokia-e51', 'samsung-galaxy-s8', 'htc-one-vx', 'blu-life-pure-mini', 'yota-yotaphone-2']\n",
      "Aditya ['yu-yutopia', 'motorola-moto-x-force-32gb', 'nokia-106', 'vodafone-smart-ultra-6', 'sony-xperia-zl']\n",
      "Mauro ['blu-life-pure-xl', 'doro-phoneeasy-622', 'samsung-galaxy-s8-plus', 'motorola-razr-v3xx', 'samsung-nexus-s']\n",
      "ÐÐºÐ°ÑÐµÑÐ¸Ð½Ð° ['samsung-e1182', 'asus-zenfone-3-deluxe', 'yota-yotaphone-2', 'huawei-p9-plus', 'nokia-106']\n",
      "JosÃ© ['motorola-w385', 'huawei-w1', 'lg-g-vista-d631-vs880', 'htc-one-sv', 'lg-vx-8300']\n",
      "Amanda ['wiko-cink-slim', 'asus-zenfone-3-deluxe', 'htc-7-trophy', 'zte-axon-pro', 'nokia-n900']\n",
      "Ryan ['zte-zmax-2', 'yu-yutopia', 'huawei-shotx', 'samsung-star-3', 'archos-3-5-home-connect']\n",
      "marco ['motorola-moto-z-droid', 'doro-liberto-820', 'lg-g-vista-d631-vs880', 'asus-zenfone-3-deluxe', 'xiaomi-mi-max']\n",
      "Sandra ['nokia-808', 'sony-xperia-ion', 'mobistel-cynus-t2', 'nokia-e60', 'oukitel-u7-pro']\n",
      "elena ['yu-yutopia', 'motorola-razr-v3xx', 'lg-gt350', 'doro-liberto-820', 'samsung-rugby-ii']\n",
      "matteo ['mobistel-cynus-t2', 'alcatel-one-touch-995', 'huawei-p10', 'nokia-106', 'lenovo-ideaphone-a706']\n",
      "alex ['doogee-dagger-dg550', 'vodafone-785-smart-4-mini', 'samsung-sgh-t401g', 'lg-gt350', 'samsung-f400']\n",
      "Diana ['sony-xperia-zl', 'samsung-sgh-e250', 'nokia-asha-205', 'huawei-w1', 'samsung-wave-533-s5330']\n",
      "Marion ['nokia-n79', 'nokia-3510i', 'nokia-n90', 'kyocera-kona-s2151', 'lg-voyager-vx-10000']\n",
      "manuel ['casio-g-zone-ravine-2', 'htc-first', 'huawei-w1', 'mysaga-c2', 'asus-zenfone-6']\n",
      "narn3049 ['samsung-galaxy-fame-s6810', 'nokia-7230', 'htc-dream-t-mobile-g1', 'htc-titan', 'blu-vivo-air']\n",
      "Guillermo ['htc-one-m9-plus', 'huawei-ascend-mate-2', 'zte-axon-pro', 'huawei-p10-plus', 'htc-one-a9-16gb']\n",
      "Lukas ['lenovo-golden-warrior-s8', 'lg-voyager-vx-10000', 'vodafone-smart-ultra-6', 'htc-one-vx', 'doro-phoneeasy-622']\n",
      "Amazon Kundenrezensionen ['lg-k500n', 'htc-one-e9', 'samsung-galaxy-s8-plus', 'htc-7-trophy', 'nokia-asha-205']\n",
      "Jim ['huawei-w1', 'nokia-106', 'nokia-n97', 'sharp-aquos-crystal-sh306', 'doogee-dagger-dg550']\n",
      "joe ['mysaga-c2', 'wiko-robby', 'motorola-droid-pro', 'nokia-n9', 'cubot-one']\n",
      "Gabriele ['cubot-s600', 'motorola-moto-q9m', 'nokia-n78', 'huawei-ascend-g600', 'lg-optimus-l5-ii-dual-e455-optimus-duet']\n",
      "Giovanni ['lg-gt350', 'tp-link-archer-t6e', 'alcatel-one-touch-idol-ultra', 'oppo-f1', 'emporia-elegance']\n",
      "Adam ['tp-link-archer-t6e', 'samsung-galaxy-s8', 'doogee-y6-max', 'lenovo-golden-warrior-s8', 'vodafone-785-smart-4-mini']\n",
      "Steve ['huawei-y6-ii-compact', 'samsung-blackjack-ii-sgh-i617', 'samsung-e1182', 'nokia-2760', 'tp-link-archer-t6e']\n",
      "juan ['thl-t100s', 'nokia-2220-slide', 'lg-vx-8300', 'htc-desire-820', 'tp-link-archer-t6e']\n",
      "Ray ['lg-vx-8300', 'sony-xperia-zl', 'huawei-gx8', 'nokia-3410', 'alcatel-one-touch-995']\n",
      "Praveen ['pantech-caper', 'nokia-x2', 'oppo-r7-plus', 'mysaga-c2', 'samsung-galaxy-s-giorgio-armani-android']\n",
      "Marie ['motorola-moto-x-force-32gb', 'huawei-ascend-mate-2', 'doogee-y6', 'doro-liberto-820', 'samsung-galaxy-avant']\n",
      "Riccardo ['blackberry-curve-8310', 'nokia-6310i', 'lg-p690', 'nokia-lumia-735', 'samsung-m819-galaxy-mega']\n",
      "Kunde ['lenovo-vibe-x3', 'samsung-galaxy-avant', 'htc-titan', 'sony-xperia-zl', 'mysaga-c2']\n",
      "Will ['nokia-e51', 'archos-50-helium', 'samsung-wave-525-s5250', 'nokia-7230', 'yu-yutopia']\n",
      "bruno ['thl-t100s', 'xiaomi-mi-max', 'motorola-moto-g-4-plus', 'huawei-ascend-p1', 'samsung-galaxy-reverb']\n",
      "Peter ['samsung-galaxy-s6-active-sm-g890', 'zte-axon-pro', 'lg-octane', 'lg-leon-h324', 'motorola-moto-x-style']\n",
      "Fabrizio ['nokia-6210', 'lenovo-golden-warrior-s8', 'sony-xperia-x-performance-f8131', 'alcatel-one-touch-995', 'nokia-5310']\n",
      "Richard ['zte-axon-pro', 'pantech-link-jycp7040', 'samsung-galaxy-s6-active-sm-g890', 'samsung-gt-i8552', 'huawei-ascend-mate-2']\n",
      "Filippo ['htc-7-trophy', 'htc-one-max', 'thl-4000', 'nokia-3110-classic', 'huawei-ascend-honor-3c']\n",
      "enrico ['samsung-sgh-a177', 'mysaga-c2', 'htc-first', 'nokia-6233', 'lg-octane']\n",
      "Luca ['samsung-gusto-3-smb311', 'motorola-va76r', 'samsung-stratosphere-ii', 'hp-ipaq-214', 'lg-k7-x210']\n",
      "Amazon-Kunde ['lg-g5-titan', 'doro-liberto-820', 'lg-g-vista-d631-vs880', 'lg-vx-8300', 'samsung-sgh-a177']\n",
      "Sven ['nokia-5130-xpressmusic', 'oppo-f1', 'alcatel-one-touch-idol-x-plus', 'lg-k500n', 'motorola-moto-x-force-32gb']\n",
      "Sara ['huawei-nova-plus', 'lg-vx-8300', 'tp-link-archer-t6e', 'motorola-razr-v3xx', 'asus-zenfone-2-laser-ze601kl']\n",
      "James ['motorola-droid-pro', 'emporia-elegance', 'blackberry-dtek50', 'yota-yotaphone-2', 'samsung-galaxy-avant']\n",
      "Nadine ['emporia-elegance', 'motorola-razr-v3xx', 'mobistel-cynus-t2', 'zte-zmax-2', 'blu-studio-5-5s']\n",
      "Emma ['huawei-ascend-g730', 'samsung-galaxy-s8-plus', 'blackberry-torch-9810', 'vodafone-785-smart-4-mini', 'huawei-w1']\n",
      "Amazon customer ['asus-zenfone-3-deluxe', 'huawei-ascend-g600', 'lenovo-vibe-x3', 'nokia-asha-205', 'samsung-galaxy-s8']\n",
      "Amazon Kunde ['lg-voyager-vx-10000', 'blackberry-curve-9380', 'htc-one-vx', 'motorola-droid-2-global', 'lg-vx-8300']\n",
      "ÐÐ½Ð½Ð° ['samsung-intercept', 'doro-phoneeasy-610gsm', 'motorola-moto-g-turbo-edition', 'xiaomi-redmi-note-3-pro', 'htc-sensation-xe']\n",
      "ÐÐ°ÑÐ¸Ñ ['htc-one-m8s', 'alcatel-onetouch-pixi-4', 'ttfone-pluto', 'samsung-illusion', 'motorola-razr-i']\n",
      "Rafael ['htc-desire-820', 'sony-xperia-acro-s', 'doogee-x7-pro', 'lenovo-golden-warrior-s8', 'sony-ericsson-w810i']\n",
      "Client Amazon ['nokia-lumia-810', 'wiko-cink-slim', 'samsung-i8910-hd', 'alcatel-one-touch-idol-ultra', 'wiko-robby']\n",
      "Jaime ['tp-link-archer-t6e', 'vodafone-smart-prime-6', 'samsung-galaxy-avant', 'zte-z992', 'samsung-sgh-t401g']\n",
      "Dario ['lg-eclipse-4g-lte', 'lenovo-ideaphone-s820', 'doro-phoneeasy-605', 'samsung-e1310', 'lg-gt350']\n",
      "Manu ['doro-phoneeasy-610gsm', 'samsung-f400', 'sony-ericsson-k550i', 'doro-phone-easy-410-gsm', 'nokia-5233']\n",
      "Daniele ['motorola-moto-q9m', 'nokia-1100', 'htc-one-a9-16gb', 'huawei-w1', 'sony-xperia-xa-ultra']\n",
      "Mirko ['huawei-ascend-mate-2', 'sony-ericsson-w810i', 'nokia-3410', 'nokia-2220-slide', 'samsung-ch-t-335']\n",
      "Bryan ['yu-yutopia', 'xiaomi-redmi-3', 'tp-link-archer-t6e', 'alcatel-one-touch-idol-4s', 'lg-eclipse-4g-lte']\n",
      "javier ['emporia-elegance', 'doogee-x7-pro', 'doro-phoneeasy-610gsm', 'motorola-ex431g', 'samsung-f400']\n",
      "michele ['doro-phoneeasy-605', 'htc-one-vx', 'cubot-gt90', 'doogee-x7-pro', 'nokia-n9']\n",
      "ÐÑÑÐµÐ¼ ['samsung-i8910-hd', 'samsung-sgh-i900-omnia', 'elephone-s7', 'huawei-g6620', 'motorola-moto-x-style']\n",
      "giorgio ['huawei-y6-ii-compact', 'mysaga-c2', 'blu-dash-4-5', 'alcatel-one-touch-idol-ultra', 'oppo-r7-plus']\n",
      "Franco ['blu-vivo-5r', 'htc-desire-820', 'samsung-galaxy-j7-prime', 'zte-blade-s6', 'lg-vx-8300']\n",
      "Rob ['vodafone-smart-ultra-6', 'samsung-galaxy-s8', 'lenovo-golden-warrior-s8', 'lg-vx-8300', 'motorola-droid-razr-maxx-hd']\n",
      "Charlie ['asus-zenfone-3-deluxe', 'zte-blade-s6', 'huawei-w1', 'motorola-moto-z-play', 'motorola-moto-x-force-32gb']\n",
      "Natalia ['motorola-moto-g-turbo-edition', 'alcatel-one-touch-995', 'lenovo-golden-warrior-s8', 'motorola-va76r', 'nokia-asha-205']\n",
      "AJ ['alcatel-one-touch-995', 'samsung-alias-2-sch-u750', 'motorola-moto-x-force-32gb', 'zte-axon-pro', 'rim-blackberry-bold-9930']\n",
      "maurizio ['doro-phoneeasy-610gsm', 'meizu-pro-5', 'lg-p690', 'palm-pixi-plus', 'casio-g-zone-ravine-2']\n",
      "Benjamin ['lg-gt350', 'huawei-w1', 'htc-10', 'zte-axon-pro', 'asus-zenfone-3-deluxe']\n",
      "Scott ['mysaga-c2', 'blu-d670u', 'pantech-breeze-iii', 'yota-yotaphone-2', 'tp-link-archer-t6e']\n",
      "ÐÐ»ÑÑ ['samsung-galaxy-fit', 'nokia-e51', 'ttfone-pluto', 'xiaomi-mi-max', 'htc-7-pro']\n",
      "gabberino93 ['lg-optimus-zone', 'meizu-m1-note', 'xiaomi-redmi-3-pro', 'motorola-w385', 'elephone-trunk']\n",
      "Anja ['vodafone-smart-ultra-6', 'samsung-omnia-7', 'lenovo-vibe-x3', 'samsung-f400', 'motorola-moto-x-force-32gb']\n",
      "Davide ['samsung-e1230', 'samsung-rugby-ii', 'blackberry-pearl-flip-8220', 'tp-link-archer-t6e', 'htc-desire-610']\n",
      "Emily ['yu-yutopia', 'motorola-moto-x-force-32gb', 'wiko-cink-slim', 'zte-axon-pro', 'tp-link-archer-t6e']\n",
      "Marco ['motorola-w385', 'samsung-galaxy-s6-active-sm-g890', 'motorola-moto-z-play', 'yu-yutopia', 'vodafone-smart-prime-6']\n",
      "ÐÑÑÐµÑÐ»Ð°Ð² ['samsung-omnia-ii-i8000', 'samsung-ativ-s', 'acer-liquid-e1', 'sony-ericsson-aino', 'alcatel-one-touch-995']\n",
      "ÐÐ³Ð¾ÑÑ ['lg-l-fino', 'sony-ericsson-k700i', 'mysaga-c2', 'doro-phone-easy-615', 'lg-voyager-vx-10000']\n",
      "Vincenzo ['samsung-galaxy-s8-plus', 'blackberry-passport', 'nokia-6350', 'sony-xperia-ion', 'blackberry-venice']\n",
      "Pietro ['samsung-e1170', 'samsung-galaxy-mega-6-3-i9200', 'htc-one-xplus', 'thl-t100s', 'huawei-honor-6-plus']\n",
      "Wolfgang ['huawei-w1', 'samsung-rugby-ii', 'nokia-e60', 'htc-one-vx', 'lg-v10']\n",
      "david ['nokia-3510i', 'meizu-pro-5', 'mobistel-cynus-t2', 'sony-ericsson-k750i', 'doro-phoneeasy-610gsm']\n",
      "Laura ['huawei-w1', 'lenovo-vibe-x3', 'mobistel-cynus-t2', 'doro-phoneeasy-610gsm', 'doro-phone-easy-410-gsm']\n",
      "Erika ['htc-one-m9-plus', 'yota-yotaphone-2', 'samsung-galaxy-avant', 'samsung-illusion', 'motorola-moto-x-force-32gb']\n",
      "Ravi ['oppo-f1', 'panasonic-p81', 'tp-link-archer-t6e', 'nokia-n70', 'motorola-moto-x-force-32gb']\n",
      "laura ['huawei-w1', 'samsung-f400', 'alcatel-one-touch-995', 'zte-zmax', 'sony-ericsson-k550i']\n",
      "Manuel ['blu-life-8', 'motorola-razr-hd', 'samsung-omnia-7', 'tp-link-archer-t6e', 'huawei-w1']\n",
      "Jane ['mysaga-c2', 'nokia-n81', 'blackberry-pearl-flip-8230', 'wiko-highway', 'htc-titan']\n",
      "Elena ['samsung-e1182', 'palm-pre-2', 'alcatel-onetouch-pixi-4', 'lenovo-vibe-x3', 'samsung-galaxy-avant']\n",
      "Michelle ['kyocera-kona-s2151', 'htc-one-vx', 'lava-iris-x1', 'motorola-moto-g-turbo-edition', 'motorola-droid-razr-maxx-hd']\n",
      "Gabriel ['oukitel-u7-pro', 'meizu-pro-5', 'doro-phoneeasy-610gsm', 'lg-lg840', 'alcatel-one-touch-995']\n",
      "Angel ['meizu-mx4-pro', 'alcatel-one-touch-995', 'nokia-asha-205', 'xiaomi-mi-max', 'motorola-gleam']\n",
      "Barbara ['lg-g6', 'htc-one-vx', 'sony-ericsson-k750i', 'htc-desire-10-lifestyle', 'xiaomi-mi-max']\n",
      "giuseppe ['asus-zenfone-6', 'lg-l-fino', 'nokia-808', 'nokia-n90', 'nokia-n9']\n",
      "Phil ['samsung-galaxy-j7-prime', 'htc-one-m9-plus', 'htc-flyer', 'htc-titan', 'huawei-nova']\n",
      "Markus ['lg-octane', 'motorola-w755', 'huawei-ascend-mate-2', 'nokia-5130-xpressmusic', 'vodafone-smart-ultra-6']\n",
      "Angelo ['samsung-galaxy-s8', 'huawei-shotx', 'samsung-e1050', 'samsung-c3222', 'alcatel-one-touch-995']\n",
      "Julia ['samsung-sgh-e600', 'sony-ericsson-k700i', 'wiko-cink-slim', 'nokia-n9', 'acer-liquid-e1']\n",
      "Javi ['pantech-crossover', 'lenovo-vibe-x3', 'samsung-i8910-hd', 'sony-ericsson-xperia-mini', 'huawei-w1']\n",
      "Cliente de Amazon ['motorola-moto-x-force-32gb', 'zte-axon-pro', 'huawei-w1', 'nokia-n9', 'tp-link-archer-t6e']\n",
      "Emilio ['nokia-e63', 'nokia-6110-41182', 'doogee-y6-max', 'nokia-e60', 'tp-link-archer-t6e']\n",
      "User ['doro-phoneeasy-610gsm', 'mysaga-c2', 'nokia-3110-classic', 'yota-yotaphone-2', 'samsung-galaxy-s8']\n",
      "mark ['lg-k500n', 'samsung-m8800-pixon', 'lg-octane', 'nokia-8800', 'nokia-6500-slide']\n",
      "Jean ['lenovo-moto-g4-plus', 'motorola-moto-z-droid', 'wiko-cink-slim', 'xiaomi-mi-max', 'motorola-moto-x-force-32gb']\n",
      "Al ['htc-7-trophy', 'blackberry-dtek60', 'huawei-ascend-mate-2', 'huawei-w1', 'motorola-w490']\n",
      "Linda ['huawei-w1', 'doro-liberto-820', 'doogee-y6', 'samsung-nexus-s', 'samsung-galaxy-s8-plus']\n",
      "Fran ['meizu-pro-5', 'samsung-f400', 'lg-lg840', 'mysaga-c2', 'oppo-r7-plus']\n",
      "ÐÐ½Ð°ÑÑÐ°ÑÐ¸Ñ ['nokia-lumia-730', 'htc-desire-eye-m910x', 'huawei-ascend-p1', 'nokia-e72', 'motorola-ex431g']\n",
      "Jose ['samsung-stratosphere-ii', 'vodafone-smart-prime-6', 'yu-yutopia', 'doogee-y6-max', 'oppo-neo-7']\n",
      "Mary ['samsung-omnia-7', 'samsung-c3322', 'alcatel-one-touch-995', 'mysaga-c2', 'thl-t200']\n",
      "sara ['htc-one-vx', 'lg-g5-titan', 'lenovo-vibe-x2', 'lg-ally-vs740-aloha-lu2300', 'samsung-omnia-7']\n",
      "Ricardo ['htc-first', 'lg-chocolate-vx8575', 'lg-g-vista-d631-vs880', 'zte-axon-pro', 'samsung-c3322']\n",
      "Sean ['casio-g-zone-ravine-2', 'motorola-moto-x-force-32gb', 'nokia-3410', 'samsung-gt-i8552', 'nokia-2220-slide']\n",
      "Deepak ['sony-ericsson-k550i', 'mysaga-c2', 'samsung-galaxy-reverb', 'nokia-n9', 'nokia-2323']\n",
      "Sarah ['nokia-6230', 'samsung-sph-m540', 'blackberry-pearl-flip-8230', 'emporia-elegance', 'lg-octane']\n",
      "Max ['tp-link-archer-t6e', 'samsung-omnia-7', 'sony-ericsson-k750i', 'samsung-alias-2-sch-u750', 'samsung-u800-soul']\n",
      "Flo ['emporia-elegance', 'motorola-razr-hd', 'huawei-w1', 'samsung-galaxy-s8-plus', 'oppo-r7-plus']\n",
      "Anonymous ['motorola-moto-x-force-32gb', 'blackberry-pearl-9100', 'htc-one-m9-plus', 'lenovo-s850', 'nokia-lumia-822']\n",
      "ÐÐ»ÐµÐºÑÐ°Ð½Ð´Ñ ['xiaomi-mi-max', 'samsung-galaxy-e7', 'blu-studio-one-4g-lte', 'huawei-w1', 'huawei-ascend-mate-2']\n",
      "Erkek ['nokia-1100', 'motorola-moto-x-force-32gb', 'htc-10', 'oppo-r7-plus', 'thl-w200s']\n",
      "Sergio ['samsung-sgh-a177', 'samsung-sgh-t301g', 'sony-xperia-ion', 'lg-t300', 'emporia-elegance']\n",
      "Joshua ['xiaomi-mi-max', 'wiko-robby', 'tp-link-archer-t6e', 'lg-g-flex-d958', 'nokia-6210']\n",
      "G ['emporia-elegance', 'samsung-e715', 'nokia-lumia-640-lte', 'motorola-atrix-hd', 'xiaomi-mi-max']\n",
      "Dee ['samsung-galaxy-s8', 'alcatel-one-touch-995', 'mysaga-c2', 'samsung-f400', 'nokia-6233']\n",
      "Mo ['asus-zenfone-2-laser-ze601kl', 'nokia-106', 'samsung-e2121', 'doro-phoneeasy-610gsm', 'lenovo-moto-g4-plus']\n",
      "luis ['vodafone-smart-prime-6', 'huawei-w1', 'samsung-nexus-s', 'asus-zenfone-3-deluxe', 'doogee-y6']\n",
      "fernando ['doro-phoneeasy-622', 'zte-axon-pro', 'vodafone-smart-ultra-6', 'htc-one-m9-plus', 'asus-zenfone-6']\n",
      "Lisa ['vodafone-smart-ultra-6', 'htc-one-vx', 'samsung-galaxy-s8', 'vodafone-785-smart-4-mini', 'sony-ericsson-w850i']\n",
      "maria ['zte-axon-pro', 'motorola-moto-x-force-32gb', 'sony-xperia-zl', 'vodafone-smart-ultra-6', 'samsung-galaxy-avant']\n",
      "Domenico ['vodafone-smart-ultra-6', 'samsung-galaxy-reverb', 'doro-phoneeasy-612', 'nokia-lumia-610', 'xiaomi-redmi-note-4']\n",
      "Jeremy ['caterpillar-s50', 'huawei-nova', 'doro-phoneeasy-622', 'tp-link-archer-t6e', 'huawei-ascend-g750']\n",
      "andrea ['lg-vx-8300', 'doro-phoneeasy-610gsm', 'thl-t200', 'wiko-cink-slim', 'alcatel-one-touch-995']\n",
      "einer Kundin ['samsung-f400', 'samsung-sgh-e250', 'yota-yotaphone-2', 'samsung-sph-m540', 'doro-phone-easy-410-gsm']\n",
      "Cristina ['samsung-galaxy-avant', 'htc-7-trophy', 'blackberry-venice', 'lg-voyager-vx-10000', 'nokia-6350']\n",
      "e-bit ['htc-one-vx', 'lg-g-vista-d631-vs880', 'emporia-elegance', 'doro-phoneeasy-610gsm', 'nokia-6120-classic']\n",
      "Felix ['doro-phoneeasy-610gsm', 'samsung-e1230', 'emporia-elegance', 'htc-one-m9-plus', 'tp-link-archer-t6e']\n",
      "Anonym ['asus-zenfone-6', 'samsung-illusion', 'tp-link-archer-t6e', 'huawei-w1', 'doro-phoneeasy-622']\n",
      "Stefania ['lg-eclipse-4g-lte', 'lg-leon-h324', 'htc-desire-eye-m910x', 'samsung-galaxy-avant', 'motorola-moto-z-play']\n",
      "Chiara ['lg-vx-8300', 'blackberry-leap', 'doogee-y6-max', 'htc-7-mozart', 'blackberry-torch-9810']\n",
      "ÐÐ°ÐºÑÐ¸Ð¼ ['motorola-droid-2-global', 'samsung-captivate-glide', 'nokia-6210', 'nokia-lumia-810', 'oukitel-u8']\n",
      "Julian ['samsung-sph-m390', 'lg-lg840', 'motorola-w385', 'samsung-galaxy-a9-pro-dual-sm-a9100', 'emporia-elegance']\n",
      "anonymous ['samsung-f400', 'mysaga-c2', 'wiko-robby', 'samsung-galaxy-s-giorgio-armani-android', 'alcatel-one-touch-995']\n",
      "Fred ['lg-vx-8300', 'vodafone-smart-ultra-6', 'lg-octane', 'htc-desire-820', 'motorola-moto-e-2-lte']\n",
      "Sabrina ['alcatel-onetouch-pixi-4', 'samsung-galaxy-s8', 'nokia-n9', 'blu-life-pure-mini', 'asus-zenfone-3-deluxe']\n",
      "anonieme bezoeker ['htc-one-m9-plus', 'huawei-w1', 'doogee-y6-max', 'samsung-galaxy-j2', 'samsung-omnia-7']\n",
      "Ale ['samsung-rugby-ii', 'lg-eclipse-4g-lte', 'lg-voyager-vx-10000', 'lg-l40g', 'motorola-gleam']\n",
      "luca ['yota-yotaphone-2', 'samsung-galaxy-express-i437', 'samsung-galaxy-ring', 'oppo-r7-plus', 'asus-zenfone-3-deluxe']\n",
      "ÐÐ½Ð´ÑÐµÐ¹ ['htc-legend', 'blu-d270a', 'nokia-x1-01', 'nokia-5233', 'samsung-omnia-7']\n",
      "Chris ['nokia-lumia-822', 'asus-zenfone-3-deluxe', 'sony-ericsson-cedar', 'lg-vx-8300', 'nokia-6210']\n",
      "ÐÐ³Ð¾Ñ ['nokia-2323', 'samsung-rugby-ii', 'alcatel-onetouch-pixi-4', 'htc-10', 'samsung-galaxy-note-3-neo-4g-n7505']\n",
      "Alfredo ['huawei-w1', 'ttfone-venus-2', 'motorola-droid-razr-m', 'asus-zenfone-3-deluxe', 'huawei-ascend-g600']\n"
     ]
    }
   ],
   "source": [
    "top_n = recommend_product(recommend_df)\n",
    "\n",
    "for uid, user_ratings in top_n.items():\n",
    "    print(uid, [iid for (iid, _) in user_ratings])"
   ]
  },
  {
   "cell_type": "markdown",
   "metadata": {
    "id": "7e0f2pYxb8FM"
   },
   "source": [
    "### Outliers Detection\n",
    "\n",
    "We are going to use SVD model prediction dataset for finding outlier and treating them."
   ]
  },
  {
   "cell_type": "code",
   "execution_count": 118,
   "metadata": {
    "colab": {
     "base_uri": "https://localhost:8080/",
     "height": 195
    },
    "id": "FrUtp7-Zb7wo",
    "outputId": "71e6501a-3a82-4ca8-fd19-db396c532eb0"
   },
   "outputs": [
    {
     "data": {
      "text/html": [
       "<div>\n",
       "<style scoped>\n",
       "    .dataframe tbody tr th:only-of-type {\n",
       "        vertical-align: middle;\n",
       "    }\n",
       "\n",
       "    .dataframe tbody tr th {\n",
       "        vertical-align: top;\n",
       "    }\n",
       "\n",
       "    .dataframe thead th {\n",
       "        text-align: right;\n",
       "    }\n",
       "</style>\n",
       "<table border=\"1\" class=\"dataframe\">\n",
       "  <thead>\n",
       "    <tr style=\"text-align: right;\">\n",
       "      <th></th>\n",
       "      <th>uid</th>\n",
       "      <th>iid</th>\n",
       "      <th>r_ui</th>\n",
       "      <th>est</th>\n",
       "      <th>details</th>\n",
       "    </tr>\n",
       "  </thead>\n",
       "  <tbody>\n",
       "    <tr>\n",
       "      <th>0</th>\n",
       "      <td>Amazon Customer</td>\n",
       "      <td>lg-g2-mini</td>\n",
       "      <td>6.0</td>\n",
       "      <td>6.962846</td>\n",
       "      <td>{'was_impossible': False}</td>\n",
       "    </tr>\n",
       "    <tr>\n",
       "      <th>1</th>\n",
       "      <td>Brian</td>\n",
       "      <td>samsung-galaxy-mega-6-3-i9200</td>\n",
       "      <td>10.0</td>\n",
       "      <td>7.341063</td>\n",
       "      <td>{'was_impossible': False}</td>\n",
       "    </tr>\n",
       "    <tr>\n",
       "      <th>2</th>\n",
       "      <td>Jo</td>\n",
       "      <td>htc-flyer</td>\n",
       "      <td>10.0</td>\n",
       "      <td>6.353554</td>\n",
       "      <td>{'was_impossible': False}</td>\n",
       "    </tr>\n",
       "    <tr>\n",
       "      <th>3</th>\n",
       "      <td>Enrico</td>\n",
       "      <td>huawei-ascend-y5-y560</td>\n",
       "      <td>8.0</td>\n",
       "      <td>8.368273</td>\n",
       "      <td>{'was_impossible': False}</td>\n",
       "    </tr>\n",
       "    <tr>\n",
       "      <th>4</th>\n",
       "      <td>e-bit</td>\n",
       "      <td>motorola-defy</td>\n",
       "      <td>6.0</td>\n",
       "      <td>6.668944</td>\n",
       "      <td>{'was_impossible': False}</td>\n",
       "    </tr>\n",
       "  </tbody>\n",
       "</table>\n",
       "</div>"
      ],
      "text/plain": [
       "               uid                            iid  r_ui       est  \\\n",
       "0  Amazon Customer                     lg-g2-mini   6.0  6.962846   \n",
       "1            Brian  samsung-galaxy-mega-6-3-i9200  10.0  7.341063   \n",
       "2               Jo                      htc-flyer  10.0  6.353554   \n",
       "3           Enrico          huawei-ascend-y5-y560   8.0  8.368273   \n",
       "4            e-bit                  motorola-defy   6.0  6.668944   \n",
       "\n",
       "                     details  \n",
       "0  {'was_impossible': False}  \n",
       "1  {'was_impossible': False}  \n",
       "2  {'was_impossible': False}  \n",
       "3  {'was_impossible': False}  \n",
       "4  {'was_impossible': False}  "
      ]
     },
     "execution_count": 118,
     "metadata": {},
     "output_type": "execute_result"
    }
   ],
   "source": [
    "svd_pred_df.head()"
   ]
  },
  {
   "cell_type": "code",
   "execution_count": 119,
   "metadata": {
    "colab": {
     "base_uri": "https://localhost:8080/",
     "height": 361
    },
    "id": "aPLPqSe-b7s1",
    "outputId": "797da34f-601a-4a88-c3c6-0db51621d1e7"
   },
   "outputs": [
    {
     "data": {
      "image/png": "[encoded data removed]",
      "text/plain": [
       "<Figure size 1152x432 with 2 Axes>"
      ]
     },
     "metadata": {
      "needs_background": "light"
     },
     "output_type": "display_data"
    }
   ],
   "source": [
    "fig, ax = plt.subplots(1, 2, figsize=(16, 6))\n",
    "sns.boxplot(y=svd_pred_df['r_ui'], ax=ax[0])\n",
    "sns.boxplot(y=svd_pred_df['est'], ax=ax[1])\n",
    "plt.show()"
   ]
  },
  {
   "cell_type": "markdown",
   "metadata": {
    "id": "VPQ-mbyrcwR4"
   },
   "source": [
    "#### Observations:\n",
    "1. We can observe in the actual rating by the users, there are no outliers present.\n",
    "2. The estimate rating predicted by SVD, there is high number of outliers present.\n",
    "3. Outliers present in the dataset for the rating 3 or below only.\n",
    "4. First we can try rounding off the est and check for outliers. "
   ]
  },
  {
   "cell_type": "code",
   "execution_count": 120,
   "metadata": {
    "id": "cCfw231wlpgi"
   },
   "outputs": [],
   "source": [
    "# Rounding off the rating \n",
    "svd_pred_df['est_round'] = svd_pred_df['est'].apply(roundOff)"
   ]
  },
  {
   "cell_type": "code",
   "execution_count": 121,
   "metadata": {
    "colab": {
     "base_uri": "https://localhost:8080/",
     "height": 269
    },
    "id": "g4LxDjKJlpZH",
    "outputId": "685b3e61-7bc6-4868-c3c8-6848f843c7fd"
   },
   "outputs": [
    {
     "data": {
      "text/plain": [
       "<AxesSubplot:ylabel='est_round'>"
      ]
     },
     "execution_count": 121,
     "metadata": {},
     "output_type": "execute_result"
    },
    {
     "data": {
      "image/png": "[encoded data removed]",
      "text/plain": [
       "<Figure size 432x288 with 1 Axes>"
      ]
     },
     "metadata": {
      "needs_background": "light"
     },
     "output_type": "display_data"
    }
   ],
   "source": [
    "sns.boxplot(y=svd_pred_df['est_round'])"
   ]
  },
  {
   "cell_type": "code",
   "execution_count": 122,
   "metadata": {
    "colab": {
     "base_uri": "https://localhost:8080/"
    },
    "id": "IcXO3Bled94B",
    "outputId": "ac0f6a65-7aa5-4f23-8d4d-fea42bd08806"
   },
   "outputs": [
    {
     "data": {
      "text/plain": [
       "8.0     3528\n",
       "7.0     3090\n",
       "9.0     2814\n",
       "6.0     2035\n",
       "10.0    1623\n",
       "5.0     1011\n",
       "4.0      509\n",
       "3.0      299\n",
       "2.0       99\n",
       "1.0       13\n",
       "Name: est_round, dtype: int64"
      ]
     },
     "execution_count": 122,
     "metadata": {},
     "output_type": "execute_result"
    }
   ],
   "source": [
    "svd_pred_df['est_round'].value_counts()"
   ]
  },
  {
   "cell_type": "markdown",
   "metadata": {
    "id": "78ou0ZePd11p"
   },
   "source": [
    "#### Conclusion:\n",
    "1. As we can see there are only few outliers present where rating = 1. Either we can drop the records or cap those records at rating = 2."
   ]
  },
  {
   "cell_type": "markdown",
   "metadata": {
    "id": "Ct650v7newHg"
   },
   "source": [
    "## Cross Validation"
   ]
  },
  {
   "cell_type": "code",
   "execution_count": 123,
   "metadata": {
    "id": "SgGdCSmmd1gS"
   },
   "outputs": [],
   "source": [
    "# SVD Model Hyperparameter tuning\n",
    "param_grid = {'n_factors':[50, 100, 150],'n_epochs':[20, 30],  'lr_all':[0.005, 0.01],'reg_all':[0.02, 0.1]}\n",
    "grid_search = GridSearchCV(SVD, param_grid, measures=['rmse'], cv=3)\n",
    "grid_search.fit(dataset)"
   ]
  },
  {
   "cell_type": "code",
   "execution_count": 124,
   "metadata": {
    "colab": {
     "base_uri": "https://localhost:8080/"
    },
    "id": "_j90G21fg57p",
    "outputId": "9a4b4399-0505-4092-a213-0d306330c517"
   },
   "outputs": [
    {
     "data": {
      "text/plain": [
       "{'rmse': {'n_factors': 50, 'n_epochs': 20, 'lr_all': 0.005, 'reg_all': 0.1}}"
      ]
     },
     "execution_count": 124,
     "metadata": {},
     "output_type": "execute_result"
    }
   ],
   "source": [
    "# Best parameters based on GridSearchCV\n",
    "grid_search.best_params"
   ]
  },
  {
   "cell_type": "code",
   "execution_count": 125,
   "metadata": {
    "id": "FHsxmuj4hBKb"
   },
   "outputs": [],
   "source": [
    "svd_mod = SVD(lr_all=grid_search.best_params['rmse']['lr_all'], n_epochs=grid_search.best_params['rmse']['n_epochs'], n_factors=grid_search.best_params['rmse']['n_factors'], reg_all=grid_search.best_params['rmse']['reg_all'])"
   ]
  },
  {
   "cell_type": "code",
   "execution_count": 126,
   "metadata": {
    "colab": {
     "base_uri": "https://localhost:8080/"
    },
    "id": "ahi-2jeHhPHI",
    "outputId": "2a99194a-991f-4dae-c9d3-7c9e6f6e8c57"
   },
   "outputs": [
    {
     "name": "stdout",
     "output_type": "stream",
     "text": [
      "RMSE: 2.8152\n"
     ]
    },
    {
     "data": {
      "text/plain": [
       "2.815228962850359"
      ]
     },
     "execution_count": 126,
     "metadata": {},
     "output_type": "execute_result"
    }
   ],
   "source": [
    "svd_mod.fit(trainset)\n",
    "svd_mod_pred = svd_mod.test(testset)\n",
    "\n",
    "accuracy.rmse(svd_mod_pred)"
   ]
  },
  {
   "cell_type": "code",
   "execution_count": 127,
   "metadata": {
    "colab": {
     "base_uri": "https://localhost:8080/"
    },
    "id": "DPfe5Ux-iHOG",
    "outputId": "d1c54ce6-10c3-4b2a-c521-a402d1f56904"
   },
   "outputs": [
    {
     "name": "stdout",
     "output_type": "stream",
     "text": [
      "Evaluating RMSE, MAE of algorithm SVD on 10 split(s).\n",
      "\n",
      "                  Fold 1  Fold 2  Fold 3  Fold 4  Fold 5  Fold 6  Fold 7  Fold 8  Fold 9  Fold 10 Mean    Std     \n",
      "RMSE (testset)    2.8406  2.8215  2.7934  2.8393  2.8164  2.7677  2.8699  2.7899  2.7625  2.8103  2.8112  0.0320  \n",
      "MAE (testset)     2.2855  2.2681  2.2473  2.2907  2.2645  2.2228  2.3124  2.2385  2.2252  2.2551  2.2610  0.0277  \n",
      "Fit time          2.05    1.90    1.93    1.90    1.96    1.95    2.05    1.98    1.95    1.94    1.96    0.05    \n",
      "Test time         0.04    0.04    0.04    0.04    0.04    0.04    0.04    0.04    0.04    0.04    0.04    0.00    \n",
      "{'test_rmse': array([2.84061528, 2.82146551, 2.79340357, 2.83930493, 2.81643573,\n",
      "       2.7676952 , 2.86987134, 2.78989943, 2.76254392, 2.81029619]), 'test_mae': array([2.28553525, 2.26808506, 2.24729366, 2.29068862, 2.26453892,\n",
      "       2.22278881, 2.31244497, 2.23850694, 2.22522425, 2.25513114]), 'fit_time': (2.050812005996704, 1.9021573066711426, 1.9271833896636963, 1.901153326034546, 1.964085340499878, 1.9547491073608398, 2.0493528842926025, 1.9833166599273682, 1.946465015411377, 1.9402437210083008), 'test_time': (0.03706240653991699, 0.03736567497253418, 0.03718280792236328, 0.03744912147521973, 0.038222551345825195, 0.038932085037231445, 0.03668379783630371, 0.03804373741149902, 0.03714609146118164, 0.037284135818481445)}\n"
     ]
    }
   ],
   "source": [
    "# Cross validation the SVD model\n",
    "print(cross_validate(svd_mod, dataset, measures=['RMSE', 'MAE'], cv=10, verbose=True))"
   ]
  },
  {
   "cell_type": "markdown",
   "metadata": {
    "id": "qQwiBa6zhmmn"
   },
   "source": [
    "#### Observations:\n",
    "1. Based on 10 iterations, we can conclude the model is performing consistently.\n",
    "2. The mean value and separate fold wise score for RMSE and MAE is almost same.\n",
    "3. The Standard Deviation for 10 folds is accepatable.\n",
    "___"
   ]
  },
  {
   "cell_type": "markdown",
   "metadata": {
    "id": "1x2lMftlkUAS"
   },
   "source": [
    "## Popularity Based Recommendation Systems\n",
    "Popularity based recommendation system works on the principle popularity or anything which is in trend based on the simple filters.\n",
    "\n",
    "**In what business scenario you should use popularity based Recommendation Systems?**\n",
    "\n",
    "1. When you don't have any historical data as it does not suffer from cold start problem.\n",
    "2. When a new business opens up even on 1st day recommendation can be provided.\n",
    "\n",
    "Example: \n",
    "* Google News: News filtered by trending and most popular news.\n",
    "* YouTube: Trending videos in the country.\n",
    "* Twitter: Trends based on filtered location by user.\n",
    "* Zomato: Most ordered dish from the particular restaurant.\n",
    "\n",
    "Challenges of popularity based recommendation systems:\n",
    "1. Not personalized based on user.\n",
    "2. It will show same recommendation to every user.\n"
   ]
  },
  {
   "cell_type": "markdown",
   "metadata": {
    "id": "AfVAEFWMkTzT"
   },
   "source": [
    "## Collaborative Filtering Based Recommendation System\n",
    "\n",
    "Collaborative Filtering Based Recommendation System works around the interactions that users have with items which helps in identifying the patterns that data about the items or users itself cannot have.\n",
    "\n",
    "**In what business scenario you should use CF based Recommendation Systems?**\n",
    "\n",
    "1. When you want to provide personalized recommendation for the user based on the similarity between the products or user.\n",
    "2. When you have various categories of products and don't want to restrict to one category for recommendation to user.\n",
    "3. When you want to cross sell the products which can be bought together with the other product.\n",
    "\n",
    "Example:\n",
    "* Amazon: Product recommendation based on recent purchased product\n",
    "* Netflix: Movies recommendation based on recently watched movie.\n",
    "* Facebook: Friends suggestion based on common friends and activity.\n",
    "\n",
    "Limitations of popularity based recommendation systems:\n",
    "1. Product list can be huge while the users might have rated only few products. \n",
    "2. For a new user or item, there won't be enough data to accurate recommendations.\n",
    "3. For recommending to million of users for thousands of products, large amount of computation power is required. "
   ]
  },
  {
   "cell_type": "markdown",
   "metadata": {
    "id": "Zclei5z2PoZR"
   },
   "source": [
    "### Possible methods to improve the recommendation for different users\n",
    "\n",
    "The best way to improve recommendation is by hybrid approach, by combining collaborative filtering, content based filter and other approaches. \n",
    "Hybrid approach can be implemented in several ways:\n",
    "1. by making content-based and collaborative-filtering preddictions separately and then combining them.\n",
    "2. by adding content-based capabilities to collaborative-based approach.\n",
    "3. by adding weightage to predictions by different models and take out the average for final recommendation.\n",
    "4. by deriving new feature from various other features by adding them and give to recommendation algorithm.\n",
    "\n",
    "Netflix is good example of hybrid recommender system. Netflix make recommendations by comparing the watching and searching habits of similar users(Collaborative filtering) as well as offering movies that share the similar characteristics with movies that a user has rated highly(Content Based filtering)."
   ]
  },
  {
   "cell_type": "code",
   "execution_count": null,
   "metadata": {
    "id": "fYB_-fxjD7_Z"
   },
   "outputs": [],
   "source": []
  }
 ],
 "metadata": {
  "colab": {
   "collapsed_sections": [],
   "name": "RecommendationEngine.ipynb",
   "provenance": []
  },
  "kernelspec": {
   "display_name": "Python 3",
   "language": "python",
   "name": "python3"
  },
  "language_info": {
   "codemirror_mode": {
    "name": "ipython",
    "version": 3
   },
   "file_extension": ".py",
   "mimetype": "text/x-python",
   "name": "python",
   "nbconvert_exporter": "python",
   "pygments_lexer": "ipython3",
   "version": "3.8.5"
  }
 },
 "nbformat": 4,
 "nbformat_minor": 1
}
